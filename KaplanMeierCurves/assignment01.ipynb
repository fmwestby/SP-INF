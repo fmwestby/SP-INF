{
 "cells": [
  {
   "cell_type": "markdown",
   "metadata": {},
   "source": [
    "# Assignment 1  Kaplan-Meier Curves\n",
    "\n",
    "**1)** Create a small synthetic event-time dataset with follow up times and event indicators (0 = censored, 1 = event has occured).\n",
    "\n",
    "|Time|Status|\n",
    "|----|------|\n",
    "|   1|     1|\n",
    "|   1|     1|\n",
    "|   2|     1|\n",
    "|   2|     1|\n",
    "|   2|     0|\n",
    "|   3|     1|\n",
    "|   5|     1|\n",
    "|   6|     0|\n",
    "|   8|     1|\n",
    "|  10|     0|"
   ]
  },
  {
   "cell_type": "markdown",
   "metadata": {},
   "source": [
    "**2)** Draw the Kaplan-Meier curve for the data defined in 1) on a piece of paper.\n",
    "\n",
    "|DAYS|#ALIVE|#DIED|P(DYING)  |P(SURVIVING)  |\n",
    "|----|------|-----|----------|--------------|\n",
    "|   0|    10|    0|    0/10=0|       10/10=1|\n",
    "|   1|    10|    2|  2/10=0.2|   1(8/10)=0.8|\n",
    "|   2|     8|    1| 1/8=0.125|  0.8(7/8)=0.7|\n",
    "|   3|     5|    1|   1/5=0.2| 0.7(4/5)=0.56|\n",
    "|   5|     4|    1|  1/4=0.25|0.56(3/4)=0.42|\n",
    "|   8|     2|    1|   1/2=0.5|0.43(1/2)=0.21|\n",
    "|  11|     0|    0|         0|             0|\n",
    "\n",
    "![Kaplan-Meier Curve](../img/capmeier.jpeg)"
   ]
  },
  {
   "cell_type": "markdown",
   "metadata": {},
   "source": [
    "**3)** Implement a function in Julia to calculate the Kaplan-Meier curve, and plot the curve for the data in 1)."
   ]
  },
  {
   "cell_type": "code",
   "execution_count": 6,
   "metadata": {},
   "outputs": [
    {
     "name": "stdout",
     "output_type": "stream",
     "text": [
      "(10,)\n"
     ]
    }
   ],
   "source": [
    "using PlotyJS\n",
    "\n",
    "d_time = [1, 1, 2, 2, 2, 3, 5, 6, 8, 10]\n",
    "d_status = [1, 1, 1, 1, 0, 1, 1, 0, 1, 0]\n",
    "\n",
    "function KaplanMeierCurve(t, stat):\n",
    "    p = []\n",
    "end\n",
    "\n",
    "function KMCplot(t, p, name)\n",
    "    plot(\n",
    "        scatter(\n",
    "            hoverinfo=\"text+name\", \n",
    "            mode=\"lines+markers\", \n",
    "            x=t, \n",
    "            y=p .+ 20, \n",
    "            name=name, \n",
    "            line_shape=\"vh\"\n",
    "        )\n",
    "    )\n",
    "end"
   ]
  },
  {
   "cell_type": "markdown",
   "metadata": {},
   "source": [
    "**4)** Check that the Kaplan-Meier curves on paper and in Julia match."
   ]
  }
 ],
 "metadata": {
  "kernelspec": {
   "display_name": "Julia 1.7.1",
   "language": "julia",
   "name": "julia-1.7"
  },
  "language_info": {
   "file_extension": ".jl",
   "mimetype": "application/julia",
   "name": "julia",
   "version": "1.7.1"
  },
  "orig_nbformat": 4
 },
 "nbformat": 4,
 "nbformat_minor": 2
}
