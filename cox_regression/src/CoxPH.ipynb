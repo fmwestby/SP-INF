{
 "cells": [
  {
   "cell_type": "markdown",
   "metadata": {},
   "source": [
    "Creating dummy data"
   ]
  },
  {
   "cell_type": "code",
   "execution_count": 26,
   "metadata": {},
   "outputs": [
    {
     "data": {
      "text/html": [
       "<div class=\"data-frame\"><p>4 rows × 3 columns</p><table class=\"data-frame\"><thead><tr><th></th><th>Event</th><th>Time</th><th>betaX</th></tr><tr><th></th><th title=\"Int64\">Int64</th><th title=\"Int64\">Int64</th><th title=\"Int64\">Int64</th></tr></thead><tbody><tr><th>1</th><td>0</td><td>2</td><td>1</td></tr><tr><th>2</th><td>1</td><td>4</td><td>2</td></tr><tr><th>3</th><td>1</td><td>4</td><td>3</td></tr><tr><th>4</th><td>1</td><td>8</td><td>4</td></tr></tbody></table></div>"
      ],
      "text/latex": [
       "\\begin{tabular}{r|ccc}\n",
       "\t& Event & Time & betaX\\\\\n",
       "\t\\hline\n",
       "\t& Int64 & Int64 & Int64\\\\\n",
       "\t\\hline\n",
       "\t1 & 0 & 2 & 1 \\\\\n",
       "\t2 & 1 & 4 & 2 \\\\\n",
       "\t3 & 1 & 4 & 3 \\\\\n",
       "\t4 & 1 & 8 & 4 \\\\\n",
       "\\end{tabular}\n"
      ],
      "text/plain": [
       "\u001b[1m4×3 DataFrame\u001b[0m\n",
       "\u001b[1m Row \u001b[0m│\u001b[1m Event \u001b[0m\u001b[1m Time  \u001b[0m\u001b[1m betaX \u001b[0m\n",
       "\u001b[1m     \u001b[0m│\u001b[90m Int64 \u001b[0m\u001b[90m Int64 \u001b[0m\u001b[90m Int64 \u001b[0m\n",
       "─────┼─────────────────────\n",
       "   1 │     0      2      1\n",
       "   2 │     1      4      2\n",
       "   3 │     1      4      3\n",
       "   4 │     1      8      4"
      ]
     },
     "execution_count": 26,
     "metadata": {},
     "output_type": "execute_result"
    }
   ],
   "source": [
    "using DataFrames\n",
    "\n",
    "df = DataFrame(\n",
    "    Event = [0, 1, 1, 1],\n",
    "    Time = [2, 4, 4, 8], \n",
    "    betaX = 1:4\n",
    ")"
   ]
  },
  {
   "cell_type": "markdown",
   "metadata": {},
   "source": [
    "Cox Hazard baseline function"
   ]
  },
  {
   "cell_type": "code",
   "execution_count": 52,
   "metadata": {},
   "outputs": [
    {
     "data": {
      "text/plain": [
       "CoxPH_baseline (generic function with 1 method)"
      ]
     },
     "execution_count": 52,
     "metadata": {},
     "output_type": "execute_result"
    }
   ],
   "source": [
    "function CoxPH_baseline(df)\n",
    "\n",
    "    ll = 0\n",
    "\n",
    "    for i in 1:nrow(df)\n",
    "\n",
    "        ll_temp = 0\n",
    "\n",
    "        if df[i, 1] == 1\n",
    "\n",
    "            for j in i:nrow(df)\n",
    "\n",
    "                ll_temp += exp(df[j, 3])\n",
    "\n",
    "            end\n",
    "\n",
    "            ll += df[i, 3] - log(ll_temp)\n",
    "\n",
    "        end\n",
    "        \n",
    "    end\n",
    "    println(ll)\n",
    "end"
   ]
  },
  {
   "cell_type": "code",
   "execution_count": 54,
   "metadata": {},
   "outputs": [
    {
     "name": "stdout",
     "output_type": "stream",
     "text": [
      "-3.720867651962603\n",
      "-3.815211928888761\n"
     ]
    }
   ],
   "source": [
    "CoxPH_baseline(df)\n",
    "println(5 - 2 * log(exp(2) + exp(3) + exp(4))) #to har samme tid, derfor feil"
   ]
  }
 ],
 "metadata": {
  "kernelspec": {
   "display_name": "Julia 1.7.1",
   "language": "julia",
   "name": "julia-1.7"
  },
  "language_info": {
   "file_extension": ".jl",
   "mimetype": "application/julia",
   "name": "julia",
   "version": "1.7.1"
  },
  "orig_nbformat": 4
 },
 "nbformat": 4,
 "nbformat_minor": 2
}
