{
 "cells": [
  {
   "cell_type": "markdown",
   "metadata": {},
   "source": [
    "# Assignment 2 Cox Regression Analysis with Time-Varying Covariates \n",
    "\n",
    "*Due February 28*\n",
    "\n",
    "\n",
    "In this assignment you will learn to estimate the risks associated with covariates that change over time, such as RNA measurements. The basics of Cox regression are in Chapter 3 of “Applied Survival Analysis”. \n",
    "\n",
    "## Conceptual Questions\n",
    "\n",
    "**1)** What are the advantages and disadvantages of Kaplan-Meier vs Cox Regression Analysis?\n",
    "\n",
    "| |Advantages|Disadvantages|\n",
    "|--|--|--|\n",
    "|Kaplan-Meier|Simple model to implement.|Cannot use multiple parameters. Cannot handle hazard.|\n",
    "|Cox Regression|Can use multiple parameters. Can handle hazard.| |\n",
    "\n",
    "\n",
    "\n",
    "**2)** What additional implementation issues arise when implementing time-varying covariates in Cox regression vs. baseline covariates only?\n",
    "\n",
    "*reference Time-varying covariates in the documentation to the python package “lifelines” https://lifelines.readthedocs.io/en/latest/Time%20varying%20survival%20regression.html*"
   ]
  },
  {
   "cell_type": "markdown",
   "metadata": {},
   "source": [
    "## Coding part:\n",
    "\n",
    "Here we will implement a function for performing Cox regression, and then extend it to time-varying covariates.\n",
    "\n",
    "### Step 1) Test data simulation\n",
    "\n",
    "**1a)** Pick a set of test beta-coefficients (= log Hazard Ratios)\n",
    "for a set of 2-3 “predictors” with data matrix X. You can generate the entries of X with a standard normal distribution.\n"
   ]
  },
  {
   "cell_type": "code",
   "execution_count": 1,
   "metadata": {},
   "outputs": [
    {
     "data": {
      "text/html": [
       "<div class=\"data-frame\"><p>4 rows × 3 columns</p><table class=\"data-frame\"><thead><tr><th></th><th>Event</th><th>Time</th><th>betaX</th></tr><tr><th></th><th title=\"Int64\">Int64</th><th title=\"Int64\">Int64</th><th title=\"Int64\">Int64</th></tr></thead><tbody><tr><th>1</th><td>0</td><td>2</td><td>1</td></tr><tr><th>2</th><td>1</td><td>4</td><td>2</td></tr><tr><th>3</th><td>1</td><td>4</td><td>3</td></tr><tr><th>4</th><td>1</td><td>8</td><td>4</td></tr></tbody></table></div>"
      ],
      "text/latex": [
       "\\begin{tabular}{r|ccc}\n",
       "\t& Event & Time & betaX\\\\\n",
       "\t\\hline\n",
       "\t& Int64 & Int64 & Int64\\\\\n",
       "\t\\hline\n",
       "\t1 & 0 & 2 & 1 \\\\\n",
       "\t2 & 1 & 4 & 2 \\\\\n",
       "\t3 & 1 & 4 & 3 \\\\\n",
       "\t4 & 1 & 8 & 4 \\\\\n",
       "\\end{tabular}\n"
      ],
      "text/plain": [
       "\u001b[1m4×3 DataFrame\u001b[0m\n",
       "\u001b[1m Row \u001b[0m│\u001b[1m Event \u001b[0m\u001b[1m Time  \u001b[0m\u001b[1m betaX \u001b[0m\n",
       "\u001b[1m     \u001b[0m│\u001b[90m Int64 \u001b[0m\u001b[90m Int64 \u001b[0m\u001b[90m Int64 \u001b[0m\n",
       "─────┼─────────────────────\n",
       "   1 │     0      2      1\n",
       "   2 │     1      4      2\n",
       "   3 │     1      4      3\n",
       "   4 │     1      8      4"
      ]
     },
     "execution_count": 1,
     "metadata": {},
     "output_type": "execute_result"
    }
   ],
   "source": [
    "using DataFrames\n",
    "\n",
    "df_test = DataFrame(\n",
    "    Event = [0, 1, 1, 1],\n",
    "    Time = [2, 4, 4, 8], \n",
    "    betaX = 1:4\n",
    ")"
   ]
  },
  {
   "cell_type": "markdown",
   "metadata": {},
   "source": [
    "From article\n",
    "T = 100\n",
    "time = [1:101]\n",
    "k = [1, 30, 35, 39, 44, 60, 71, 80, 95, 101]  [1:10]\n",
    "heights = [0.0000000, 0.1099288, 0.2112084, 0.2702198, 0.3528798, 0.4038134, 0.4548563, 0.5743559, 0.7256261, 1.0000000] [1:10]\n",
    "\n",
    "tk = \n",
    "| |time|height|\n",
    "|-|-|-|\n",
    "|1|1|0.0000000|\n",
    "|2|30|0.1099288|\n",
    "|3|35|0.2112084|\n",
    "|4|39|0.2702198|\n",
    "|5|44|0.3528798|\n",
    "|6|60|0.4038134|\n",
    "|7|71|0.4548563|\n",
    "|8|80|0.5743559|\n",
    "|9|95|0.7256261|\n",
    "|10|101|1.0000000|\n",
    "\n",
    "bl.failure.CDF\n",
    "  [1] 0.000000e+00 4.507311e-06 3.605849e-05 1.216974e-04 2.884679e-04\n",
    "  [6] 5.634138e-04 9.735791e-04 1.546008e-03 2.307743e-03 3.285830e-03\n",
    " [11] 4.507311e-03 5.999231e-03 7.788633e-03 9.902562e-03 1.236806e-02\n",
    " [16] 1.521217e-02 1.846194e-02 2.214442e-02 2.628664e-02 3.091564e-02\n",
    " [21] 3.605849e-02 4.174220e-02 4.799384e-02 5.484045e-02 6.230906e-02\n",
    " [26] 7.042673e-02 7.922049e-02 8.871740e-02 9.894448e-02 1.099288e-01\n",
    " [31] 1.251110e-01 1.458804e-01 1.691866e-01 1.919793e-01 2.112084e-01\n",
    " [36] 2.267433e-01 2.411218e-01 2.552964e-01 2.702198e-01 2.872822e-01\n",
    " [41] 3.059750e-01 3.244027e-01 3.406695e-01 3.528798e-01 3.618454e-01\n",
    " [46] 3.696919e-01 3.764938e-01 3.823258e-01 3.872625e-01 3.913784e-01\n",
    " [51] 3.947483e-01 3.974467e-01 3.995482e-01 4.011275e-01 4.022590e-01\n",
    " [56] 4.030176e-01 4.034777e-01 4.037139e-01 4.038010e-01 4.038134e-01\n",
    " [61] 4.040392e-01 4.047951e-01 4.061987e-01 4.083675e-01 4.114193e-01\n",
    " [66] 4.154715e-01 4.206418e-01 4.270478e-01 4.348072e-01 4.440374e-01\n",
    " [71] 4.548563e-01 4.672661e-01 4.809026e-01 4.953330e-01 5.101246e-01\n",
    " [76] 5.248448e-01 5.390607e-01 5.523396e-01 5.642489e-01 5.743559e-01\n",
    " [81] 5.823789e-01 5.886411e-01 5.936169e-01 5.977805e-01 6.016061e-01\n",
    " [86] 6.055682e-01 6.101411e-01 6.157989e-01 6.230161e-01 6.322669e-01\n",
    " [91] 6.440257e-01 6.587667e-01 6.769642e-01 6.990925e-01 7.256261e-01\n",
    " [96] 7.570210e-01 7.936614e-01 8.359135e-01 8.841432e-01 9.387167e-01\n",
    "[101] 1.000000e+00\n",
    "\n"
   ]
  },
  {
   "cell_type": "code",
   "execution_count": 22,
   "metadata": {},
   "outputs": [
    {
     "data": {
      "text/plain": [
       "10-element Vector{Float64}:\n",
       " 0.0\n",
       " 0.1099288\n",
       " 0.2112084\n",
       " 0.2702198\n",
       " 0.3528798\n",
       " 0.4038134\n",
       " 0.4548563\n",
       " 0.5743559\n",
       " 0.7256261\n",
       " 1.0"
      ]
     },
     "execution_count": 22,
     "metadata": {},
     "output_type": "execute_result"
    }
   ],
   "source": [
    "# constants\n",
    "T = 100\n",
    "knots = 8 \n",
    "time = 1:(T+1)\n",
    "\n",
    "# random vars - must be changed\n",
    "k = [1, 30, 35, 39, 44, 60, 71, 80, 95, 101]\n",
    "heights = [0.0000000, 0.1099288, 0.2112084, 0.2702198, 0.3528798, 0.4038134, 0.4548563, 0.5743559, 0.7256261, 1.0000000]"
   ]
  },
  {
   "cell_type": "code",
   "execution_count": 23,
   "metadata": {},
   "outputs": [
    {
     "data": {
      "text/html": [
       "<div class=\"data-frame\"><p>10 rows × 2 columns</p><table class=\"data-frame\"><thead><tr><th></th><th>time</th><th>heights</th></tr><tr><th></th><th title=\"Int64\">Int64</th><th title=\"Float64\">Float64</th></tr></thead><tbody><tr><th>1</th><td>1</td><td>0.0</td></tr><tr><th>2</th><td>30</td><td>0.109929</td></tr><tr><th>3</th><td>35</td><td>0.211208</td></tr><tr><th>4</th><td>39</td><td>0.27022</td></tr><tr><th>5</th><td>44</td><td>0.35288</td></tr><tr><th>6</th><td>60</td><td>0.403813</td></tr><tr><th>7</th><td>71</td><td>0.454856</td></tr><tr><th>8</th><td>80</td><td>0.574356</td></tr><tr><th>9</th><td>95</td><td>0.725626</td></tr><tr><th>10</th><td>101</td><td>1.0</td></tr></tbody></table></div>"
      ],
      "text/latex": [
       "\\begin{tabular}{r|cc}\n",
       "\t& time & heights\\\\\n",
       "\t\\hline\n",
       "\t& Int64 & Float64\\\\\n",
       "\t\\hline\n",
       "\t1 & 1 & 0.0 \\\\\n",
       "\t2 & 30 & 0.109929 \\\\\n",
       "\t3 & 35 & 0.211208 \\\\\n",
       "\t4 & 39 & 0.27022 \\\\\n",
       "\t5 & 44 & 0.35288 \\\\\n",
       "\t6 & 60 & 0.403813 \\\\\n",
       "\t7 & 71 & 0.454856 \\\\\n",
       "\t8 & 80 & 0.574356 \\\\\n",
       "\t9 & 95 & 0.725626 \\\\\n",
       "\t10 & 101 & 1.0 \\\\\n",
       "\\end{tabular}\n"
      ],
      "text/plain": [
       "\u001b[1m10×2 DataFrame\u001b[0m\n",
       "\u001b[1m Row \u001b[0m│\u001b[1m time  \u001b[0m\u001b[1m heights  \u001b[0m\n",
       "\u001b[1m     \u001b[0m│\u001b[90m Int64 \u001b[0m\u001b[90m Float64  \u001b[0m\n",
       "─────┼─────────────────\n",
       "   1 │     1  0.0\n",
       "   2 │    30  0.109929\n",
       "   3 │    35  0.211208\n",
       "   4 │    39  0.27022\n",
       "   5 │    44  0.35288\n",
       "   6 │    60  0.403813\n",
       "   7 │    71  0.454856\n",
       "   8 │    80  0.574356\n",
       "   9 │    95  0.725626\n",
       "  10 │   101  1.0"
      ]
     },
     "execution_count": 23,
     "metadata": {},
     "output_type": "execute_result"
    }
   ],
   "source": [
    "using DataFrames\n",
    "\n",
    "tk = DataFrame(time = k, heights = heights)\n",
    "#tk[:, :heights]"
   ]
  },
  {
   "cell_type": "code",
   "execution_count": 24,
   "metadata": {},
   "outputs": [
    {
     "data": {
      "application/vnd.plotly.v1+json": {
       "config": {
        "editable": false,
        "responsive": true,
        "scrollZoom": true,
        "showLink": false,
        "staticPlot": false
       },
       "data": [
        {
         "mode": "markers",
         "type": "scatter",
         "x": [
          1,
          30,
          35,
          39,
          44,
          60,
          71,
          80,
          95,
          101
         ],
         "y": [
          0,
          0.1099288,
          0.2112084,
          0.2702198,
          0.3528798,
          0.4038134,
          0.4548563,
          0.5743559,
          0.7256261,
          1
         ]
        },
        {
         "mode": "lines",
         "type": "scatter",
         "x": [
          1,
          2.01010101010101,
          3.0202020202020203,
          4.03030303030303,
          5.040404040404041,
          6.05050505050505,
          7.0606060606060606,
          8.070707070707071,
          9.080808080808081,
          10.090909090909092,
          11.1010101010101,
          12.11111111111111,
          13.121212121212121,
          14.131313131313131,
          15.141414141414142,
          16.151515151515152,
          17.161616161616163,
          18.171717171717173,
          19.181818181818183,
          20.19191919191919,
          21.2020202020202,
          22.21212121212121,
          23.22222222222222,
          24.232323232323232,
          25.242424242424242,
          26.252525252525253,
          27.262626262626263,
          28.272727272727273,
          29.282828282828284,
          30.292929292929294,
          31.303030303030305,
          32.313131313131315,
          33.323232323232325,
          34.333333333333336,
          35.343434343434346,
          36.35353535353536,
          37.36363636363637,
          38.37373737373738,
          39.38383838383838,
          40.39393939393939,
          41.4040404040404,
          42.41414141414141,
          43.42424242424242,
          44.43434343434343,
          45.44444444444444,
          46.45454545454545,
          47.464646464646464,
          48.474747474747474,
          49.484848484848484,
          50.494949494949495,
          51.505050505050505,
          52.515151515151516,
          53.525252525252526,
          54.535353535353536,
          55.54545454545455,
          56.55555555555556,
          57.56565656565657,
          58.57575757575758,
          59.58585858585859,
          60.5959595959596,
          61.60606060606061,
          62.61616161616162,
          63.62626262626262,
          64.63636363636364,
          65.64646464646465,
          66.65656565656566,
          67.66666666666667,
          68.67676767676768,
          69.68686868686869,
          70.6969696969697,
          71.70707070707071,
          72.71717171717172,
          73.72727272727273,
          74.73737373737374,
          75.74747474747475,
          76.75757575757575,
          77.76767676767676,
          78.77777777777777,
          79.78787878787878,
          80.79797979797979,
          81.8080808080808,
          82.81818181818181,
          83.82828282828282,
          84.83838383838383,
          85.84848484848484,
          86.85858585858585,
          87.86868686868686,
          88.87878787878788,
          89.88888888888889,
          90.8989898989899,
          91.9090909090909,
          92.91919191919192,
          93.92929292929293,
          94.93939393939394,
          95.94949494949495,
          96.95959595959596,
          97.96969696969697,
          98.97979797979798,
          99.98989898989899,
          101
         ],
         "y": [
          0,
          0.004010259320623825,
          0.007878872627269416,
          0.011620279334540923,
          0.015248918857042545,
          0.01877923060937843,
          0.022225654006152753,
          0.025602628461969694,
          0.028924593391433398,
          0.032205988209148065,
          0.03546125232971784,
          0.0387048251677469,
          0.0419511461378394,
          0.04521465465459953,
          0.048509790132631465,
          0.051850991986539335,
          0.055252699630927354,
          0.05872935248039968,
          0.062295389949560465,
          0.06596525145301387,
          0.06975337640536407,
          0.07367420422121526,
          0.07774217431517161,
          0.08197172610183723,
          0.08637729899581639,
          0.09097333241171314,
          0.09577426576413173,
          0.10079453846767632,
          0.10604858993695104,
          0.11208138842361594,
          0.12658559367595207,
          0.1487005307749751,
          0.1740135572730371,
          0.19811203072249037,
          0.21694576540825597,
          0.23234592412009816,
          0.24653746702152787,
          0.26079225181845966,
          0.2765884522635806,
          0.2959019636525058,
          0.31643155649328264,
          0.33504459657473445,
          0.34860844968568416,
          0.35491016529019975,
          0.35931457015538076,
          0.3633169804243929,
          0.3669691076455558,
          0.3703226633671884,
          0.3734293591376101,
          0.37634090650514024,
          0.37910901701809785,
          0.3817854022248023,
          0.38442177367357283,
          0.3870698429127287,
          0.3897813214905894,
          0.39260792095547375,
          0.3956013528557016,
          0.39881332873959147,
          0.4022955601554631,
          0.40603025574449464,
          0.40977737101950684,
          0.4135654459982631,
          0.417456883692714,
          0.4215140871148102,
          0.4257994592765019,
          0.4303754031897397,
          0.43530432186647433,
          0.44064861831865587,
          0.44647069555823504,
          0.4528329565971622,
          0.4604362930991231,
          0.4708525314120592,
          0.4835642323573457,
          0.497926067356674,
          0.5132927078317366,
          0.5290188252042247,
          0.5444590908958311,
          0.5589681763282471,
          0.5719007529231651,
          0.5830935627593998,
          0.5933671884257994,
          0.6029230397692202,
          0.611934480063969,
          0.6205748725843531,
          0.6290175806046798,
          0.6374359673992562,
          0.6460033962423899,
          0.6548932304083872,
          0.6642788331715561,
          0.6743335678062029,
          0.6852307975866357,
          0.6971438857871615,
          0.7102461956820867,
          0.7247110905457196,
          0.7477274246634987,
          0.7855312648673506,
          0.8339071442527541,
          0.8886083610698816,
          0.9453882135689059,
          1
         ]
        }
       ],
       "frames": [],
       "layout": {
        "margin": {
         "b": 50,
         "l": 50,
         "r": 50,
         "t": 60
        },
        "template": {
         "data": {
          "bar": [
           {
            "error_x": {
             "color": "#2a3f5f"
            },
            "error_y": {
             "color": "#2a3f5f"
            },
            "marker": {
             "line": {
              "color": "#E5ECF6",
              "width": 0.5
             }
            },
            "type": "bar"
           }
          ],
          "barpolar": [
           {
            "marker": {
             "line": {
              "color": "#E5ECF6",
              "width": 0.5
             }
            },
            "type": "barpolar"
           }
          ],
          "carpet": [
           {
            "aaxis": {
             "endlinecolor": "#2a3f5f",
             "gridcolor": "white",
             "linecolor": "white",
             "minorgridcolor": "white",
             "startlinecolor": "#2a3f5f"
            },
            "baxis": {
             "endlinecolor": "#2a3f5f",
             "gridcolor": "white",
             "linecolor": "white",
             "minorgridcolor": "white",
             "startlinecolor": "#2a3f5f"
            },
            "type": "carpet"
           }
          ],
          "choropleth": [
           {
            "colorbar": {
             "outlinewidth": 0,
             "ticks": ""
            },
            "type": "choropleth"
           }
          ],
          "contour": [
           {
            "colorbar": {
             "outlinewidth": 0,
             "ticks": ""
            },
            "colorscale": [
             [
              0,
              "#0d0887"
             ],
             [
              0.1111111111111111,
              "#46039f"
             ],
             [
              0.2222222222222222,
              "#7201a8"
             ],
             [
              0.3333333333333333,
              "#9c179e"
             ],
             [
              0.4444444444444444,
              "#bd3786"
             ],
             [
              0.5555555555555556,
              "#d8576b"
             ],
             [
              0.6666666666666666,
              "#ed7953"
             ],
             [
              0.7777777777777778,
              "#fb9f3a"
             ],
             [
              0.8888888888888888,
              "#fdca26"
             ],
             [
              1,
              "#f0f921"
             ]
            ],
            "type": "contour"
           }
          ],
          "contourcarpet": [
           {
            "colorbar": {
             "outlinewidth": 0,
             "ticks": ""
            },
            "type": "contourcarpet"
           }
          ],
          "heatmap": [
           {
            "colorbar": {
             "outlinewidth": 0,
             "ticks": ""
            },
            "colorscale": [
             [
              0,
              "#0d0887"
             ],
             [
              0.1111111111111111,
              "#46039f"
             ],
             [
              0.2222222222222222,
              "#7201a8"
             ],
             [
              0.3333333333333333,
              "#9c179e"
             ],
             [
              0.4444444444444444,
              "#bd3786"
             ],
             [
              0.5555555555555556,
              "#d8576b"
             ],
             [
              0.6666666666666666,
              "#ed7953"
             ],
             [
              0.7777777777777778,
              "#fb9f3a"
             ],
             [
              0.8888888888888888,
              "#fdca26"
             ],
             [
              1,
              "#f0f921"
             ]
            ],
            "type": "heatmap"
           }
          ],
          "heatmapgl": [
           {
            "colorbar": {
             "outlinewidth": 0,
             "ticks": ""
            },
            "colorscale": [
             [
              0,
              "#0d0887"
             ],
             [
              0.1111111111111111,
              "#46039f"
             ],
             [
              0.2222222222222222,
              "#7201a8"
             ],
             [
              0.3333333333333333,
              "#9c179e"
             ],
             [
              0.4444444444444444,
              "#bd3786"
             ],
             [
              0.5555555555555556,
              "#d8576b"
             ],
             [
              0.6666666666666666,
              "#ed7953"
             ],
             [
              0.7777777777777778,
              "#fb9f3a"
             ],
             [
              0.8888888888888888,
              "#fdca26"
             ],
             [
              1,
              "#f0f921"
             ]
            ],
            "type": "heatmapgl"
           }
          ],
          "histogram": [
           {
            "marker": {
             "colorbar": {
              "outlinewidth": 0,
              "ticks": ""
             }
            },
            "type": "histogram"
           }
          ],
          "histogram2d": [
           {
            "colorbar": {
             "outlinewidth": 0,
             "ticks": ""
            },
            "colorscale": [
             [
              0,
              "#0d0887"
             ],
             [
              0.1111111111111111,
              "#46039f"
             ],
             [
              0.2222222222222222,
              "#7201a8"
             ],
             [
              0.3333333333333333,
              "#9c179e"
             ],
             [
              0.4444444444444444,
              "#bd3786"
             ],
             [
              0.5555555555555556,
              "#d8576b"
             ],
             [
              0.6666666666666666,
              "#ed7953"
             ],
             [
              0.7777777777777778,
              "#fb9f3a"
             ],
             [
              0.8888888888888888,
              "#fdca26"
             ],
             [
              1,
              "#f0f921"
             ]
            ],
            "type": "histogram2d"
           }
          ],
          "histogram2dcontour": [
           {
            "colorbar": {
             "outlinewidth": 0,
             "ticks": ""
            },
            "colorscale": [
             [
              0,
              "#0d0887"
             ],
             [
              0.1111111111111111,
              "#46039f"
             ],
             [
              0.2222222222222222,
              "#7201a8"
             ],
             [
              0.3333333333333333,
              "#9c179e"
             ],
             [
              0.4444444444444444,
              "#bd3786"
             ],
             [
              0.5555555555555556,
              "#d8576b"
             ],
             [
              0.6666666666666666,
              "#ed7953"
             ],
             [
              0.7777777777777778,
              "#fb9f3a"
             ],
             [
              0.8888888888888888,
              "#fdca26"
             ],
             [
              1,
              "#f0f921"
             ]
            ],
            "type": "histogram2dcontour"
           }
          ],
          "mesh3d": [
           {
            "colorbar": {
             "outlinewidth": 0,
             "ticks": ""
            },
            "type": "mesh3d"
           }
          ],
          "parcoords": [
           {
            "line": {
             "colorbar": {
              "outlinewidth": 0,
              "ticks": ""
             }
            },
            "type": "parcoords"
           }
          ],
          "pie": [
           {
            "automargin": true,
            "type": "pie"
           }
          ],
          "scatter": [
           {
            "marker": {
             "colorbar": {
              "outlinewidth": 0,
              "ticks": ""
             }
            },
            "type": "scatter"
           }
          ],
          "scatter3d": [
           {
            "line": {
             "colorbar": {
              "outlinewidth": 0,
              "ticks": ""
             }
            },
            "marker": {
             "colorbar": {
              "outlinewidth": 0,
              "ticks": ""
             }
            },
            "type": "scatter3d"
           }
          ],
          "scattercarpet": [
           {
            "marker": {
             "colorbar": {
              "outlinewidth": 0,
              "ticks": ""
             }
            },
            "type": "scattercarpet"
           }
          ],
          "scattergeo": [
           {
            "marker": {
             "colorbar": {
              "outlinewidth": 0,
              "ticks": ""
             }
            },
            "type": "scattergeo"
           }
          ],
          "scattergl": [
           {
            "marker": {
             "colorbar": {
              "outlinewidth": 0,
              "ticks": ""
             }
            },
            "type": "scattergl"
           }
          ],
          "scattermapbox": [
           {
            "marker": {
             "colorbar": {
              "outlinewidth": 0,
              "ticks": ""
             }
            },
            "type": "scattermapbox"
           }
          ],
          "scatterpolar": [
           {
            "marker": {
             "colorbar": {
              "outlinewidth": 0,
              "ticks": ""
             }
            },
            "type": "scatterpolar"
           }
          ],
          "scatterpolargl": [
           {
            "marker": {
             "colorbar": {
              "outlinewidth": 0,
              "ticks": ""
             }
            },
            "type": "scatterpolargl"
           }
          ],
          "scatterternary": [
           {
            "marker": {
             "colorbar": {
              "outlinewidth": 0,
              "ticks": ""
             }
            },
            "type": "scatterternary"
           }
          ],
          "surface": [
           {
            "colorbar": {
             "outlinewidth": 0,
             "ticks": ""
            },
            "colorscale": [
             [
              0,
              "#0d0887"
             ],
             [
              0.1111111111111111,
              "#46039f"
             ],
             [
              0.2222222222222222,
              "#7201a8"
             ],
             [
              0.3333333333333333,
              "#9c179e"
             ],
             [
              0.4444444444444444,
              "#bd3786"
             ],
             [
              0.5555555555555556,
              "#d8576b"
             ],
             [
              0.6666666666666666,
              "#ed7953"
             ],
             [
              0.7777777777777778,
              "#fb9f3a"
             ],
             [
              0.8888888888888888,
              "#fdca26"
             ],
             [
              1,
              "#f0f921"
             ]
            ],
            "type": "surface"
           }
          ],
          "table": [
           {
            "cells": {
             "fill": {
              "color": "#EBF0F8"
             },
             "line": {
              "color": "white"
             }
            },
            "header": {
             "fill": {
              "color": "#C8D4E3"
             },
             "line": {
              "color": "white"
             }
            },
            "type": "table"
           }
          ]
         },
         "layout": {
          "annotationdefaults": {
           "arrowcolor": "#2a3f5f",
           "arrowhead": 0,
           "arrowwidth": 1
          },
          "autotypenumbers": "strict",
          "coloraxis": {
           "colorbar": {
            "outlinewidth": 0,
            "ticks": ""
           }
          },
          "colorscale": {
           "diverging": [
            [
             0,
             "#8e0152"
            ],
            [
             0.1,
             "#c51b7d"
            ],
            [
             0.2,
             "#de77ae"
            ],
            [
             0.3,
             "#f1b6da"
            ],
            [
             0.4,
             "#fde0ef"
            ],
            [
             0.5,
             "#f7f7f7"
            ],
            [
             0.6,
             "#e6f5d0"
            ],
            [
             0.7,
             "#b8e186"
            ],
            [
             0.8,
             "#7fbc41"
            ],
            [
             0.9,
             "#4d9221"
            ],
            [
             1,
             "#276419"
            ]
           ],
           "sequential": [
            [
             0,
             "#0d0887"
            ],
            [
             0.1111111111111111,
             "#46039f"
            ],
            [
             0.2222222222222222,
             "#7201a8"
            ],
            [
             0.3333333333333333,
             "#9c179e"
            ],
            [
             0.4444444444444444,
             "#bd3786"
            ],
            [
             0.5555555555555556,
             "#d8576b"
            ],
            [
             0.6666666666666666,
             "#ed7953"
            ],
            [
             0.7777777777777778,
             "#fb9f3a"
            ],
            [
             0.8888888888888888,
             "#fdca26"
            ],
            [
             1,
             "#f0f921"
            ]
           ],
           "sequentialminus": [
            [
             0,
             "#0d0887"
            ],
            [
             0.1111111111111111,
             "#46039f"
            ],
            [
             0.2222222222222222,
             "#7201a8"
            ],
            [
             0.3333333333333333,
             "#9c179e"
            ],
            [
             0.4444444444444444,
             "#bd3786"
            ],
            [
             0.5555555555555556,
             "#d8576b"
            ],
            [
             0.6666666666666666,
             "#ed7953"
            ],
            [
             0.7777777777777778,
             "#fb9f3a"
            ],
            [
             0.8888888888888888,
             "#fdca26"
            ],
            [
             1,
             "#f0f921"
            ]
           ]
          },
          "colorway": [
           "#636efa",
           "#EF553B",
           "#00cc96",
           "#ab63fa",
           "#FFA15A",
           "#19d3f3",
           "#FF6692",
           "#B6E880",
           "#FF97FF",
           "#FECB52"
          ],
          "font": {
           "color": "#2a3f5f"
          },
          "geo": {
           "bgcolor": "white",
           "lakecolor": "white",
           "landcolor": "#E5ECF6",
           "showlakes": true,
           "showland": true,
           "subunitcolor": "white"
          },
          "hoverlabel": {
           "align": "left"
          },
          "hovermode": "closest",
          "mapbox": {
           "style": "light"
          },
          "paper_bgcolor": "white",
          "plot_bgcolor": "#E5ECF6",
          "polar": {
           "angularaxis": {
            "gridcolor": "white",
            "linecolor": "white",
            "ticks": ""
           },
           "bgcolor": "#E5ECF6",
           "radialaxis": {
            "gridcolor": "white",
            "linecolor": "white",
            "ticks": ""
           }
          },
          "scene": {
           "xaxis": {
            "backgroundcolor": "#E5ECF6",
            "gridcolor": "white",
            "gridwidth": 2,
            "linecolor": "white",
            "showbackground": true,
            "ticks": "",
            "zerolinecolor": "white"
           },
           "yaxis": {
            "backgroundcolor": "#E5ECF6",
            "gridcolor": "white",
            "gridwidth": 2,
            "linecolor": "white",
            "showbackground": true,
            "ticks": "",
            "zerolinecolor": "white"
           },
           "zaxis": {
            "backgroundcolor": "#E5ECF6",
            "gridcolor": "white",
            "gridwidth": 2,
            "linecolor": "white",
            "showbackground": true,
            "ticks": "",
            "zerolinecolor": "white"
           }
          },
          "shapedefaults": {
           "line": {
            "color": "#2a3f5f"
           }
          },
          "ternary": {
           "aaxis": {
            "gridcolor": "white",
            "linecolor": "white",
            "ticks": ""
           },
           "baxis": {
            "gridcolor": "white",
            "linecolor": "white",
            "ticks": ""
           },
           "bgcolor": "#E5ECF6",
           "caxis": {
            "gridcolor": "white",
            "linecolor": "white",
            "ticks": ""
           }
          },
          "title": {
           "x": 0.05
          },
          "xaxis": {
           "automargin": true,
           "gridcolor": "white",
           "linecolor": "white",
           "ticks": "",
           "title": {
            "standoff": 15
           },
           "zerolinecolor": "white",
           "zerolinewidth": 2
          },
          "yaxis": {
           "automargin": true,
           "gridcolor": "white",
           "linecolor": "white",
           "ticks": "",
           "title": {
            "standoff": 15
           },
           "zerolinecolor": "white",
           "zerolinewidth": 2
          }
         }
        },
        "title": "Cubic spline (failure CDF)",
        "xaxis": {
         "title": {
          "text": "Time"
         }
        },
        "yaxis": {
         "title": {
          "text": "Cumulative P(Failure)"
         }
        }
       }
      },
      "text/html": [
       "<div\n",
       "    class=\"webio-mountpoint\"\n",
       "    data-webio-mountpoint=\"218022467891564463\"\n",
       ">\n",
       "    <script>\n",
       "    (function(){\n",
       "    // Some integrations (namely, IJulia/Jupyter) use an alternate render pathway than\n",
       "    // just putting the html on the page. If WebIO isn't defined, then it's pretty likely\n",
       "    // that we're in one of those situations and the integration just isn't installed\n",
       "    // correctly.\n",
       "    if (typeof window.WebIO === \"undefined\") {\n",
       "        document\n",
       "            .querySelector('[data-webio-mountpoint=\"218022467891564463\"]')\n",
       "            .innerHTML = (\n",
       "                '<div style=\"padding: 1em; background-color: #f8d6da; border: 1px solid #f5c6cb; font-weight: bold;\">' +\n",
       "                '<p><strong>WebIO not detected.</strong></p>' +\n",
       "                '<p>Please read ' +\n",
       "                '<a href=\"https://juliagizmos.github.io/WebIO.jl/latest/troubleshooting/not-detected/\" target=\"_blank\">the troubleshooting guide</a> ' +\n",
       "                'for more information on how to resolve this issue.</p>' +\n",
       "                '<p><a href=\"https://juliagizmos.github.io/WebIO.jl/latest/troubleshooting/not-detected/\" target=\"_blank\">https://juliagizmos.github.io/WebIO.jl/latest/troubleshooting/not-detected/</a></p>' +\n",
       "                '</div>'\n",
       "            );\n",
       "        return;\n",
       "    }\n",
       "    WebIO.mount(\n",
       "        document.querySelector('[data-webio-mountpoint=\"218022467891564463\"]'),\n",
       "        {\"props\":{},\"nodeType\":\"Scope\",\"type\":\"node\",\"instanceArgs\":{\"imports\":{\"data\":[{\"name\":\"Plotly\",\"type\":\"js\",\"url\":\"\\/assetserver\\/87799b371b0b69a5452b1c205724c9adca3ec263-plotly.min.js\"},{\"name\":null,\"type\":\"js\",\"url\":\"\\/assetserver\\/9b94ff4a31b8016d503ee980cb6d623609842ff7-plotly_webio.bundle.js\"}],\"type\":\"async_block\"},\"id\":\"5301488872218424429\",\"handlers\":{\"_toImage\":[\"(function (options){return this.Plotly.toImage(this.plotElem,options).then((function (data){return WebIO.setval({\\\"name\\\":\\\"image\\\",\\\"scope\\\":\\\"5301488872218424429\\\",\\\"id\\\":\\\"4146890086407068355\\\",\\\"type\\\":\\\"observable\\\"},data)}))})\"],\"__get_gd_contents\":[\"(function (prop){prop==\\\"data\\\" ? (WebIO.setval({\\\"name\\\":\\\"__gd_contents\\\",\\\"scope\\\":\\\"5301488872218424429\\\",\\\"id\\\":\\\"4907247148107333427\\\",\\\"type\\\":\\\"observable\\\"},this.plotElem.data)) : undefined; return prop==\\\"layout\\\" ? (WebIO.setval({\\\"name\\\":\\\"__gd_contents\\\",\\\"scope\\\":\\\"5301488872218424429\\\",\\\"id\\\":\\\"4907247148107333427\\\",\\\"type\\\":\\\"observable\\\"},this.plotElem.layout)) : undefined})\"],\"_downloadImage\":[\"(function (options){return this.Plotly.downloadImage(this.plotElem,options)})\"],\"_commands\":[\"(function (args){var fn=args.shift(); var elem=this.plotElem; var Plotly=this.Plotly; args.unshift(elem); return Plotly[fn].apply(this,args)})\"]},\"systemjs_options\":null,\"mount_callbacks\":[\"function () {\\n    var handler = ((function (Plotly,PlotlyWebIO){PlotlyWebIO.init(WebIO); var gd=this.dom.querySelector(\\\"#plot-91541d3c-4579-411a-82bc-9b675094bb77\\\"); this.plotElem=gd; this.Plotly=Plotly; (window.Blink!==undefined) ? (gd.style.width=\\\"100%\\\", gd.style.height=\\\"100vh\\\", gd.style.marginLeft=\\\"0%\\\", gd.style.marginTop=\\\"0vh\\\") : undefined; window.onresize=(function (){return Plotly.Plots.resize(gd)}); Plotly.newPlot(gd,[{\\\"mode\\\":\\\"markers\\\",\\\"y\\\":[0.0,0.1099288,0.2112084,0.2702198,0.3528798,0.4038134,0.4548563,0.5743559,0.7256261,1.0],\\\"type\\\":\\\"scatter\\\",\\\"x\\\":[1,30,35,39,44,60,71,80,95,101]},{\\\"mode\\\":\\\"lines\\\",\\\"y\\\":[0.0,0.004010259320623825,0.007878872627269416,0.011620279334540923,0.015248918857042545,0.01877923060937843,0.022225654006152753,0.025602628461969694,0.028924593391433398,0.032205988209148065,0.03546125232971784,0.0387048251677469,0.0419511461378394,0.04521465465459953,0.048509790132631465,0.051850991986539335,0.055252699630927354,0.05872935248039968,0.062295389949560465,0.06596525145301387,0.06975337640536407,0.07367420422121526,0.07774217431517161,0.08197172610183723,0.08637729899581639,0.09097333241171314,0.09577426576413173,0.10079453846767632,0.10604858993695104,0.11208138842361594,0.12658559367595207,0.1487005307749751,0.1740135572730371,0.19811203072249037,0.21694576540825597,0.23234592412009816,0.24653746702152787,0.26079225181845966,0.2765884522635806,0.2959019636525058,0.31643155649328264,0.33504459657473445,0.34860844968568416,0.35491016529019975,0.35931457015538076,0.3633169804243929,0.3669691076455558,0.3703226633671884,0.3734293591376101,0.37634090650514024,0.37910901701809785,0.3817854022248023,0.38442177367357283,0.3870698429127287,0.3897813214905894,0.39260792095547375,0.3956013528557016,0.39881332873959147,0.4022955601554631,0.40603025574449464,0.40977737101950684,0.4135654459982631,0.417456883692714,0.4215140871148102,0.4257994592765019,0.4303754031897397,0.43530432186647433,0.44064861831865587,0.44647069555823504,0.4528329565971622,0.4604362930991231,0.4708525314120592,0.4835642323573457,0.497926067356674,0.5132927078317366,0.5290188252042247,0.5444590908958311,0.5589681763282471,0.5719007529231651,0.5830935627593998,0.5933671884257994,0.6029230397692202,0.611934480063969,0.6205748725843531,0.6290175806046798,0.6374359673992562,0.6460033962423899,0.6548932304083872,0.6642788331715561,0.6743335678062029,0.6852307975866357,0.6971438857871615,0.7102461956820867,0.7247110905457196,0.7477274246634987,0.7855312648673506,0.8339071442527541,0.8886083610698816,0.9453882135689059,1.0],\\\"type\\\":\\\"scatter\\\",\\\"x\\\":[1.0,2.01010101010101,3.0202020202020203,4.03030303030303,5.040404040404041,6.05050505050505,7.0606060606060606,8.070707070707071,9.080808080808081,10.090909090909092,11.1010101010101,12.11111111111111,13.121212121212121,14.131313131313131,15.141414141414142,16.151515151515152,17.161616161616163,18.171717171717173,19.181818181818183,20.19191919191919,21.2020202020202,22.21212121212121,23.22222222222222,24.232323232323232,25.242424242424242,26.252525252525253,27.262626262626263,28.272727272727273,29.282828282828284,30.292929292929294,31.303030303030305,32.313131313131315,33.323232323232325,34.333333333333336,35.343434343434346,36.35353535353536,37.36363636363637,38.37373737373738,39.38383838383838,40.39393939393939,41.4040404040404,42.41414141414141,43.42424242424242,44.43434343434343,45.44444444444444,46.45454545454545,47.464646464646464,48.474747474747474,49.484848484848484,50.494949494949495,51.505050505050505,52.515151515151516,53.525252525252526,54.535353535353536,55.54545454545455,56.55555555555556,57.56565656565657,58.57575757575758,59.58585858585859,60.5959595959596,61.60606060606061,62.61616161616162,63.62626262626262,64.63636363636364,65.64646464646465,66.65656565656566,67.66666666666667,68.67676767676768,69.68686868686869,70.6969696969697,71.70707070707071,72.71717171717172,73.72727272727273,74.73737373737374,75.74747474747475,76.75757575757575,77.76767676767676,78.77777777777777,79.78787878787878,80.79797979797979,81.8080808080808,82.81818181818181,83.82828282828282,84.83838383838383,85.84848484848484,86.85858585858585,87.86868686868686,88.87878787878788,89.88888888888889,90.8989898989899,91.9090909090909,92.91919191919192,93.92929292929293,94.93939393939394,95.94949494949495,96.95959595959596,97.96969696969697,98.97979797979798,99.98989898989899,101.0]}],{\\\"xaxis\\\":{\\\"title\\\":{\\\"text\\\":\\\"Time\\\"}},\\\"template\\\":{\\\"layout\\\":{\\\"coloraxis\\\":{\\\"colorbar\\\":{\\\"ticks\\\":\\\"\\\",\\\"outlinewidth\\\":0}},\\\"xaxis\\\":{\\\"gridcolor\\\":\\\"white\\\",\\\"zerolinewidth\\\":2,\\\"title\\\":{\\\"standoff\\\":15},\\\"ticks\\\":\\\"\\\",\\\"zerolinecolor\\\":\\\"white\\\",\\\"automargin\\\":true,\\\"linecolor\\\":\\\"white\\\"},\\\"hovermode\\\":\\\"closest\\\",\\\"paper_bgcolor\\\":\\\"white\\\",\\\"geo\\\":{\\\"showlakes\\\":true,\\\"showland\\\":true,\\\"landcolor\\\":\\\"#E5ECF6\\\",\\\"bgcolor\\\":\\\"white\\\",\\\"subunitcolor\\\":\\\"white\\\",\\\"lakecolor\\\":\\\"white\\\"},\\\"colorscale\\\":{\\\"sequential\\\":[[0.0,\\\"#0d0887\\\"],[0.1111111111111111,\\\"#46039f\\\"],[0.2222222222222222,\\\"#7201a8\\\"],[0.3333333333333333,\\\"#9c179e\\\"],[0.4444444444444444,\\\"#bd3786\\\"],[0.5555555555555556,\\\"#d8576b\\\"],[0.6666666666666666,\\\"#ed7953\\\"],[0.7777777777777778,\\\"#fb9f3a\\\"],[0.8888888888888888,\\\"#fdca26\\\"],[1.0,\\\"#f0f921\\\"]],\\\"diverging\\\":[[0,\\\"#8e0152\\\"],[0.1,\\\"#c51b7d\\\"],[0.2,\\\"#de77ae\\\"],[0.3,\\\"#f1b6da\\\"],[0.4,\\\"#fde0ef\\\"],[0.5,\\\"#f7f7f7\\\"],[0.6,\\\"#e6f5d0\\\"],[0.7,\\\"#b8e186\\\"],[0.8,\\\"#7fbc41\\\"],[0.9,\\\"#4d9221\\\"],[1,\\\"#276419\\\"]],\\\"sequentialminus\\\":[[0.0,\\\"#0d0887\\\"],[0.1111111111111111,\\\"#46039f\\\"],[0.2222222222222222,\\\"#7201a8\\\"],[0.3333333333333333,\\\"#9c179e\\\"],[0.4444444444444444,\\\"#bd3786\\\"],[0.5555555555555556,\\\"#d8576b\\\"],[0.6666666666666666,\\\"#ed7953\\\"],[0.7777777777777778,\\\"#fb9f3a\\\"],[0.8888888888888888,\\\"#fdca26\\\"],[1.0,\\\"#f0f921\\\"]]},\\\"yaxis\\\":{\\\"gridcolor\\\":\\\"white\\\",\\\"zerolinewidth\\\":2,\\\"title\\\":{\\\"standoff\\\":15},\\\"ticks\\\":\\\"\\\",\\\"zerolinecolor\\\":\\\"white\\\",\\\"automargin\\\":true,\\\"linecolor\\\":\\\"white\\\"},\\\"shapedefaults\\\":{\\\"line\\\":{\\\"color\\\":\\\"#2a3f5f\\\"}},\\\"hoverlabel\\\":{\\\"align\\\":\\\"left\\\"},\\\"mapbox\\\":{\\\"style\\\":\\\"light\\\"},\\\"polar\\\":{\\\"angularaxis\\\":{\\\"gridcolor\\\":\\\"white\\\",\\\"ticks\\\":\\\"\\\",\\\"linecolor\\\":\\\"white\\\"},\\\"bgcolor\\\":\\\"#E5ECF6\\\",\\\"radialaxis\\\":{\\\"gridcolor\\\":\\\"white\\\",\\\"ticks\\\":\\\"\\\",\\\"linecolor\\\":\\\"white\\\"}},\\\"autotypenumbers\\\":\\\"strict\\\",\\\"font\\\":{\\\"color\\\":\\\"#2a3f5f\\\"},\\\"ternary\\\":{\\\"baxis\\\":{\\\"gridcolor\\\":\\\"white\\\",\\\"ticks\\\":\\\"\\\",\\\"linecolor\\\":\\\"white\\\"},\\\"bgcolor\\\":\\\"#E5ECF6\\\",\\\"caxis\\\":{\\\"gridcolor\\\":\\\"white\\\",\\\"ticks\\\":\\\"\\\",\\\"linecolor\\\":\\\"white\\\"},\\\"aaxis\\\":{\\\"gridcolor\\\":\\\"white\\\",\\\"ticks\\\":\\\"\\\",\\\"linecolor\\\":\\\"white\\\"}},\\\"annotationdefaults\\\":{\\\"arrowhead\\\":0,\\\"arrowwidth\\\":1,\\\"arrowcolor\\\":\\\"#2a3f5f\\\"},\\\"plot_bgcolor\\\":\\\"#E5ECF6\\\",\\\"title\\\":{\\\"x\\\":0.05},\\\"scene\\\":{\\\"xaxis\\\":{\\\"gridcolor\\\":\\\"white\\\",\\\"gridwidth\\\":2,\\\"backgroundcolor\\\":\\\"#E5ECF6\\\",\\\"ticks\\\":\\\"\\\",\\\"showbackground\\\":true,\\\"zerolinecolor\\\":\\\"white\\\",\\\"linecolor\\\":\\\"white\\\"},\\\"zaxis\\\":{\\\"gridcolor\\\":\\\"white\\\",\\\"gridwidth\\\":2,\\\"backgroundcolor\\\":\\\"#E5ECF6\\\",\\\"ticks\\\":\\\"\\\",\\\"showbackground\\\":true,\\\"zerolinecolor\\\":\\\"white\\\",\\\"linecolor\\\":\\\"white\\\"},\\\"yaxis\\\":{\\\"gridcolor\\\":\\\"white\\\",\\\"gridwidth\\\":2,\\\"backgroundcolor\\\":\\\"#E5ECF6\\\",\\\"ticks\\\":\\\"\\\",\\\"showbackground\\\":true,\\\"zerolinecolor\\\":\\\"white\\\",\\\"linecolor\\\":\\\"white\\\"}},\\\"colorway\\\":[\\\"#636efa\\\",\\\"#EF553B\\\",\\\"#00cc96\\\",\\\"#ab63fa\\\",\\\"#FFA15A\\\",\\\"#19d3f3\\\",\\\"#FF6692\\\",\\\"#B6E880\\\",\\\"#FF97FF\\\",\\\"#FECB52\\\"]},\\\"data\\\":{\\\"barpolar\\\":[{\\\"type\\\":\\\"barpolar\\\",\\\"marker\\\":{\\\"line\\\":{\\\"color\\\":\\\"#E5ECF6\\\",\\\"width\\\":0.5}}}],\\\"carpet\\\":[{\\\"aaxis\\\":{\\\"gridcolor\\\":\\\"white\\\",\\\"endlinecolor\\\":\\\"#2a3f5f\\\",\\\"minorgridcolor\\\":\\\"white\\\",\\\"startlinecolor\\\":\\\"#2a3f5f\\\",\\\"linecolor\\\":\\\"white\\\"},\\\"type\\\":\\\"carpet\\\",\\\"baxis\\\":{\\\"gridcolor\\\":\\\"white\\\",\\\"endlinecolor\\\":\\\"#2a3f5f\\\",\\\"minorgridcolor\\\":\\\"white\\\",\\\"startlinecolor\\\":\\\"#2a3f5f\\\",\\\"linecolor\\\":\\\"white\\\"}}],\\\"scatterpolar\\\":[{\\\"type\\\":\\\"scatterpolar\\\",\\\"marker\\\":{\\\"colorbar\\\":{\\\"ticks\\\":\\\"\\\",\\\"outlinewidth\\\":0}}}],\\\"parcoords\\\":[{\\\"line\\\":{\\\"colorbar\\\":{\\\"ticks\\\":\\\"\\\",\\\"outlinewidth\\\":0}},\\\"type\\\":\\\"parcoords\\\"}],\\\"scatter\\\":[{\\\"type\\\":\\\"scatter\\\",\\\"marker\\\":{\\\"colorbar\\\":{\\\"ticks\\\":\\\"\\\",\\\"outlinewidth\\\":0}}}],\\\"histogram2dcontour\\\":[{\\\"colorbar\\\":{\\\"ticks\\\":\\\"\\\",\\\"outlinewidth\\\":0},\\\"type\\\":\\\"histogram2dcontour\\\",\\\"colorscale\\\":[[0.0,\\\"#0d0887\\\"],[0.1111111111111111,\\\"#46039f\\\"],[0.2222222222222222,\\\"#7201a8\\\"],[0.3333333333333333,\\\"#9c179e\\\"],[0.4444444444444444,\\\"#bd3786\\\"],[0.5555555555555556,\\\"#d8576b\\\"],[0.6666666666666666,\\\"#ed7953\\\"],[0.7777777777777778,\\\"#fb9f3a\\\"],[0.8888888888888888,\\\"#fdca26\\\"],[1.0,\\\"#f0f921\\\"]]}],\\\"contour\\\":[{\\\"colorbar\\\":{\\\"ticks\\\":\\\"\\\",\\\"outlinewidth\\\":0},\\\"type\\\":\\\"contour\\\",\\\"colorscale\\\":[[0.0,\\\"#0d0887\\\"],[0.1111111111111111,\\\"#46039f\\\"],[0.2222222222222222,\\\"#7201a8\\\"],[0.3333333333333333,\\\"#9c179e\\\"],[0.4444444444444444,\\\"#bd3786\\\"],[0.5555555555555556,\\\"#d8576b\\\"],[0.6666666666666666,\\\"#ed7953\\\"],[0.7777777777777778,\\\"#fb9f3a\\\"],[0.8888888888888888,\\\"#fdca26\\\"],[1.0,\\\"#f0f921\\\"]]}],\\\"scattercarpet\\\":[{\\\"type\\\":\\\"scattercarpet\\\",\\\"marker\\\":{\\\"colorbar\\\":{\\\"ticks\\\":\\\"\\\",\\\"outlinewidth\\\":0}}}],\\\"mesh3d\\\":[{\\\"colorbar\\\":{\\\"ticks\\\":\\\"\\\",\\\"outlinewidth\\\":0},\\\"type\\\":\\\"mesh3d\\\"}],\\\"surface\\\":[{\\\"colorbar\\\":{\\\"ticks\\\":\\\"\\\",\\\"outlinewidth\\\":0},\\\"type\\\":\\\"surface\\\",\\\"colorscale\\\":[[0.0,\\\"#0d0887\\\"],[0.1111111111111111,\\\"#46039f\\\"],[0.2222222222222222,\\\"#7201a8\\\"],[0.3333333333333333,\\\"#9c179e\\\"],[0.4444444444444444,\\\"#bd3786\\\"],[0.5555555555555556,\\\"#d8576b\\\"],[0.6666666666666666,\\\"#ed7953\\\"],[0.7777777777777778,\\\"#fb9f3a\\\"],[0.8888888888888888,\\\"#fdca26\\\"],[1.0,\\\"#f0f921\\\"]]}],\\\"scattermapbox\\\":[{\\\"type\\\":\\\"scattermapbox\\\",\\\"marker\\\":{\\\"colorbar\\\":{\\\"ticks\\\":\\\"\\\",\\\"outlinewidth\\\":0}}}],\\\"scattergeo\\\":[{\\\"type\\\":\\\"scattergeo\\\",\\\"marker\\\":{\\\"colorbar\\\":{\\\"ticks\\\":\\\"\\\",\\\"outlinewidth\\\":0}}}],\\\"histogram\\\":[{\\\"type\\\":\\\"histogram\\\",\\\"marker\\\":{\\\"colorbar\\\":{\\\"ticks\\\":\\\"\\\",\\\"outlinewidth\\\":0}}}],\\\"pie\\\":[{\\\"type\\\":\\\"pie\\\",\\\"automargin\\\":true}],\\\"choropleth\\\":[{\\\"colorbar\\\":{\\\"ticks\\\":\\\"\\\",\\\"outlinewidth\\\":0},\\\"type\\\":\\\"choropleth\\\"}],\\\"heatmapgl\\\":[{\\\"colorbar\\\":{\\\"ticks\\\":\\\"\\\",\\\"outlinewidth\\\":0},\\\"type\\\":\\\"heatmapgl\\\",\\\"colorscale\\\":[[0.0,\\\"#0d0887\\\"],[0.1111111111111111,\\\"#46039f\\\"],[0.2222222222222222,\\\"#7201a8\\\"],[0.3333333333333333,\\\"#9c179e\\\"],[0.4444444444444444,\\\"#bd3786\\\"],[0.5555555555555556,\\\"#d8576b\\\"],[0.6666666666666666,\\\"#ed7953\\\"],[0.7777777777777778,\\\"#fb9f3a\\\"],[0.8888888888888888,\\\"#fdca26\\\"],[1.0,\\\"#f0f921\\\"]]}],\\\"bar\\\":[{\\\"type\\\":\\\"bar\\\",\\\"error_y\\\":{\\\"color\\\":\\\"#2a3f5f\\\"},\\\"error_x\\\":{\\\"color\\\":\\\"#2a3f5f\\\"},\\\"marker\\\":{\\\"line\\\":{\\\"color\\\":\\\"#E5ECF6\\\",\\\"width\\\":0.5}}}],\\\"heatmap\\\":[{\\\"colorbar\\\":{\\\"ticks\\\":\\\"\\\",\\\"outlinewidth\\\":0},\\\"type\\\":\\\"heatmap\\\",\\\"colorscale\\\":[[0.0,\\\"#0d0887\\\"],[0.1111111111111111,\\\"#46039f\\\"],[0.2222222222222222,\\\"#7201a8\\\"],[0.3333333333333333,\\\"#9c179e\\\"],[0.4444444444444444,\\\"#bd3786\\\"],[0.5555555555555556,\\\"#d8576b\\\"],[0.6666666666666666,\\\"#ed7953\\\"],[0.7777777777777778,\\\"#fb9f3a\\\"],[0.8888888888888888,\\\"#fdca26\\\"],[1.0,\\\"#f0f921\\\"]]}],\\\"contourcarpet\\\":[{\\\"colorbar\\\":{\\\"ticks\\\":\\\"\\\",\\\"outlinewidth\\\":0},\\\"type\\\":\\\"contourcarpet\\\"}],\\\"table\\\":[{\\\"type\\\":\\\"table\\\",\\\"header\\\":{\\\"line\\\":{\\\"color\\\":\\\"white\\\"},\\\"fill\\\":{\\\"color\\\":\\\"#C8D4E3\\\"}},\\\"cells\\\":{\\\"line\\\":{\\\"color\\\":\\\"white\\\"},\\\"fill\\\":{\\\"color\\\":\\\"#EBF0F8\\\"}}}],\\\"scatter3d\\\":[{\\\"line\\\":{\\\"colorbar\\\":{\\\"ticks\\\":\\\"\\\",\\\"outlinewidth\\\":0}},\\\"type\\\":\\\"scatter3d\\\",\\\"marker\\\":{\\\"colorbar\\\":{\\\"ticks\\\":\\\"\\\",\\\"outlinewidth\\\":0}}}],\\\"scattergl\\\":[{\\\"type\\\":\\\"scattergl\\\",\\\"marker\\\":{\\\"colorbar\\\":{\\\"ticks\\\":\\\"\\\",\\\"outlinewidth\\\":0}}}],\\\"histogram2d\\\":[{\\\"colorbar\\\":{\\\"ticks\\\":\\\"\\\",\\\"outlinewidth\\\":0},\\\"type\\\":\\\"histogram2d\\\",\\\"colorscale\\\":[[0.0,\\\"#0d0887\\\"],[0.1111111111111111,\\\"#46039f\\\"],[0.2222222222222222,\\\"#7201a8\\\"],[0.3333333333333333,\\\"#9c179e\\\"],[0.4444444444444444,\\\"#bd3786\\\"],[0.5555555555555556,\\\"#d8576b\\\"],[0.6666666666666666,\\\"#ed7953\\\"],[0.7777777777777778,\\\"#fb9f3a\\\"],[0.8888888888888888,\\\"#fdca26\\\"],[1.0,\\\"#f0f921\\\"]]}],\\\"scatterternary\\\":[{\\\"type\\\":\\\"scatterternary\\\",\\\"marker\\\":{\\\"colorbar\\\":{\\\"ticks\\\":\\\"\\\",\\\"outlinewidth\\\":0}}}],\\\"scatterpolargl\\\":[{\\\"type\\\":\\\"scatterpolargl\\\",\\\"marker\\\":{\\\"colorbar\\\":{\\\"ticks\\\":\\\"\\\",\\\"outlinewidth\\\":0}}}]}},\\\"margin\\\":{\\\"l\\\":50,\\\"b\\\":50,\\\"r\\\":50,\\\"t\\\":60},\\\"yaxis\\\":{\\\"title\\\":{\\\"text\\\":\\\"Cumulative P(Failure)\\\"}},\\\"title\\\":\\\"Cubic spline (failure CDF)\\\"},{\\\"showLink\\\":false,\\\"editable\\\":false,\\\"responsive\\\":true,\\\"staticPlot\\\":false,\\\"scrollZoom\\\":true}); gd.on(\\\"plotly_hover\\\",(function (data){var filtered_data=WebIO.PlotlyCommands.filterEventData(gd,data,\\\"hover\\\"); return !(filtered_data.isnil) ? (WebIO.setval({\\\"name\\\":\\\"hover\\\",\\\"scope\\\":\\\"5301488872218424429\\\",\\\"id\\\":\\\"12580829165893751630\\\",\\\"type\\\":\\\"observable\\\"},filtered_data.out)) : undefined})); gd.on(\\\"plotly_unhover\\\",(function (){return WebIO.setval({\\\"name\\\":\\\"hover\\\",\\\"scope\\\":\\\"5301488872218424429\\\",\\\"id\\\":\\\"12580829165893751630\\\",\\\"type\\\":\\\"observable\\\"},{})})); gd.on(\\\"plotly_selected\\\",(function (data){var filtered_data=WebIO.PlotlyCommands.filterEventData(gd,data,\\\"selected\\\"); return !(filtered_data.isnil) ? (WebIO.setval({\\\"name\\\":\\\"selected\\\",\\\"scope\\\":\\\"5301488872218424429\\\",\\\"id\\\":\\\"2212401201519041703\\\",\\\"type\\\":\\\"observable\\\"},filtered_data.out)) : undefined})); gd.on(\\\"plotly_deselect\\\",(function (){return WebIO.setval({\\\"name\\\":\\\"selected\\\",\\\"scope\\\":\\\"5301488872218424429\\\",\\\"id\\\":\\\"2212401201519041703\\\",\\\"type\\\":\\\"observable\\\"},{})})); gd.on(\\\"plotly_relayout\\\",(function (data){var filtered_data=WebIO.PlotlyCommands.filterEventData(gd,data,\\\"relayout\\\"); return !(filtered_data.isnil) ? (WebIO.setval({\\\"name\\\":\\\"relayout\\\",\\\"scope\\\":\\\"5301488872218424429\\\",\\\"id\\\":\\\"4858289318388614225\\\",\\\"type\\\":\\\"observable\\\"},filtered_data.out)) : undefined})); return gd.on(\\\"plotly_click\\\",(function (data){var filtered_data=WebIO.PlotlyCommands.filterEventData(gd,data,\\\"click\\\"); return !(filtered_data.isnil) ? (WebIO.setval({\\\"name\\\":\\\"click\\\",\\\"scope\\\":\\\"5301488872218424429\\\",\\\"id\\\":\\\"6035153339925849988\\\",\\\"type\\\":\\\"observable\\\"},filtered_data.out)) : undefined}))}));\\n    (WebIO.importBlock({\\\"data\\\":[{\\\"name\\\":\\\"Plotly\\\",\\\"type\\\":\\\"js\\\",\\\"url\\\":\\\"\\/assetserver\\/87799b371b0b69a5452b1c205724c9adca3ec263-plotly.min.js\\\"},{\\\"name\\\":null,\\\"type\\\":\\\"js\\\",\\\"url\\\":\\\"\\/assetserver\\/9b94ff4a31b8016d503ee980cb6d623609842ff7-plotly_webio.bundle.js\\\"}],\\\"type\\\":\\\"async_block\\\"})).then((imports) => handler.apply(this, imports));\\n}\\n\"],\"observables\":{\"_toImage\":{\"sync\":false,\"id\":\"17185307870565334118\",\"value\":{}},\"hover\":{\"sync\":false,\"id\":\"12580829165893751630\",\"value\":{}},\"selected\":{\"sync\":false,\"id\":\"2212401201519041703\",\"value\":{}},\"__gd_contents\":{\"sync\":false,\"id\":\"4907247148107333427\",\"value\":{}},\"click\":{\"sync\":false,\"id\":\"6035153339925849988\",\"value\":{}},\"image\":{\"sync\":true,\"id\":\"4146890086407068355\",\"value\":\"\"},\"__get_gd_contents\":{\"sync\":false,\"id\":\"12215818511772492055\",\"value\":\"\"},\"_downloadImage\":{\"sync\":false,\"id\":\"13026793382282359437\",\"value\":{}},\"relayout\":{\"sync\":false,\"id\":\"4858289318388614225\",\"value\":{}},\"_commands\":{\"sync\":false,\"id\":\"13365997014576498085\",\"value\":[]}}},\"children\":[{\"props\":{\"id\":\"plot-91541d3c-4579-411a-82bc-9b675094bb77\"},\"nodeType\":\"DOM\",\"type\":\"node\",\"instanceArgs\":{\"namespace\":\"html\",\"tag\":\"div\"},\"children\":[]}]},\n",
       "        window,\n",
       "    );\n",
       "    })()\n",
       "    </script>\n",
       "</div>\n"
      ],
      "text/plain": [
       "data: [\n",
       "  \"scatter with fields mode, type, x, and y\",\n",
       "  \"scatter with fields mode, type, x, and y\"\n",
       "]\n",
       "\n",
       "layout: \"layout with fields margin, template, title, xaxis, and yaxis\"\n",
       "\n"
      ]
     },
     "execution_count": 24,
     "metadata": {},
     "output_type": "execute_result"
    }
   ],
   "source": [
    "using Plots\n",
    "plotlyjs(size = (570, 570))\n",
    "\n",
    "xs = tk[:, :time]\n",
    "ys = tk[:, :heights]\n",
    "\n",
    "itp = Interpolator(xs, ys)\n",
    "\n",
    "x_range = range(xs[1], stop=xs[end], length=100)\n",
    "y_interpolated = [itp(x) for x in x_range]\n",
    "\n",
    "trace_org = scatter(x=xs, y=ys, mode=\"markers\")\n",
    "\n",
    "trace_itp = scatter(x=x_range, y=y_interpolated, mode=\"lines\")\n",
    "\n",
    "plot([trace_org, trace_itp], Layout(yaxis_title=\"Cumulative P(Failure)\", xaxis_title=\"Time\", title=\"Cubic spline (failure CDF)\"))"
   ]
  },
  {
   "cell_type": "code",
   "execution_count": 27,
   "metadata": {},
   "outputs": [
    {
     "data": {
      "text/plain": [
       "101-element Vector{Float64}:\n",
       " 0.0\n",
       " 0.003970881938471204\n",
       " 0.007802795097939828\n",
       " 0.011509750027956834\n",
       " 0.01510575727807326\n",
       " 0.01860482739784012\n",
       " 0.02202097093680841\n",
       " 0.025368198444529155\n",
       " 0.02866052047055336\n",
       " 0.03191194756443201\n",
       " 0.03513649027571616\n",
       " 0.038348159153956785\n",
       " 0.04156096474870494\n",
       " ⋮\n",
       " 0.6653489601073157\n",
       " 0.6753825180086599\n",
       " 0.6862587967369036\n",
       " 0.6981460105037433\n",
       " 0.7112123735208766\n",
       " 0.7256261\n",
       " 0.7493009722848667\n",
       " 0.7872915829373278\n",
       " 0.8354773614962274\n",
       " 0.8897377375004097\n",
       " 0.9459521404887193\n",
       " 1.0"
      ]
     },
     "execution_count": 27,
     "metadata": {},
     "output_type": "execute_result"
    }
   ],
   "source": [
    "baseline_failure_CDF = [itp(x) for x in time]"
   ]
  },
  {
   "cell_type": "code",
   "execution_count": 39,
   "metadata": {},
   "outputs": [
    {
     "data": {
      "text/html": [
       "<div class=\"data-frame\"><p>100 rows × 4 columns</p><table class=\"data-frame\"><thead><tr><th></th><th>time</th><th>failure_PDF</th><th>failure_CDF</th><th>survivor</th></tr><tr><th></th><th title=\"Int64\">Int64</th><th title=\"Float64\">Float64</th><th title=\"Float64\">Float64</th><th title=\"Float64\">Float64</th></tr></thead><tbody><tr><th>1</th><td>1</td><td>0.00397088</td><td>0.00397088</td><td>0.996029</td></tr><tr><th>2</th><td>2</td><td>0.00383191</td><td>0.0078028</td><td>0.992197</td></tr><tr><th>3</th><td>3</td><td>0.00370695</td><td>0.0115098</td><td>0.98849</td></tr><tr><th>4</th><td>4</td><td>0.00359601</td><td>0.0151058</td><td>0.984894</td></tr><tr><th>5</th><td>5</td><td>0.00349907</td><td>0.0186048</td><td>0.981395</td></tr><tr><th>6</th><td>6</td><td>0.00341614</td><td>0.022021</td><td>0.977979</td></tr><tr><th>7</th><td>7</td><td>0.00334723</td><td>0.0253682</td><td>0.974632</td></tr><tr><th>8</th><td>8</td><td>0.00329232</td><td>0.0286605</td><td>0.971339</td></tr><tr><th>9</th><td>9</td><td>0.00325143</td><td>0.0319119</td><td>0.968088</td></tr><tr><th>10</th><td>10</td><td>0.00322454</td><td>0.0351365</td><td>0.964864</td></tr><tr><th>11</th><td>11</td><td>0.00321167</td><td>0.0383482</td><td>0.961652</td></tr><tr><th>12</th><td>12</td><td>0.00321281</td><td>0.041561</td><td>0.958439</td></tr><tr><th>13</th><td>13</td><td>0.00322795</td><td>0.0447889</td><td>0.955211</td></tr><tr><th>14</th><td>14</td><td>0.00325711</td><td>0.048046</td><td>0.951954</td></tr><tr><th>15</th><td>15</td><td>0.00330028</td><td>0.0513463</td><td>0.948654</td></tr><tr><th>16</th><td>16</td><td>0.00335746</td><td>0.0547038</td><td>0.945296</td></tr><tr><th>17</th><td>17</td><td>0.00342865</td><td>0.0581324</td><td>0.941868</td></tr><tr><th>18</th><td>18</td><td>0.00351385</td><td>0.0616463</td><td>0.938354</td></tr><tr><th>19</th><td>19</td><td>0.00361306</td><td>0.0652593</td><td>0.934741</td></tr><tr><th>20</th><td>20</td><td>0.00372628</td><td>0.0689856</td><td>0.931014</td></tr><tr><th>21</th><td>21</td><td>0.00385351</td><td>0.0728391</td><td>0.927161</td></tr><tr><th>22</th><td>22</td><td>0.00399475</td><td>0.0768339</td><td>0.923166</td></tr><tr><th>23</th><td>23</td><td>0.00415001</td><td>0.0809839</td><td>0.919016</td></tr><tr><th>24</th><td>24</td><td>0.00431927</td><td>0.0853031</td><td>0.914697</td></tr><tr><th>25</th><td>25</td><td>0.00450254</td><td>0.0898057</td><td>0.910194</td></tr><tr><th>26</th><td>26</td><td>0.00469983</td><td>0.0945055</td><td>0.905494</td></tr><tr><th>27</th><td>27</td><td>0.00491112</td><td>0.0994166</td><td>0.900583</td></tr><tr><th>28</th><td>28</td><td>0.00513643</td><td>0.104553</td><td>0.895447</td></tr><tr><th>29</th><td>29</td><td>0.00537574</td><td>0.109929</td><td>0.890071</td></tr><tr><th>30</th><td>30</td><td>0.0113056</td><td>0.121234</td><td>0.878766</td></tr><tr><th>&vellip;</th><td>&vellip;</td><td>&vellip;</td><td>&vellip;</td><td>&vellip;</td></tr></tbody></table></div>"
      ],
      "text/latex": [
       "\\begin{tabular}{r|cccc}\n",
       "\t& time & failure\\_PDF & failure\\_CDF & survivor\\\\\n",
       "\t\\hline\n",
       "\t& Int64 & Float64 & Float64 & Float64\\\\\n",
       "\t\\hline\n",
       "\t1 & 1 & 0.00397088 & 0.00397088 & 0.996029 \\\\\n",
       "\t2 & 2 & 0.00383191 & 0.0078028 & 0.992197 \\\\\n",
       "\t3 & 3 & 0.00370695 & 0.0115098 & 0.98849 \\\\\n",
       "\t4 & 4 & 0.00359601 & 0.0151058 & 0.984894 \\\\\n",
       "\t5 & 5 & 0.00349907 & 0.0186048 & 0.981395 \\\\\n",
       "\t6 & 6 & 0.00341614 & 0.022021 & 0.977979 \\\\\n",
       "\t7 & 7 & 0.00334723 & 0.0253682 & 0.974632 \\\\\n",
       "\t8 & 8 & 0.00329232 & 0.0286605 & 0.971339 \\\\\n",
       "\t9 & 9 & 0.00325143 & 0.0319119 & 0.968088 \\\\\n",
       "\t10 & 10 & 0.00322454 & 0.0351365 & 0.964864 \\\\\n",
       "\t11 & 11 & 0.00321167 & 0.0383482 & 0.961652 \\\\\n",
       "\t12 & 12 & 0.00321281 & 0.041561 & 0.958439 \\\\\n",
       "\t13 & 13 & 0.00322795 & 0.0447889 & 0.955211 \\\\\n",
       "\t14 & 14 & 0.00325711 & 0.048046 & 0.951954 \\\\\n",
       "\t15 & 15 & 0.00330028 & 0.0513463 & 0.948654 \\\\\n",
       "\t16 & 16 & 0.00335746 & 0.0547038 & 0.945296 \\\\\n",
       "\t17 & 17 & 0.00342865 & 0.0581324 & 0.941868 \\\\\n",
       "\t18 & 18 & 0.00351385 & 0.0616463 & 0.938354 \\\\\n",
       "\t19 & 19 & 0.00361306 & 0.0652593 & 0.934741 \\\\\n",
       "\t20 & 20 & 0.00372628 & 0.0689856 & 0.931014 \\\\\n",
       "\t21 & 21 & 0.00385351 & 0.0728391 & 0.927161 \\\\\n",
       "\t22 & 22 & 0.00399475 & 0.0768339 & 0.923166 \\\\\n",
       "\t23 & 23 & 0.00415001 & 0.0809839 & 0.919016 \\\\\n",
       "\t24 & 24 & 0.00431927 & 0.0853031 & 0.914697 \\\\\n",
       "\t25 & 25 & 0.00450254 & 0.0898057 & 0.910194 \\\\\n",
       "\t26 & 26 & 0.00469983 & 0.0945055 & 0.905494 \\\\\n",
       "\t27 & 27 & 0.00491112 & 0.0994166 & 0.900583 \\\\\n",
       "\t28 & 28 & 0.00513643 & 0.104553 & 0.895447 \\\\\n",
       "\t29 & 29 & 0.00537574 & 0.109929 & 0.890071 \\\\\n",
       "\t30 & 30 & 0.0113056 & 0.121234 & 0.878766 \\\\\n",
       "\t$\\dots$ & $\\dots$ & $\\dots$ & $\\dots$ & $\\dots$ \\\\\n",
       "\\end{tabular}\n"
      ],
      "text/plain": [
       "\u001b[1m100×4 DataFrame\u001b[0m\n",
       "\u001b[1m Row \u001b[0m│\u001b[1m time  \u001b[0m\u001b[1m failure_PDF \u001b[0m\u001b[1m failure_CDF \u001b[0m\u001b[1m survivor  \u001b[0m\n",
       "\u001b[1m     \u001b[0m│\u001b[90m Int64 \u001b[0m\u001b[90m Float64     \u001b[0m\u001b[90m Float64     \u001b[0m\u001b[90m Float64   \u001b[0m\n",
       "─────┼────────────────────────────────────────────\n",
       "   1 │     1   0.00397088   0.00397088  0.996029\n",
       "   2 │     2   0.00383191   0.0078028   0.992197\n",
       "   3 │     3   0.00370695   0.0115098   0.98849\n",
       "   4 │     4   0.00359601   0.0151058   0.984894\n",
       "   5 │     5   0.00349907   0.0186048   0.981395\n",
       "   6 │     6   0.00341614   0.022021    0.977979\n",
       "   7 │     7   0.00334723   0.0253682   0.974632\n",
       "   8 │     8   0.00329232   0.0286605   0.971339\n",
       "   9 │     9   0.00325143   0.0319119   0.968088\n",
       "  10 │    10   0.00322454   0.0351365   0.964864\n",
       "  11 │    11   0.00321167   0.0383482   0.961652\n",
       "  ⋮  │   ⋮         ⋮            ⋮           ⋮\n",
       "  91 │    91   0.0108763    0.686259    0.313741\n",
       "  92 │    92   0.0118872    0.698146    0.301854\n",
       "  93 │    93   0.0130664    0.711212    0.288788\n",
       "  94 │    94   0.0144137    0.725626    0.274374\n",
       "  95 │    95   0.0236749    0.749301    0.250699\n",
       "  96 │    96   0.0379906    0.787292    0.212708\n",
       "  97 │    97   0.0481858    0.835477    0.164523\n",
       "  98 │    98   0.0542604    0.889738    0.110262\n",
       "  99 │    99   0.0562144    0.945952    0.0540479\n",
       " 100 │   100   0.0540479    1.0         0.0\n",
       "\u001b[36m                                   79 rows omitted\u001b[0m"
      ]
     },
     "execution_count": 39,
     "metadata": {},
     "output_type": "execute_result"
    }
   ],
   "source": [
    "baseline = DataFrame(time = time[1:(T)],\n",
    "                    failure_PDF = diff(baseline_failure_CDF),\n",
    "                    failure_CDF = baseline_failure_CDF[2:end],\n",
    "                    survivor = 1 .- baseline_failure_CDF[2:end]\n",
    ")"
   ]
  },
  {
   "cell_type": "code",
   "execution_count": 44,
   "metadata": {},
   "outputs": [
    {
     "name": "stdout",
     "output_type": "stream",
     "text": [
      "baseline = 100×5 DataFrame\n",
      " Row │ time   failure_PDF  failure_CDF  survivor   hazard\n",
      "     │ Int64  Float64      Float64      Float64    Float64\n",
      "─────┼────────────────────────────────────────────────────────\n",
      "   1 │     1   0.00397088   0.00397088  0.996029   0.00397088\n",
      "   2 │     2   0.00383191   0.0078028   0.992197   0.00384719\n",
      "   3 │     3   0.00370695   0.0115098   0.98849    0.00373611\n",
      "   4 │     4   0.00359601   0.0151058   0.984894   0.00363788\n",
      "   5 │     5   0.00349907   0.0186048   0.981395   0.00355274\n",
      "   6 │     6   0.00341614   0.022021    0.977979   0.00348091\n",
      "   7 │     7   0.00334723   0.0253682   0.974632   0.0034226\n",
      "   8 │     8   0.00329232   0.0286605   0.971339   0.00337802\n",
      "   9 │     9   0.00325143   0.0319119   0.968088   0.00334736\n",
      "  10 │    10   0.00322454   0.0351365   0.964864   0.00333084\n",
      "  11 │    11   0.00321167   0.0383482   0.961652   0.00332863\n",
      "  12 │    12   0.00321281   0.041561    0.958439   0.00334092\n",
      "  13 │    13   0.00322795   0.0447889   0.955211   0.00336793\n",
      "  14 │    14   0.00325711   0.048046    0.951954   0.00340983\n",
      "  15 │    15   0.00330028   0.0513463   0.948654   0.00346685\n",
      "  16 │    16   0.00335746   0.0547038   0.945296   0.00353918\n",
      "  17 │    17   0.00342865   0.0581324   0.941868   0.00362706\n",
      "  18 │    18   0.00351385   0.0616463   0.938354   0.00373072\n",
      "  19 │    19   0.00361306   0.0652593   0.934741   0.00385042\n",
      "  20 │    20   0.00372628   0.0689856   0.931014   0.00398643\n",
      "  21 │    21   0.00385351   0.0728391   0.927161   0.00413905\n",
      "  22 │    22   0.00399475   0.0768339   0.923166   0.00430859\n",
      "  23 │    23   0.00415001   0.0809839   0.919016   0.00449541\n",
      "  24 │    24   0.00431927   0.0853031   0.914697   0.00469988\n",
      "  25 │    25   0.00450254   0.0898057   0.910194   0.00492244\n",
      "  26 │    26   0.00469983   0.0945055   0.905494   0.00516354\n",
      "  27 │    27   0.00491112   0.0994166   0.900583   0.00542369\n",
      "  28 │    28   0.00513643   0.104553    0.895447   0.00570345\n",
      "  29 │    29   0.00537574   0.109929    0.890071   0.00600342\n",
      "  30 │    30   0.0113056    0.121234    0.878766   0.0127019\n",
      "  31 │    31   0.0200624    0.141297    0.858703   0.0228302\n",
      "  32 │    32   0.0245375    0.165834    0.834166   0.0285751\n",
      "  33 │    33   0.0247311    0.190565    0.809435   0.0296477\n",
      "  34 │    34   0.020643     0.211208    0.788792   0.025503\n",
      "  35 │    35   0.0159501    0.227158    0.772842   0.0202209\n",
      "  36 │    36   0.0143292    0.241488    0.758512   0.0185409\n",
      "  37 │    37   0.0139424    0.25543     0.74457    0.0183813\n",
      "  38 │    38   0.0147897    0.27022     0.72978    0.0198635\n",
      "  39 │    39   0.0178326    0.288052    0.711948   0.0244356\n",
      "  40 │    40   0.0202219    0.308274    0.691726   0.0284036\n",
      "  41 │    41   0.0195716    0.327846    0.672154   0.0282939\n",
      "  42 │    42   0.0158817    0.343728    0.656272   0.0236281\n",
      "  43 │    43   0.00915223   0.35288     0.64712    0.0139458\n",
      "  44 │    44   0.00454942   0.357429    0.642571   0.00703025\n",
      "  45 │    45   0.00413312   0.361562    0.638438   0.00643216\n",
      "  46 │    46   0.003767     0.365329    0.634671   0.00590034\n",
      "  47 │    47   0.00345106   0.36878     0.63122    0.00543756\n",
      "  48 │    48   0.00318529   0.371966    0.628034   0.00504625\n",
      "  49 │    49   0.0029697    0.374935    0.625065   0.00472856\n",
      "  50 │    50   0.00280428   0.37774     0.62226    0.00448638\n",
      "  51 │    51   0.00268904   0.380429    0.619571   0.0043214\n",
      "  52 │    52   0.00262397   0.383053    0.616947   0.00423514\n",
      "  53 │    53   0.00260908   0.385662    0.614338   0.00422902\n",
      "  54 │    54   0.00264437   0.388306    0.611694   0.00430442\n",
      "  55 │    55   0.00272983   0.391036    0.608964   0.00446274\n",
      "  56 │    56   0.00286547   0.393901    0.606099   0.00470548\n",
      "  57 │    57   0.00305128   0.396953    0.603047   0.0050343\n",
      "  58 │    58   0.00328727   0.40024     0.59976    0.0054511\n",
      "  59 │    59   0.00357343   0.403813    0.596187   0.0059581\n",
      "  60 │    60   0.00371478   0.407528    0.592472   0.0062309\n",
      "  61 │    61   0.00371823   0.411246    0.588754   0.00627579\n",
      "  62 │    62   0.00378223   0.415029    0.584971   0.00642412\n",
      "  63 │    63   0.00390677   0.418935    0.581065   0.00667857\n",
      "  64 │    64   0.00409187   0.423027    0.576973   0.00704202\n",
      "  65 │    65   0.00433752   0.427365    0.572635   0.00751771\n",
      "  66 │    66   0.00464371   0.432009    0.567991   0.00810937\n",
      "  67 │    67   0.00501046   0.437019    0.562981   0.00882136\n",
      "  68 │    68   0.00543775   0.442457    0.557543   0.00965885\n",
      "  69 │    69   0.0059256    0.448382    0.551618   0.010628\n",
      "  70 │    70   0.00647399   0.454856    0.545144   0.0117364\n",
      "  71 │    71   0.00832652   0.463183    0.536817   0.015274\n",
      "  72 │    72   0.0110254    0.474208    0.525792   0.0205384\n",
      "  73 │    73   0.0130981    0.487306    0.512694   0.0249111\n",
      "  74 │    74   0.0145446    0.501851    0.498149   0.0283689\n",
      "  75 │    75   0.0153649    0.517216    0.482784   0.0308441\n",
      "  76 │    76   0.0155591    0.532775    0.467225   0.0322279\n",
      "  77 │    77   0.0151272    0.547902    0.452098   0.0323766\n",
      "  78 │    78   0.0140691    0.561971    0.438029   0.0311195\n",
      "  79 │    79   0.0123848    0.574356    0.425644   0.0282739\n",
      "  80 │    80   0.0108581    0.585214    0.414786   0.0255099\n",
      "  81 │    81   0.0100187    0.595233    0.404767   0.0241539\n",
      "  82 │    82   0.0093475    0.60458     0.39542    0.0230935\n",
      "  83 │    83   0.00884451   0.613425    0.386575   0.0223674\n",
      "  84 │    84   0.00850973   0.621934    0.378066   0.0220131\n",
      "  85 │    85   0.00834317   0.630278    0.369722   0.022068\n",
      "  86 │    86   0.00834482   0.638622    0.361378   0.0225705\n",
      "  87 │    87   0.00851468   0.647137    0.352863   0.0235617\n",
      "  88 │    88   0.00885276   0.65599     0.34401    0.0250884\n",
      "  89 │    89   0.00935905   0.665349    0.334651   0.0272057\n",
      "  90 │    90   0.0100336    0.675383    0.324617   0.0299822\n",
      "  91 │    91   0.0108763    0.686259    0.313741   0.0335049\n",
      "  92 │    92   0.0118872    0.698146    0.301854   0.0378886\n",
      "  93 │    93   0.0130664    0.711212    0.288788   0.043287\n",
      "  94 │    94   0.0144137    0.725626    0.274374   0.0499112\n",
      "  95 │    95   0.0236749    0.749301    0.250699   0.0862869\n",
      "  96 │    96   0.0379906    0.787292    0.212708   0.151539\n",
      "  97 │    97   0.0481858    0.835477    0.164523   0.226534\n",
      "  98 │    98   0.0542604    0.889738    0.110262   0.329805\n",
      "  99 │    99   0.0562144    0.945952    0.0540479  0.509825\n",
      " 100 │   100   0.0540479    1.0         0.0        1.0\n"
     ]
    },
    {
     "data": {
      "text/html": [
       "<div class=\"data-frame\"><p>100 rows × 5 columns</p><table class=\"data-frame\"><thead><tr><th></th><th>time</th><th>failure_PDF</th><th>failure_CDF</th><th>survivor</th><th>hazard</th></tr><tr><th></th><th title=\"Int64\">Int64</th><th title=\"Float64\">Float64</th><th title=\"Float64\">Float64</th><th title=\"Float64\">Float64</th><th title=\"Float64\">Float64</th></tr></thead><tbody><tr><th>1</th><td>1</td><td>0.00397088</td><td>0.00397088</td><td>0.996029</td><td>0.00397088</td></tr><tr><th>2</th><td>2</td><td>0.00383191</td><td>0.0078028</td><td>0.992197</td><td>0.00384719</td></tr><tr><th>3</th><td>3</td><td>0.00370695</td><td>0.0115098</td><td>0.98849</td><td>0.00373611</td></tr><tr><th>4</th><td>4</td><td>0.00359601</td><td>0.0151058</td><td>0.984894</td><td>0.00363788</td></tr><tr><th>5</th><td>5</td><td>0.00349907</td><td>0.0186048</td><td>0.981395</td><td>0.00355274</td></tr><tr><th>6</th><td>6</td><td>0.00341614</td><td>0.022021</td><td>0.977979</td><td>0.00348091</td></tr><tr><th>7</th><td>7</td><td>0.00334723</td><td>0.0253682</td><td>0.974632</td><td>0.0034226</td></tr><tr><th>8</th><td>8</td><td>0.00329232</td><td>0.0286605</td><td>0.971339</td><td>0.00337802</td></tr><tr><th>9</th><td>9</td><td>0.00325143</td><td>0.0319119</td><td>0.968088</td><td>0.00334736</td></tr><tr><th>10</th><td>10</td><td>0.00322454</td><td>0.0351365</td><td>0.964864</td><td>0.00333084</td></tr><tr><th>11</th><td>11</td><td>0.00321167</td><td>0.0383482</td><td>0.961652</td><td>0.00332863</td></tr><tr><th>12</th><td>12</td><td>0.00321281</td><td>0.041561</td><td>0.958439</td><td>0.00334092</td></tr><tr><th>13</th><td>13</td><td>0.00322795</td><td>0.0447889</td><td>0.955211</td><td>0.00336793</td></tr><tr><th>14</th><td>14</td><td>0.00325711</td><td>0.048046</td><td>0.951954</td><td>0.00340983</td></tr><tr><th>15</th><td>15</td><td>0.00330028</td><td>0.0513463</td><td>0.948654</td><td>0.00346685</td></tr><tr><th>16</th><td>16</td><td>0.00335746</td><td>0.0547038</td><td>0.945296</td><td>0.00353918</td></tr><tr><th>17</th><td>17</td><td>0.00342865</td><td>0.0581324</td><td>0.941868</td><td>0.00362706</td></tr><tr><th>18</th><td>18</td><td>0.00351385</td><td>0.0616463</td><td>0.938354</td><td>0.00373072</td></tr><tr><th>19</th><td>19</td><td>0.00361306</td><td>0.0652593</td><td>0.934741</td><td>0.00385042</td></tr><tr><th>20</th><td>20</td><td>0.00372628</td><td>0.0689856</td><td>0.931014</td><td>0.00398643</td></tr><tr><th>21</th><td>21</td><td>0.00385351</td><td>0.0728391</td><td>0.927161</td><td>0.00413905</td></tr><tr><th>22</th><td>22</td><td>0.00399475</td><td>0.0768339</td><td>0.923166</td><td>0.00430859</td></tr><tr><th>23</th><td>23</td><td>0.00415001</td><td>0.0809839</td><td>0.919016</td><td>0.00449541</td></tr><tr><th>24</th><td>24</td><td>0.00431927</td><td>0.0853031</td><td>0.914697</td><td>0.00469988</td></tr><tr><th>25</th><td>25</td><td>0.00450254</td><td>0.0898057</td><td>0.910194</td><td>0.00492244</td></tr><tr><th>26</th><td>26</td><td>0.00469983</td><td>0.0945055</td><td>0.905494</td><td>0.00516354</td></tr><tr><th>27</th><td>27</td><td>0.00491112</td><td>0.0994166</td><td>0.900583</td><td>0.00542369</td></tr><tr><th>28</th><td>28</td><td>0.00513643</td><td>0.104553</td><td>0.895447</td><td>0.00570345</td></tr><tr><th>29</th><td>29</td><td>0.00537574</td><td>0.109929</td><td>0.890071</td><td>0.00600342</td></tr><tr><th>30</th><td>30</td><td>0.0113056</td><td>0.121234</td><td>0.878766</td><td>0.0127019</td></tr><tr><th>&vellip;</th><td>&vellip;</td><td>&vellip;</td><td>&vellip;</td><td>&vellip;</td><td>&vellip;</td></tr></tbody></table></div>"
      ],
      "text/latex": [
       "\\begin{tabular}{r|ccccc}\n",
       "\t& time & failure\\_PDF & failure\\_CDF & survivor & hazard\\\\\n",
       "\t\\hline\n",
       "\t& Int64 & Float64 & Float64 & Float64 & Float64\\\\\n",
       "\t\\hline\n",
       "\t1 & 1 & 0.00397088 & 0.00397088 & 0.996029 & 0.00397088 \\\\\n",
       "\t2 & 2 & 0.00383191 & 0.0078028 & 0.992197 & 0.00384719 \\\\\n",
       "\t3 & 3 & 0.00370695 & 0.0115098 & 0.98849 & 0.00373611 \\\\\n",
       "\t4 & 4 & 0.00359601 & 0.0151058 & 0.984894 & 0.00363788 \\\\\n",
       "\t5 & 5 & 0.00349907 & 0.0186048 & 0.981395 & 0.00355274 \\\\\n",
       "\t6 & 6 & 0.00341614 & 0.022021 & 0.977979 & 0.00348091 \\\\\n",
       "\t7 & 7 & 0.00334723 & 0.0253682 & 0.974632 & 0.0034226 \\\\\n",
       "\t8 & 8 & 0.00329232 & 0.0286605 & 0.971339 & 0.00337802 \\\\\n",
       "\t9 & 9 & 0.00325143 & 0.0319119 & 0.968088 & 0.00334736 \\\\\n",
       "\t10 & 10 & 0.00322454 & 0.0351365 & 0.964864 & 0.00333084 \\\\\n",
       "\t11 & 11 & 0.00321167 & 0.0383482 & 0.961652 & 0.00332863 \\\\\n",
       "\t12 & 12 & 0.00321281 & 0.041561 & 0.958439 & 0.00334092 \\\\\n",
       "\t13 & 13 & 0.00322795 & 0.0447889 & 0.955211 & 0.00336793 \\\\\n",
       "\t14 & 14 & 0.00325711 & 0.048046 & 0.951954 & 0.00340983 \\\\\n",
       "\t15 & 15 & 0.00330028 & 0.0513463 & 0.948654 & 0.00346685 \\\\\n",
       "\t16 & 16 & 0.00335746 & 0.0547038 & 0.945296 & 0.00353918 \\\\\n",
       "\t17 & 17 & 0.00342865 & 0.0581324 & 0.941868 & 0.00362706 \\\\\n",
       "\t18 & 18 & 0.00351385 & 0.0616463 & 0.938354 & 0.00373072 \\\\\n",
       "\t19 & 19 & 0.00361306 & 0.0652593 & 0.934741 & 0.00385042 \\\\\n",
       "\t20 & 20 & 0.00372628 & 0.0689856 & 0.931014 & 0.00398643 \\\\\n",
       "\t21 & 21 & 0.00385351 & 0.0728391 & 0.927161 & 0.00413905 \\\\\n",
       "\t22 & 22 & 0.00399475 & 0.0768339 & 0.923166 & 0.00430859 \\\\\n",
       "\t23 & 23 & 0.00415001 & 0.0809839 & 0.919016 & 0.00449541 \\\\\n",
       "\t24 & 24 & 0.00431927 & 0.0853031 & 0.914697 & 0.00469988 \\\\\n",
       "\t25 & 25 & 0.00450254 & 0.0898057 & 0.910194 & 0.00492244 \\\\\n",
       "\t26 & 26 & 0.00469983 & 0.0945055 & 0.905494 & 0.00516354 \\\\\n",
       "\t27 & 27 & 0.00491112 & 0.0994166 & 0.900583 & 0.00542369 \\\\\n",
       "\t28 & 28 & 0.00513643 & 0.104553 & 0.895447 & 0.00570345 \\\\\n",
       "\t29 & 29 & 0.00537574 & 0.109929 & 0.890071 & 0.00600342 \\\\\n",
       "\t30 & 30 & 0.0113056 & 0.121234 & 0.878766 & 0.0127019 \\\\\n",
       "\t$\\dots$ & $\\dots$ & $\\dots$ & $\\dots$ & $\\dots$ & $\\dots$ \\\\\n",
       "\\end{tabular}\n"
      ],
      "text/plain": [
       "\u001b[1m100×5 DataFrame\u001b[0m\n",
       "\u001b[1m Row \u001b[0m│\u001b[1m time  \u001b[0m\u001b[1m failure_PDF \u001b[0m\u001b[1m failure_CDF \u001b[0m\u001b[1m survivor  \u001b[0m\u001b[1m hazard     \u001b[0m\n",
       "\u001b[1m     \u001b[0m│\u001b[90m Int64 \u001b[0m\u001b[90m Float64     \u001b[0m\u001b[90m Float64     \u001b[0m\u001b[90m Float64   \u001b[0m\u001b[90m Float64    \u001b[0m\n",
       "─────┼────────────────────────────────────────────────────────\n",
       "   1 │     1   0.00397088   0.00397088  0.996029   0.00397088\n",
       "   2 │     2   0.00383191   0.0078028   0.992197   0.00384719\n",
       "   3 │     3   0.00370695   0.0115098   0.98849    0.00373611\n",
       "   4 │     4   0.00359601   0.0151058   0.984894   0.00363788\n",
       "   5 │     5   0.00349907   0.0186048   0.981395   0.00355274\n",
       "   6 │     6   0.00341614   0.022021    0.977979   0.00348091\n",
       "   7 │     7   0.00334723   0.0253682   0.974632   0.0034226\n",
       "   8 │     8   0.00329232   0.0286605   0.971339   0.00337802\n",
       "   9 │     9   0.00325143   0.0319119   0.968088   0.00334736\n",
       "  10 │    10   0.00322454   0.0351365   0.964864   0.00333084\n",
       "  11 │    11   0.00321167   0.0383482   0.961652   0.00332863\n",
       "  ⋮  │   ⋮         ⋮            ⋮           ⋮          ⋮\n",
       "  91 │    91   0.0108763    0.686259    0.313741   0.0335049\n",
       "  92 │    92   0.0118872    0.698146    0.301854   0.0378886\n",
       "  93 │    93   0.0130664    0.711212    0.288788   0.043287\n",
       "  94 │    94   0.0144137    0.725626    0.274374   0.0499112\n",
       "  95 │    95   0.0236749    0.749301    0.250699   0.0862869\n",
       "  96 │    96   0.0379906    0.787292    0.212708   0.151539\n",
       "  97 │    97   0.0481858    0.835477    0.164523   0.226534\n",
       "  98 │    98   0.0542604    0.889738    0.110262   0.329805\n",
       "  99 │    99   0.0562144    0.945952    0.0540479  0.509825\n",
       " 100 │   100   0.0540479    1.0         0.0        1.0\n",
       "\u001b[36m                                               79 rows omitted\u001b[0m"
      ]
     },
     "execution_count": 44,
     "metadata": {},
     "output_type": "execute_result"
    }
   ],
   "source": [
    "baseline[!, :hazard] = baseline[:, :failure_PDF] ./ (1 .- baseline_failure_CDF[1:(T)])\n",
    "@show baseline"
   ]
  },
  {
   "cell_type": "code",
   "execution_count": 45,
   "metadata": {},
   "outputs": [
    {
     "data": {
      "text/html": [
       "<div class=\"data-frame\"><p>100 rows × 5 columns</p><table class=\"data-frame\"><thead><tr><th></th><th>time</th><th>cdf</th><th>pdf</th><th>survivor</th><th>hazard</th></tr><tr><th></th><th title=\"Int64\">Int64</th><th title=\"Float64\">Float64</th><th title=\"Float64\">Float64</th><th title=\"Float64\">Float64</th><th title=\"Float64\">Float64</th></tr></thead><tbody><tr><th>1</th><td>1</td><td>0.00397088</td><td>0.00397088</td><td>0.996029</td><td>0.00397088</td></tr><tr><th>2</th><td>2</td><td>0.0078028</td><td>0.00383191</td><td>0.992197</td><td>0.00384719</td></tr><tr><th>3</th><td>3</td><td>0.0115098</td><td>0.00370695</td><td>0.98849</td><td>0.00373611</td></tr><tr><th>4</th><td>4</td><td>0.0151058</td><td>0.00359601</td><td>0.984894</td><td>0.00363788</td></tr><tr><th>5</th><td>5</td><td>0.0186048</td><td>0.00349907</td><td>0.981395</td><td>0.00355274</td></tr><tr><th>6</th><td>6</td><td>0.022021</td><td>0.00341614</td><td>0.977979</td><td>0.00348091</td></tr><tr><th>7</th><td>7</td><td>0.0253682</td><td>0.00334723</td><td>0.974632</td><td>0.0034226</td></tr><tr><th>8</th><td>8</td><td>0.0286605</td><td>0.00329232</td><td>0.971339</td><td>0.00337802</td></tr><tr><th>9</th><td>9</td><td>0.0319119</td><td>0.00325143</td><td>0.968088</td><td>0.00334736</td></tr><tr><th>10</th><td>10</td><td>0.0351365</td><td>0.00322454</td><td>0.964864</td><td>0.00333084</td></tr><tr><th>11</th><td>11</td><td>0.0383482</td><td>0.00321167</td><td>0.961652</td><td>0.00332863</td></tr><tr><th>12</th><td>12</td><td>0.041561</td><td>0.00321281</td><td>0.958439</td><td>0.00334092</td></tr><tr><th>13</th><td>13</td><td>0.0447889</td><td>0.00322795</td><td>0.955211</td><td>0.00336793</td></tr><tr><th>14</th><td>14</td><td>0.048046</td><td>0.00325711</td><td>0.951954</td><td>0.00340983</td></tr><tr><th>15</th><td>15</td><td>0.0513463</td><td>0.00330028</td><td>0.948654</td><td>0.00346685</td></tr><tr><th>16</th><td>16</td><td>0.0547038</td><td>0.00335746</td><td>0.945296</td><td>0.00353918</td></tr><tr><th>17</th><td>17</td><td>0.0581324</td><td>0.00342865</td><td>0.941868</td><td>0.00362706</td></tr><tr><th>18</th><td>18</td><td>0.0616463</td><td>0.00351385</td><td>0.938354</td><td>0.00373072</td></tr><tr><th>19</th><td>19</td><td>0.0652593</td><td>0.00361306</td><td>0.934741</td><td>0.00385042</td></tr><tr><th>20</th><td>20</td><td>0.0689856</td><td>0.00372628</td><td>0.931014</td><td>0.00398643</td></tr><tr><th>21</th><td>21</td><td>0.0728391</td><td>0.00385351</td><td>0.927161</td><td>0.00413905</td></tr><tr><th>22</th><td>22</td><td>0.0768339</td><td>0.00399475</td><td>0.923166</td><td>0.00430859</td></tr><tr><th>23</th><td>23</td><td>0.0809839</td><td>0.00415001</td><td>0.919016</td><td>0.00449541</td></tr><tr><th>24</th><td>24</td><td>0.0853031</td><td>0.00431927</td><td>0.914697</td><td>0.00469988</td></tr><tr><th>25</th><td>25</td><td>0.0898057</td><td>0.00450254</td><td>0.910194</td><td>0.00492244</td></tr><tr><th>26</th><td>26</td><td>0.0945055</td><td>0.00469983</td><td>0.905494</td><td>0.00516354</td></tr><tr><th>27</th><td>27</td><td>0.0994166</td><td>0.00491112</td><td>0.900583</td><td>0.00542369</td></tr><tr><th>28</th><td>28</td><td>0.104553</td><td>0.00513643</td><td>0.895447</td><td>0.00570345</td></tr><tr><th>29</th><td>29</td><td>0.109929</td><td>0.00537574</td><td>0.890071</td><td>0.00600342</td></tr><tr><th>30</th><td>30</td><td>0.121234</td><td>0.0113056</td><td>0.878766</td><td>0.0127019</td></tr><tr><th>&vellip;</th><td>&vellip;</td><td>&vellip;</td><td>&vellip;</td><td>&vellip;</td><td>&vellip;</td></tr></tbody></table></div>"
      ],
      "text/latex": [
       "\\begin{tabular}{r|ccccc}\n",
       "\t& time & cdf & pdf & survivor & hazard\\\\\n",
       "\t\\hline\n",
       "\t& Int64 & Float64 & Float64 & Float64 & Float64\\\\\n",
       "\t\\hline\n",
       "\t1 & 1 & 0.00397088 & 0.00397088 & 0.996029 & 0.00397088 \\\\\n",
       "\t2 & 2 & 0.0078028 & 0.00383191 & 0.992197 & 0.00384719 \\\\\n",
       "\t3 & 3 & 0.0115098 & 0.00370695 & 0.98849 & 0.00373611 \\\\\n",
       "\t4 & 4 & 0.0151058 & 0.00359601 & 0.984894 & 0.00363788 \\\\\n",
       "\t5 & 5 & 0.0186048 & 0.00349907 & 0.981395 & 0.00355274 \\\\\n",
       "\t6 & 6 & 0.022021 & 0.00341614 & 0.977979 & 0.00348091 \\\\\n",
       "\t7 & 7 & 0.0253682 & 0.00334723 & 0.974632 & 0.0034226 \\\\\n",
       "\t8 & 8 & 0.0286605 & 0.00329232 & 0.971339 & 0.00337802 \\\\\n",
       "\t9 & 9 & 0.0319119 & 0.00325143 & 0.968088 & 0.00334736 \\\\\n",
       "\t10 & 10 & 0.0351365 & 0.00322454 & 0.964864 & 0.00333084 \\\\\n",
       "\t11 & 11 & 0.0383482 & 0.00321167 & 0.961652 & 0.00332863 \\\\\n",
       "\t12 & 12 & 0.041561 & 0.00321281 & 0.958439 & 0.00334092 \\\\\n",
       "\t13 & 13 & 0.0447889 & 0.00322795 & 0.955211 & 0.00336793 \\\\\n",
       "\t14 & 14 & 0.048046 & 0.00325711 & 0.951954 & 0.00340983 \\\\\n",
       "\t15 & 15 & 0.0513463 & 0.00330028 & 0.948654 & 0.00346685 \\\\\n",
       "\t16 & 16 & 0.0547038 & 0.00335746 & 0.945296 & 0.00353918 \\\\\n",
       "\t17 & 17 & 0.0581324 & 0.00342865 & 0.941868 & 0.00362706 \\\\\n",
       "\t18 & 18 & 0.0616463 & 0.00351385 & 0.938354 & 0.00373072 \\\\\n",
       "\t19 & 19 & 0.0652593 & 0.00361306 & 0.934741 & 0.00385042 \\\\\n",
       "\t20 & 20 & 0.0689856 & 0.00372628 & 0.931014 & 0.00398643 \\\\\n",
       "\t21 & 21 & 0.0728391 & 0.00385351 & 0.927161 & 0.00413905 \\\\\n",
       "\t22 & 22 & 0.0768339 & 0.00399475 & 0.923166 & 0.00430859 \\\\\n",
       "\t23 & 23 & 0.0809839 & 0.00415001 & 0.919016 & 0.00449541 \\\\\n",
       "\t24 & 24 & 0.0853031 & 0.00431927 & 0.914697 & 0.00469988 \\\\\n",
       "\t25 & 25 & 0.0898057 & 0.00450254 & 0.910194 & 0.00492244 \\\\\n",
       "\t26 & 26 & 0.0945055 & 0.00469983 & 0.905494 & 0.00516354 \\\\\n",
       "\t27 & 27 & 0.0994166 & 0.00491112 & 0.900583 & 0.00542369 \\\\\n",
       "\t28 & 28 & 0.104553 & 0.00513643 & 0.895447 & 0.00570345 \\\\\n",
       "\t29 & 29 & 0.109929 & 0.00537574 & 0.890071 & 0.00600342 \\\\\n",
       "\t30 & 30 & 0.121234 & 0.0113056 & 0.878766 & 0.0127019 \\\\\n",
       "\t$\\dots$ & $\\dots$ & $\\dots$ & $\\dots$ & $\\dots$ & $\\dots$ \\\\\n",
       "\\end{tabular}\n"
      ],
      "text/plain": [
       "\u001b[1m100×5 DataFrame\u001b[0m\n",
       "\u001b[1m Row \u001b[0m│\u001b[1m time  \u001b[0m\u001b[1m cdf        \u001b[0m\u001b[1m pdf        \u001b[0m\u001b[1m survivor  \u001b[0m\u001b[1m hazard     \u001b[0m\n",
       "\u001b[1m     \u001b[0m│\u001b[90m Int64 \u001b[0m\u001b[90m Float64    \u001b[0m\u001b[90m Float64    \u001b[0m\u001b[90m Float64   \u001b[0m\u001b[90m Float64    \u001b[0m\n",
       "─────┼──────────────────────────────────────────────────────\n",
       "   1 │     1  0.00397088  0.00397088  0.996029   0.00397088\n",
       "   2 │     2  0.0078028   0.00383191  0.992197   0.00384719\n",
       "   3 │     3  0.0115098   0.00370695  0.98849    0.00373611\n",
       "   4 │     4  0.0151058   0.00359601  0.984894   0.00363788\n",
       "   5 │     5  0.0186048   0.00349907  0.981395   0.00355274\n",
       "   6 │     6  0.022021    0.00341614  0.977979   0.00348091\n",
       "   7 │     7  0.0253682   0.00334723  0.974632   0.0034226\n",
       "   8 │     8  0.0286605   0.00329232  0.971339   0.00337802\n",
       "   9 │     9  0.0319119   0.00325143  0.968088   0.00334736\n",
       "  10 │    10  0.0351365   0.00322454  0.964864   0.00333084\n",
       "  11 │    11  0.0383482   0.00321167  0.961652   0.00332863\n",
       "  ⋮  │   ⋮        ⋮           ⋮           ⋮          ⋮\n",
       "  91 │    91  0.686259    0.0108763   0.313741   0.0335049\n",
       "  92 │    92  0.698146    0.0118872   0.301854   0.0378886\n",
       "  93 │    93  0.711212    0.0130664   0.288788   0.043287\n",
       "  94 │    94  0.725626    0.0144137   0.274374   0.0499112\n",
       "  95 │    95  0.749301    0.0236749   0.250699   0.0862869\n",
       "  96 │    96  0.787292    0.0379906   0.212708   0.151539\n",
       "  97 │    97  0.835477    0.0481858   0.164523   0.226534\n",
       "  98 │    98  0.889738    0.0542604   0.110262   0.329805\n",
       "  99 │    99  0.945952    0.0562144   0.0540479  0.509825\n",
       " 100 │   100  1.0         0.0540479   0.0        1.0\n",
       "\u001b[36m                                             79 rows omitted\u001b[0m"
      ]
     },
     "execution_count": 45,
     "metadata": {},
     "output_type": "execute_result"
    }
   ],
   "source": [
    "d1 = DataFrame(knots = k, heights = heights)\n",
    "d2 = DataFrame(time = 1:T,\n",
    "               cdf = baseline[:, :failure_CDF],\n",
    "               pdf = baseline[:, :failure_PDF],\n",
    "               survivor = baseline[:, :survivor],\n",
    "               hazard = baseline[:, :hazard])"
   ]
  },
  {
   "cell_type": "markdown",
   "metadata": {},
   "source": [
    "**1b)** Create a random failure CDF according to the method of Harden and Kropko (see Generating the Baseline Hazard Function). Plot your baseline survival function (1 - failure CDF)."
   ]
  },
  {
   "cell_type": "code",
   "execution_count": 3,
   "metadata": {},
   "outputs": [
    {
     "data": {
      "application/vnd.webio.node+json": {
       "children": [],
       "instanceArgs": {
        "namespace": "html",
        "tag": "div"
       },
       "nodeType": "DOM",
       "props": {},
       "type": "node"
      },
      "text/html": [
       "<div style=\"padding: 1em; background-color: #f8d6da; border: 1px solid #f5c6cb; font-weight: bold;\">\n",
       "<p>The WebIO Jupyter extension was not detected. See the\n",
       "<a href=\"https://juliagizmos.github.io/WebIO.jl/latest/providers/ijulia/\" target=\"_blank\">\n",
       "    WebIO Jupyter integration documentation\n",
       "</a>\n",
       "for more information.\n",
       "</div>\n"
      ],
      "text/plain": [
       "WebIO._IJuliaInit()"
      ]
     },
     "metadata": {},
     "output_type": "display_data"
    },
    {
     "data": {
      "application/vnd.plotly.v1+json": {
       "config": {
        "displayModeBar": null,
        "displaylogo": null,
        "doubleClickDelay": null,
        "editable": false,
        "linkText": null,
        "locale": null,
        "modeBarButtons": null,
        "modeBarButtonsToAdd": null,
        "modeBarButtonsToRemove": null,
        "plotlyServerURL": null,
        "responsive": true,
        "scrollZoom": true,
        "showEditInChartStudio": null,
        "showLink": false,
        "staticPlot": false,
        "toImageButtonOptions": null
       },
       "data": [
        {
         "fields": {
          "mode": "markers",
          "type": "scatter",
          "x": [
           0,
           10,
           20,
           30,
           40,
           50,
           60,
           70,
           80,
           90
          ],
          "y": [
           0,
           0.02927137938436004,
           0.17253923869330867,
           0.2502074771100705,
           0.26698182072585264,
           0.39564300370207395,
           0.44206275124411293,
           0.6884654885632083,
           0.7453288918115217,
           1
          ]
         }
        }
       ],
       "divid": {
        "value": 1.475525735312261e+38
       },
       "frames": [],
       "layout": {
        "fields": {
         "margin": {
          "b": 50,
          "l": 50,
          "r": 50,
          "t": 60
         },
         "template": {
          "data": {
           "bar": [
            {
             "fields": {
              "error_x": {
               "color": "#2a3f5f"
              },
              "error_y": {
               "color": "#2a3f5f"
              },
              "marker": {
               "line": {
                "color": "#E5ECF6",
                "width": 0.5
               }
              },
              "type": "bar"
             }
            }
           ],
           "barpolar": [
            {
             "fields": {
              "marker": {
               "line": {
                "color": "#E5ECF6",
                "width": 0.5
               }
              },
              "type": "barpolar"
             }
            }
           ],
           "carpet": [
            {
             "fields": {
              "aaxis": {
               "endlinecolor": "#2a3f5f",
               "gridcolor": "white",
               "linecolor": "white",
               "minorgridcolor": "white",
               "startlinecolor": "#2a3f5f"
              },
              "baxis": {
               "endlinecolor": "#2a3f5f",
               "gridcolor": "white",
               "linecolor": "white",
               "minorgridcolor": "white",
               "startlinecolor": "#2a3f5f"
              },
              "type": "carpet"
             }
            }
           ],
           "choropleth": [
            {
             "fields": {
              "colorbar": {
               "outlinewidth": 0,
               "ticks": ""
              },
              "type": "choropleth"
             }
            }
           ],
           "contour": [
            {
             "fields": {
              "colorbar": {
               "outlinewidth": 0,
               "ticks": ""
              },
              "colorscale": [
               [
                0,
                "#0d0887"
               ],
               [
                0.1111111111111111,
                "#46039f"
               ],
               [
                0.2222222222222222,
                "#7201a8"
               ],
               [
                0.3333333333333333,
                "#9c179e"
               ],
               [
                0.4444444444444444,
                "#bd3786"
               ],
               [
                0.5555555555555556,
                "#d8576b"
               ],
               [
                0.6666666666666666,
                "#ed7953"
               ],
               [
                0.7777777777777778,
                "#fb9f3a"
               ],
               [
                0.8888888888888888,
                "#fdca26"
               ],
               [
                1,
                "#f0f921"
               ]
              ],
              "type": "contour"
             }
            }
           ],
           "contourcarpet": [
            {
             "fields": {
              "colorbar": {
               "outlinewidth": 0,
               "ticks": ""
              },
              "type": "contourcarpet"
             }
            }
           ],
           "heatmap": [
            {
             "fields": {
              "colorbar": {
               "outlinewidth": 0,
               "ticks": ""
              },
              "colorscale": [
               [
                0,
                "#0d0887"
               ],
               [
                0.1111111111111111,
                "#46039f"
               ],
               [
                0.2222222222222222,
                "#7201a8"
               ],
               [
                0.3333333333333333,
                "#9c179e"
               ],
               [
                0.4444444444444444,
                "#bd3786"
               ],
               [
                0.5555555555555556,
                "#d8576b"
               ],
               [
                0.6666666666666666,
                "#ed7953"
               ],
               [
                0.7777777777777778,
                "#fb9f3a"
               ],
               [
                0.8888888888888888,
                "#fdca26"
               ],
               [
                1,
                "#f0f921"
               ]
              ],
              "type": "heatmap"
             }
            }
           ],
           "heatmapgl": [
            {
             "fields": {
              "colorbar": {
               "outlinewidth": 0,
               "ticks": ""
              },
              "colorscale": [
               [
                0,
                "#0d0887"
               ],
               [
                0.1111111111111111,
                "#46039f"
               ],
               [
                0.2222222222222222,
                "#7201a8"
               ],
               [
                0.3333333333333333,
                "#9c179e"
               ],
               [
                0.4444444444444444,
                "#bd3786"
               ],
               [
                0.5555555555555556,
                "#d8576b"
               ],
               [
                0.6666666666666666,
                "#ed7953"
               ],
               [
                0.7777777777777778,
                "#fb9f3a"
               ],
               [
                0.8888888888888888,
                "#fdca26"
               ],
               [
                1,
                "#f0f921"
               ]
              ],
              "type": "heatmapgl"
             }
            }
           ],
           "histogram": [
            {
             "fields": {
              "marker": {
               "colorbar": {
                "outlinewidth": 0,
                "ticks": ""
               }
              },
              "type": "histogram"
             }
            }
           ],
           "histogram2d": [
            {
             "fields": {
              "colorbar": {
               "outlinewidth": 0,
               "ticks": ""
              },
              "colorscale": [
               [
                0,
                "#0d0887"
               ],
               [
                0.1111111111111111,
                "#46039f"
               ],
               [
                0.2222222222222222,
                "#7201a8"
               ],
               [
                0.3333333333333333,
                "#9c179e"
               ],
               [
                0.4444444444444444,
                "#bd3786"
               ],
               [
                0.5555555555555556,
                "#d8576b"
               ],
               [
                0.6666666666666666,
                "#ed7953"
               ],
               [
                0.7777777777777778,
                "#fb9f3a"
               ],
               [
                0.8888888888888888,
                "#fdca26"
               ],
               [
                1,
                "#f0f921"
               ]
              ],
              "type": "histogram2d"
             }
            }
           ],
           "histogram2dcontour": [
            {
             "fields": {
              "colorbar": {
               "outlinewidth": 0,
               "ticks": ""
              },
              "colorscale": [
               [
                0,
                "#0d0887"
               ],
               [
                0.1111111111111111,
                "#46039f"
               ],
               [
                0.2222222222222222,
                "#7201a8"
               ],
               [
                0.3333333333333333,
                "#9c179e"
               ],
               [
                0.4444444444444444,
                "#bd3786"
               ],
               [
                0.5555555555555556,
                "#d8576b"
               ],
               [
                0.6666666666666666,
                "#ed7953"
               ],
               [
                0.7777777777777778,
                "#fb9f3a"
               ],
               [
                0.8888888888888888,
                "#fdca26"
               ],
               [
                1,
                "#f0f921"
               ]
              ],
              "type": "histogram2dcontour"
             }
            }
           ],
           "mesh3d": [
            {
             "fields": {
              "colorbar": {
               "outlinewidth": 0,
               "ticks": ""
              },
              "type": "mesh3d"
             }
            }
           ],
           "parcoords": [
            {
             "fields": {
              "line": {
               "colorbar": {
                "outlinewidth": 0,
                "ticks": ""
               }
              },
              "type": "parcoords"
             }
            }
           ],
           "pie": [
            {
             "fields": {
              "automargin": true,
              "type": "pie"
             }
            }
           ],
           "scatter": [
            {
             "fields": {
              "marker": {
               "colorbar": {
                "outlinewidth": 0,
                "ticks": ""
               }
              },
              "type": "scatter"
             }
            }
           ],
           "scatter3d": [
            {
             "fields": {
              "line": {
               "colorbar": {
                "outlinewidth": 0,
                "ticks": ""
               }
              },
              "marker": {
               "colorbar": {
                "outlinewidth": 0,
                "ticks": ""
               }
              },
              "type": "scatter3d"
             }
            }
           ],
           "scattercarpet": [
            {
             "fields": {
              "marker": {
               "colorbar": {
                "outlinewidth": 0,
                "ticks": ""
               }
              },
              "type": "scattercarpet"
             }
            }
           ],
           "scattergeo": [
            {
             "fields": {
              "marker": {
               "colorbar": {
                "outlinewidth": 0,
                "ticks": ""
               }
              },
              "type": "scattergeo"
             }
            }
           ],
           "scattergl": [
            {
             "fields": {
              "marker": {
               "colorbar": {
                "outlinewidth": 0,
                "ticks": ""
               }
              },
              "type": "scattergl"
             }
            }
           ],
           "scattermapbox": [
            {
             "fields": {
              "marker": {
               "colorbar": {
                "outlinewidth": 0,
                "ticks": ""
               }
              },
              "type": "scattermapbox"
             }
            }
           ],
           "scatterpolar": [
            {
             "fields": {
              "marker": {
               "colorbar": {
                "outlinewidth": 0,
                "ticks": ""
               }
              },
              "type": "scatterpolar"
             }
            }
           ],
           "scatterpolargl": [
            {
             "fields": {
              "marker": {
               "colorbar": {
                "outlinewidth": 0,
                "ticks": ""
               }
              },
              "type": "scatterpolargl"
             }
            }
           ],
           "scatterternary": [
            {
             "fields": {
              "marker": {
               "colorbar": {
                "outlinewidth": 0,
                "ticks": ""
               }
              },
              "type": "scatterternary"
             }
            }
           ],
           "surface": [
            {
             "fields": {
              "colorbar": {
               "outlinewidth": 0,
               "ticks": ""
              },
              "colorscale": [
               [
                0,
                "#0d0887"
               ],
               [
                0.1111111111111111,
                "#46039f"
               ],
               [
                0.2222222222222222,
                "#7201a8"
               ],
               [
                0.3333333333333333,
                "#9c179e"
               ],
               [
                0.4444444444444444,
                "#bd3786"
               ],
               [
                0.5555555555555556,
                "#d8576b"
               ],
               [
                0.6666666666666666,
                "#ed7953"
               ],
               [
                0.7777777777777778,
                "#fb9f3a"
               ],
               [
                0.8888888888888888,
                "#fdca26"
               ],
               [
                1,
                "#f0f921"
               ]
              ],
              "type": "surface"
             }
            }
           ],
           "table": [
            {
             "fields": {
              "cells": {
               "fill": {
                "color": "#EBF0F8"
               },
               "line": {
                "color": "white"
               }
              },
              "header": {
               "fill": {
                "color": "#C8D4E3"
               },
               "line": {
                "color": "white"
               }
              },
              "type": "table"
             }
            }
           ]
          },
          "layout": {
           "fields": {
            "annotationdefaults": {
             "arrowcolor": "#2a3f5f",
             "arrowhead": 0,
             "arrowwidth": 1
            },
            "autotypenumbers": "strict",
            "coloraxis": {
             "colorbar": {
              "outlinewidth": 0,
              "ticks": ""
             }
            },
            "colorscale": {
             "diverging": [
              [
               0,
               "#8e0152"
              ],
              [
               0.1,
               "#c51b7d"
              ],
              [
               0.2,
               "#de77ae"
              ],
              [
               0.3,
               "#f1b6da"
              ],
              [
               0.4,
               "#fde0ef"
              ],
              [
               0.5,
               "#f7f7f7"
              ],
              [
               0.6,
               "#e6f5d0"
              ],
              [
               0.7,
               "#b8e186"
              ],
              [
               0.8,
               "#7fbc41"
              ],
              [
               0.9,
               "#4d9221"
              ],
              [
               1,
               "#276419"
              ]
             ],
             "sequential": [
              [
               0,
               "#0d0887"
              ],
              [
               0.1111111111111111,
               "#46039f"
              ],
              [
               0.2222222222222222,
               "#7201a8"
              ],
              [
               0.3333333333333333,
               "#9c179e"
              ],
              [
               0.4444444444444444,
               "#bd3786"
              ],
              [
               0.5555555555555556,
               "#d8576b"
              ],
              [
               0.6666666666666666,
               "#ed7953"
              ],
              [
               0.7777777777777778,
               "#fb9f3a"
              ],
              [
               0.8888888888888888,
               "#fdca26"
              ],
              [
               1,
               "#f0f921"
              ]
             ],
             "sequentialminus": [
              [
               0,
               "#0d0887"
              ],
              [
               0.1111111111111111,
               "#46039f"
              ],
              [
               0.2222222222222222,
               "#7201a8"
              ],
              [
               0.3333333333333333,
               "#9c179e"
              ],
              [
               0.4444444444444444,
               "#bd3786"
              ],
              [
               0.5555555555555556,
               "#d8576b"
              ],
              [
               0.6666666666666666,
               "#ed7953"
              ],
              [
               0.7777777777777778,
               "#fb9f3a"
              ],
              [
               0.8888888888888888,
               "#fdca26"
              ],
              [
               1,
               "#f0f921"
              ]
             ]
            },
            "colorway": [
             "#636efa",
             "#EF553B",
             "#00cc96",
             "#ab63fa",
             "#FFA15A",
             "#19d3f3",
             "#FF6692",
             "#B6E880",
             "#FF97FF",
             "#FECB52"
            ],
            "font": {
             "color": "#2a3f5f"
            },
            "geo": {
             "bgcolor": "white",
             "lakecolor": "white",
             "landcolor": "#E5ECF6",
             "showlakes": true,
             "showland": true,
             "subunitcolor": "white"
            },
            "hoverlabel": {
             "align": "left"
            },
            "hovermode": "closest",
            "mapbox": {
             "style": "light"
            },
            "paper_bgcolor": "white",
            "plot_bgcolor": "#E5ECF6",
            "polar": {
             "angularaxis": {
              "gridcolor": "white",
              "linecolor": "white",
              "ticks": ""
             },
             "bgcolor": "#E5ECF6",
             "radialaxis": {
              "gridcolor": "white",
              "linecolor": "white",
              "ticks": ""
             }
            },
            "scene": {
             "xaxis": {
              "backgroundcolor": "#E5ECF6",
              "gridcolor": "white",
              "gridwidth": 2,
              "linecolor": "white",
              "showbackground": true,
              "ticks": "",
              "zerolinecolor": "white"
             },
             "yaxis": {
              "backgroundcolor": "#E5ECF6",
              "gridcolor": "white",
              "gridwidth": 2,
              "linecolor": "white",
              "showbackground": true,
              "ticks": "",
              "zerolinecolor": "white"
             },
             "zaxis": {
              "backgroundcolor": "#E5ECF6",
              "gridcolor": "white",
              "gridwidth": 2,
              "linecolor": "white",
              "showbackground": true,
              "ticks": "",
              "zerolinecolor": "white"
             }
            },
            "shapedefaults": {
             "line": {
              "color": "#2a3f5f"
             }
            },
            "ternary": {
             "aaxis": {
              "gridcolor": "white",
              "linecolor": "white",
              "ticks": ""
             },
             "baxis": {
              "gridcolor": "white",
              "linecolor": "white",
              "ticks": ""
             },
             "bgcolor": "#E5ECF6",
             "caxis": {
              "gridcolor": "white",
              "linecolor": "white",
              "ticks": ""
             }
            },
            "title": {
             "x": 0.05
            },
            "xaxis": {
             "automargin": true,
             "gridcolor": "white",
             "linecolor": "white",
             "ticks": "",
             "title": {
              "standoff": 15
             },
             "zerolinecolor": "white",
             "zerolinewidth": 2
            },
            "yaxis": {
             "automargin": true,
             "gridcolor": "white",
             "linecolor": "white",
             "ticks": "",
             "title": {
              "standoff": 15
             },
             "zerolinecolor": "white",
             "zerolinewidth": 2
            }
           }
          }
         },
         "title": "Random unifor distrubuted points",
         "xaxis": {
          "title": {
           "text": "Time"
          }
         },
         "yaxis": {
          "title": {
           "text": "Cumulative P(Failure)"
          }
         }
        },
        "subplots": {
         "_heights": [
          1
         ],
         "_widths": [
          1
         ],
         "cols": 1,
         "column_titles": null,
         "column_widths": null,
         "grid_ref": [
          [
           [
            {
             "layout_keys": [
              "xaxis",
              "yaxis"
             ],
             "subplot_kind": "xy",
             "trace_kwargs": {
              "fields": {
               "xaxis": "x",
               "yaxis": "y"
              }
             }
            }
           ]
          ]
         ],
         "has_secondary_y": false,
         "horizontal_spacing": 0.2,
         "insets": null,
         "max_width": 1,
         "row_heights": null,
         "row_titles": null,
         "rows": 1,
         "shared_xaxes": false,
         "shared_yaxes": false,
         "specs": [
          [
           {
            "b": 0,
            "colspan": 1,
            "kind": "xy",
            "l": 0,
            "r": 0,
            "rowspan": 1,
            "secondary_y": false,
            "t": 0
           }
          ]
         ],
         "start_cell": "top-left",
         "subplot_titles": null,
         "vertical_spacing": 0.3,
         "x_title": null,
         "y_title": null
        }
       }
      },
      "text/html": [
       "<div\n",
       "    class=\"webio-mountpoint\"\n",
       "    data-webio-mountpoint=\"8997854560339148240\"\n",
       ">\n",
       "    <script>\n",
       "    (function(){\n",
       "    // Some integrations (namely, IJulia/Jupyter) use an alternate render pathway than\n",
       "    // just putting the html on the page. If WebIO isn't defined, then it's pretty likely\n",
       "    // that we're in one of those situations and the integration just isn't installed\n",
       "    // correctly.\n",
       "    if (typeof window.WebIO === \"undefined\") {\n",
       "        document\n",
       "            .querySelector('[data-webio-mountpoint=\"8997854560339148240\"]')\n",
       "            .innerHTML = (\n",
       "                '<div style=\"padding: 1em; background-color: #f8d6da; border: 1px solid #f5c6cb; font-weight: bold;\">' +\n",
       "                '<p><strong>WebIO not detected.</strong></p>' +\n",
       "                '<p>Please read ' +\n",
       "                '<a href=\"https://juliagizmos.github.io/WebIO.jl/latest/troubleshooting/not-detected/\" target=\"_blank\">the troubleshooting guide</a> ' +\n",
       "                'for more information on how to resolve this issue.</p>' +\n",
       "                '<p><a href=\"https://juliagizmos.github.io/WebIO.jl/latest/troubleshooting/not-detected/\" target=\"_blank\">https://juliagizmos.github.io/WebIO.jl/latest/troubleshooting/not-detected/</a></p>' +\n",
       "                '</div>'\n",
       "            );\n",
       "        return;\n",
       "    }\n",
       "    WebIO.mount(\n",
       "        document.querySelector('[data-webio-mountpoint=\"8997854560339148240\"]'),\n",
       "        {\"props\":{},\"nodeType\":\"Scope\",\"type\":\"node\",\"instanceArgs\":{\"imports\":{\"data\":[{\"name\":\"Plotly\",\"type\":\"js\",\"url\":\"\\/assetserver\\/87799b371b0b69a5452b1c205724c9adca3ec263-plotly.min.js\"},{\"name\":null,\"type\":\"js\",\"url\":\"\\/assetserver\\/9b94ff4a31b8016d503ee980cb6d623609842ff7-plotly_webio.bundle.js\"}],\"type\":\"async_block\"},\"id\":\"14054404682468301539\",\"handlers\":{\"_toImage\":[\"(function (options){return this.Plotly.toImage(this.plotElem,options).then((function (data){return WebIO.setval({\\\"name\\\":\\\"image\\\",\\\"scope\\\":\\\"14054404682468301539\\\",\\\"id\\\":\\\"11197164756366085536\\\",\\\"type\\\":\\\"observable\\\"},data)}))})\"],\"__get_gd_contents\":[\"(function (prop){prop==\\\"data\\\" ? (WebIO.setval({\\\"name\\\":\\\"__gd_contents\\\",\\\"scope\\\":\\\"14054404682468301539\\\",\\\"id\\\":\\\"7927606486853333804\\\",\\\"type\\\":\\\"observable\\\"},this.plotElem.data)) : undefined; return prop==\\\"layout\\\" ? (WebIO.setval({\\\"name\\\":\\\"__gd_contents\\\",\\\"scope\\\":\\\"14054404682468301539\\\",\\\"id\\\":\\\"7927606486853333804\\\",\\\"type\\\":\\\"observable\\\"},this.plotElem.layout)) : undefined})\"],\"_downloadImage\":[\"(function (options){return this.Plotly.downloadImage(this.plotElem,options)})\"],\"_commands\":[\"(function (args){var fn=args.shift(); var elem=this.plotElem; var Plotly=this.Plotly; args.unshift(elem); return Plotly[fn].apply(this,args)})\"]},\"systemjs_options\":null,\"mount_callbacks\":[\"function () {\\n    var handler = ((function (Plotly,PlotlyWebIO){PlotlyWebIO.init(WebIO); var gd=this.dom.querySelector(\\\"#plot-6f01978b-9397-4382-a8cd-f89a4d5e8980\\\"); this.plotElem=gd; this.Plotly=Plotly; (window.Blink!==undefined) ? (gd.style.width=\\\"100%\\\", gd.style.height=\\\"100vh\\\", gd.style.marginLeft=\\\"0%\\\", gd.style.marginTop=\\\"0vh\\\") : undefined; window.onresize=(function (){return Plotly.Plots.resize(gd)}); Plotly.newPlot(gd,[{\\\"mode\\\":\\\"markers\\\",\\\"y\\\":[0.0,0.02927137938436004,0.17253923869330867,0.2502074771100705,0.26698182072585264,0.39564300370207395,0.44206275124411293,0.6884654885632083,0.7453288918115217,1.0],\\\"type\\\":\\\"scatter\\\",\\\"x\\\":[0,10,20,30,40,50,60,70,80,90]}],{\\\"xaxis\\\":{\\\"title\\\":{\\\"text\\\":\\\"Time\\\"}},\\\"template\\\":{\\\"layout\\\":{\\\"coloraxis\\\":{\\\"colorbar\\\":{\\\"ticks\\\":\\\"\\\",\\\"outlinewidth\\\":0}},\\\"xaxis\\\":{\\\"gridcolor\\\":\\\"white\\\",\\\"zerolinewidth\\\":2,\\\"title\\\":{\\\"standoff\\\":15},\\\"ticks\\\":\\\"\\\",\\\"zerolinecolor\\\":\\\"white\\\",\\\"automargin\\\":true,\\\"linecolor\\\":\\\"white\\\"},\\\"hovermode\\\":\\\"closest\\\",\\\"paper_bgcolor\\\":\\\"white\\\",\\\"geo\\\":{\\\"showlakes\\\":true,\\\"showland\\\":true,\\\"landcolor\\\":\\\"#E5ECF6\\\",\\\"bgcolor\\\":\\\"white\\\",\\\"subunitcolor\\\":\\\"white\\\",\\\"lakecolor\\\":\\\"white\\\"},\\\"colorscale\\\":{\\\"sequential\\\":[[0.0,\\\"#0d0887\\\"],[0.1111111111111111,\\\"#46039f\\\"],[0.2222222222222222,\\\"#7201a8\\\"],[0.3333333333333333,\\\"#9c179e\\\"],[0.4444444444444444,\\\"#bd3786\\\"],[0.5555555555555556,\\\"#d8576b\\\"],[0.6666666666666666,\\\"#ed7953\\\"],[0.7777777777777778,\\\"#fb9f3a\\\"],[0.8888888888888888,\\\"#fdca26\\\"],[1.0,\\\"#f0f921\\\"]],\\\"diverging\\\":[[0,\\\"#8e0152\\\"],[0.1,\\\"#c51b7d\\\"],[0.2,\\\"#de77ae\\\"],[0.3,\\\"#f1b6da\\\"],[0.4,\\\"#fde0ef\\\"],[0.5,\\\"#f7f7f7\\\"],[0.6,\\\"#e6f5d0\\\"],[0.7,\\\"#b8e186\\\"],[0.8,\\\"#7fbc41\\\"],[0.9,\\\"#4d9221\\\"],[1,\\\"#276419\\\"]],\\\"sequentialminus\\\":[[0.0,\\\"#0d0887\\\"],[0.1111111111111111,\\\"#46039f\\\"],[0.2222222222222222,\\\"#7201a8\\\"],[0.3333333333333333,\\\"#9c179e\\\"],[0.4444444444444444,\\\"#bd3786\\\"],[0.5555555555555556,\\\"#d8576b\\\"],[0.6666666666666666,\\\"#ed7953\\\"],[0.7777777777777778,\\\"#fb9f3a\\\"],[0.8888888888888888,\\\"#fdca26\\\"],[1.0,\\\"#f0f921\\\"]]},\\\"yaxis\\\":{\\\"gridcolor\\\":\\\"white\\\",\\\"zerolinewidth\\\":2,\\\"title\\\":{\\\"standoff\\\":15},\\\"ticks\\\":\\\"\\\",\\\"zerolinecolor\\\":\\\"white\\\",\\\"automargin\\\":true,\\\"linecolor\\\":\\\"white\\\"},\\\"shapedefaults\\\":{\\\"line\\\":{\\\"color\\\":\\\"#2a3f5f\\\"}},\\\"hoverlabel\\\":{\\\"align\\\":\\\"left\\\"},\\\"mapbox\\\":{\\\"style\\\":\\\"light\\\"},\\\"polar\\\":{\\\"angularaxis\\\":{\\\"gridcolor\\\":\\\"white\\\",\\\"ticks\\\":\\\"\\\",\\\"linecolor\\\":\\\"white\\\"},\\\"bgcolor\\\":\\\"#E5ECF6\\\",\\\"radialaxis\\\":{\\\"gridcolor\\\":\\\"white\\\",\\\"ticks\\\":\\\"\\\",\\\"linecolor\\\":\\\"white\\\"}},\\\"autotypenumbers\\\":\\\"strict\\\",\\\"font\\\":{\\\"color\\\":\\\"#2a3f5f\\\"},\\\"ternary\\\":{\\\"baxis\\\":{\\\"gridcolor\\\":\\\"white\\\",\\\"ticks\\\":\\\"\\\",\\\"linecolor\\\":\\\"white\\\"},\\\"bgcolor\\\":\\\"#E5ECF6\\\",\\\"caxis\\\":{\\\"gridcolor\\\":\\\"white\\\",\\\"ticks\\\":\\\"\\\",\\\"linecolor\\\":\\\"white\\\"},\\\"aaxis\\\":{\\\"gridcolor\\\":\\\"white\\\",\\\"ticks\\\":\\\"\\\",\\\"linecolor\\\":\\\"white\\\"}},\\\"annotationdefaults\\\":{\\\"arrowhead\\\":0,\\\"arrowwidth\\\":1,\\\"arrowcolor\\\":\\\"#2a3f5f\\\"},\\\"plot_bgcolor\\\":\\\"#E5ECF6\\\",\\\"title\\\":{\\\"x\\\":0.05},\\\"scene\\\":{\\\"xaxis\\\":{\\\"gridcolor\\\":\\\"white\\\",\\\"gridwidth\\\":2,\\\"backgroundcolor\\\":\\\"#E5ECF6\\\",\\\"ticks\\\":\\\"\\\",\\\"showbackground\\\":true,\\\"zerolinecolor\\\":\\\"white\\\",\\\"linecolor\\\":\\\"white\\\"},\\\"zaxis\\\":{\\\"gridcolor\\\":\\\"white\\\",\\\"gridwidth\\\":2,\\\"backgroundcolor\\\":\\\"#E5ECF6\\\",\\\"ticks\\\":\\\"\\\",\\\"showbackground\\\":true,\\\"zerolinecolor\\\":\\\"white\\\",\\\"linecolor\\\":\\\"white\\\"},\\\"yaxis\\\":{\\\"gridcolor\\\":\\\"white\\\",\\\"gridwidth\\\":2,\\\"backgroundcolor\\\":\\\"#E5ECF6\\\",\\\"ticks\\\":\\\"\\\",\\\"showbackground\\\":true,\\\"zerolinecolor\\\":\\\"white\\\",\\\"linecolor\\\":\\\"white\\\"}},\\\"colorway\\\":[\\\"#636efa\\\",\\\"#EF553B\\\",\\\"#00cc96\\\",\\\"#ab63fa\\\",\\\"#FFA15A\\\",\\\"#19d3f3\\\",\\\"#FF6692\\\",\\\"#B6E880\\\",\\\"#FF97FF\\\",\\\"#FECB52\\\"]},\\\"data\\\":{\\\"barpolar\\\":[{\\\"type\\\":\\\"barpolar\\\",\\\"marker\\\":{\\\"line\\\":{\\\"color\\\":\\\"#E5ECF6\\\",\\\"width\\\":0.5}}}],\\\"carpet\\\":[{\\\"aaxis\\\":{\\\"gridcolor\\\":\\\"white\\\",\\\"endlinecolor\\\":\\\"#2a3f5f\\\",\\\"minorgridcolor\\\":\\\"white\\\",\\\"startlinecolor\\\":\\\"#2a3f5f\\\",\\\"linecolor\\\":\\\"white\\\"},\\\"type\\\":\\\"carpet\\\",\\\"baxis\\\":{\\\"gridcolor\\\":\\\"white\\\",\\\"endlinecolor\\\":\\\"#2a3f5f\\\",\\\"minorgridcolor\\\":\\\"white\\\",\\\"startlinecolor\\\":\\\"#2a3f5f\\\",\\\"linecolor\\\":\\\"white\\\"}}],\\\"scatterpolar\\\":[{\\\"type\\\":\\\"scatterpolar\\\",\\\"marker\\\":{\\\"colorbar\\\":{\\\"ticks\\\":\\\"\\\",\\\"outlinewidth\\\":0}}}],\\\"parcoords\\\":[{\\\"line\\\":{\\\"colorbar\\\":{\\\"ticks\\\":\\\"\\\",\\\"outlinewidth\\\":0}},\\\"type\\\":\\\"parcoords\\\"}],\\\"scatter\\\":[{\\\"type\\\":\\\"scatter\\\",\\\"marker\\\":{\\\"colorbar\\\":{\\\"ticks\\\":\\\"\\\",\\\"outlinewidth\\\":0}}}],\\\"histogram2dcontour\\\":[{\\\"colorbar\\\":{\\\"ticks\\\":\\\"\\\",\\\"outlinewidth\\\":0},\\\"type\\\":\\\"histogram2dcontour\\\",\\\"colorscale\\\":[[0.0,\\\"#0d0887\\\"],[0.1111111111111111,\\\"#46039f\\\"],[0.2222222222222222,\\\"#7201a8\\\"],[0.3333333333333333,\\\"#9c179e\\\"],[0.4444444444444444,\\\"#bd3786\\\"],[0.5555555555555556,\\\"#d8576b\\\"],[0.6666666666666666,\\\"#ed7953\\\"],[0.7777777777777778,\\\"#fb9f3a\\\"],[0.8888888888888888,\\\"#fdca26\\\"],[1.0,\\\"#f0f921\\\"]]}],\\\"contour\\\":[{\\\"colorbar\\\":{\\\"ticks\\\":\\\"\\\",\\\"outlinewidth\\\":0},\\\"type\\\":\\\"contour\\\",\\\"colorscale\\\":[[0.0,\\\"#0d0887\\\"],[0.1111111111111111,\\\"#46039f\\\"],[0.2222222222222222,\\\"#7201a8\\\"],[0.3333333333333333,\\\"#9c179e\\\"],[0.4444444444444444,\\\"#bd3786\\\"],[0.5555555555555556,\\\"#d8576b\\\"],[0.6666666666666666,\\\"#ed7953\\\"],[0.7777777777777778,\\\"#fb9f3a\\\"],[0.8888888888888888,\\\"#fdca26\\\"],[1.0,\\\"#f0f921\\\"]]}],\\\"scattercarpet\\\":[{\\\"type\\\":\\\"scattercarpet\\\",\\\"marker\\\":{\\\"colorbar\\\":{\\\"ticks\\\":\\\"\\\",\\\"outlinewidth\\\":0}}}],\\\"mesh3d\\\":[{\\\"colorbar\\\":{\\\"ticks\\\":\\\"\\\",\\\"outlinewidth\\\":0},\\\"type\\\":\\\"mesh3d\\\"}],\\\"surface\\\":[{\\\"colorbar\\\":{\\\"ticks\\\":\\\"\\\",\\\"outlinewidth\\\":0},\\\"type\\\":\\\"surface\\\",\\\"colorscale\\\":[[0.0,\\\"#0d0887\\\"],[0.1111111111111111,\\\"#46039f\\\"],[0.2222222222222222,\\\"#7201a8\\\"],[0.3333333333333333,\\\"#9c179e\\\"],[0.4444444444444444,\\\"#bd3786\\\"],[0.5555555555555556,\\\"#d8576b\\\"],[0.6666666666666666,\\\"#ed7953\\\"],[0.7777777777777778,\\\"#fb9f3a\\\"],[0.8888888888888888,\\\"#fdca26\\\"],[1.0,\\\"#f0f921\\\"]]}],\\\"scattermapbox\\\":[{\\\"type\\\":\\\"scattermapbox\\\",\\\"marker\\\":{\\\"colorbar\\\":{\\\"ticks\\\":\\\"\\\",\\\"outlinewidth\\\":0}}}],\\\"scattergeo\\\":[{\\\"type\\\":\\\"scattergeo\\\",\\\"marker\\\":{\\\"colorbar\\\":{\\\"ticks\\\":\\\"\\\",\\\"outlinewidth\\\":0}}}],\\\"histogram\\\":[{\\\"type\\\":\\\"histogram\\\",\\\"marker\\\":{\\\"colorbar\\\":{\\\"ticks\\\":\\\"\\\",\\\"outlinewidth\\\":0}}}],\\\"pie\\\":[{\\\"type\\\":\\\"pie\\\",\\\"automargin\\\":true}],\\\"choropleth\\\":[{\\\"colorbar\\\":{\\\"ticks\\\":\\\"\\\",\\\"outlinewidth\\\":0},\\\"type\\\":\\\"choropleth\\\"}],\\\"heatmapgl\\\":[{\\\"colorbar\\\":{\\\"ticks\\\":\\\"\\\",\\\"outlinewidth\\\":0},\\\"type\\\":\\\"heatmapgl\\\",\\\"colorscale\\\":[[0.0,\\\"#0d0887\\\"],[0.1111111111111111,\\\"#46039f\\\"],[0.2222222222222222,\\\"#7201a8\\\"],[0.3333333333333333,\\\"#9c179e\\\"],[0.4444444444444444,\\\"#bd3786\\\"],[0.5555555555555556,\\\"#d8576b\\\"],[0.6666666666666666,\\\"#ed7953\\\"],[0.7777777777777778,\\\"#fb9f3a\\\"],[0.8888888888888888,\\\"#fdca26\\\"],[1.0,\\\"#f0f921\\\"]]}],\\\"bar\\\":[{\\\"type\\\":\\\"bar\\\",\\\"error_y\\\":{\\\"color\\\":\\\"#2a3f5f\\\"},\\\"error_x\\\":{\\\"color\\\":\\\"#2a3f5f\\\"},\\\"marker\\\":{\\\"line\\\":{\\\"color\\\":\\\"#E5ECF6\\\",\\\"width\\\":0.5}}}],\\\"heatmap\\\":[{\\\"colorbar\\\":{\\\"ticks\\\":\\\"\\\",\\\"outlinewidth\\\":0},\\\"type\\\":\\\"heatmap\\\",\\\"colorscale\\\":[[0.0,\\\"#0d0887\\\"],[0.1111111111111111,\\\"#46039f\\\"],[0.2222222222222222,\\\"#7201a8\\\"],[0.3333333333333333,\\\"#9c179e\\\"],[0.4444444444444444,\\\"#bd3786\\\"],[0.5555555555555556,\\\"#d8576b\\\"],[0.6666666666666666,\\\"#ed7953\\\"],[0.7777777777777778,\\\"#fb9f3a\\\"],[0.8888888888888888,\\\"#fdca26\\\"],[1.0,\\\"#f0f921\\\"]]}],\\\"contourcarpet\\\":[{\\\"colorbar\\\":{\\\"ticks\\\":\\\"\\\",\\\"outlinewidth\\\":0},\\\"type\\\":\\\"contourcarpet\\\"}],\\\"table\\\":[{\\\"type\\\":\\\"table\\\",\\\"header\\\":{\\\"line\\\":{\\\"color\\\":\\\"white\\\"},\\\"fill\\\":{\\\"color\\\":\\\"#C8D4E3\\\"}},\\\"cells\\\":{\\\"line\\\":{\\\"color\\\":\\\"white\\\"},\\\"fill\\\":{\\\"color\\\":\\\"#EBF0F8\\\"}}}],\\\"scatter3d\\\":[{\\\"line\\\":{\\\"colorbar\\\":{\\\"ticks\\\":\\\"\\\",\\\"outlinewidth\\\":0}},\\\"type\\\":\\\"scatter3d\\\",\\\"marker\\\":{\\\"colorbar\\\":{\\\"ticks\\\":\\\"\\\",\\\"outlinewidth\\\":0}}}],\\\"scattergl\\\":[{\\\"type\\\":\\\"scattergl\\\",\\\"marker\\\":{\\\"colorbar\\\":{\\\"ticks\\\":\\\"\\\",\\\"outlinewidth\\\":0}}}],\\\"histogram2d\\\":[{\\\"colorbar\\\":{\\\"ticks\\\":\\\"\\\",\\\"outlinewidth\\\":0},\\\"type\\\":\\\"histogram2d\\\",\\\"colorscale\\\":[[0.0,\\\"#0d0887\\\"],[0.1111111111111111,\\\"#46039f\\\"],[0.2222222222222222,\\\"#7201a8\\\"],[0.3333333333333333,\\\"#9c179e\\\"],[0.4444444444444444,\\\"#bd3786\\\"],[0.5555555555555556,\\\"#d8576b\\\"],[0.6666666666666666,\\\"#ed7953\\\"],[0.7777777777777778,\\\"#fb9f3a\\\"],[0.8888888888888888,\\\"#fdca26\\\"],[1.0,\\\"#f0f921\\\"]]}],\\\"scatterternary\\\":[{\\\"type\\\":\\\"scatterternary\\\",\\\"marker\\\":{\\\"colorbar\\\":{\\\"ticks\\\":\\\"\\\",\\\"outlinewidth\\\":0}}}],\\\"scatterpolargl\\\":[{\\\"type\\\":\\\"scatterpolargl\\\",\\\"marker\\\":{\\\"colorbar\\\":{\\\"ticks\\\":\\\"\\\",\\\"outlinewidth\\\":0}}}]}},\\\"margin\\\":{\\\"l\\\":50,\\\"b\\\":50,\\\"r\\\":50,\\\"t\\\":60},\\\"yaxis\\\":{\\\"title\\\":{\\\"text\\\":\\\"Cumulative P(Failure)\\\"}},\\\"title\\\":\\\"Random unifor distrubuted points\\\"},{\\\"showLink\\\":false,\\\"editable\\\":false,\\\"responsive\\\":true,\\\"staticPlot\\\":false,\\\"scrollZoom\\\":true}); gd.on(\\\"plotly_hover\\\",(function (data){var filtered_data=WebIO.PlotlyCommands.filterEventData(gd,data,\\\"hover\\\"); return !(filtered_data.isnil) ? (WebIO.setval({\\\"name\\\":\\\"hover\\\",\\\"scope\\\":\\\"14054404682468301539\\\",\\\"id\\\":\\\"2320199571278040764\\\",\\\"type\\\":\\\"observable\\\"},filtered_data.out)) : undefined})); gd.on(\\\"plotly_unhover\\\",(function (){return WebIO.setval({\\\"name\\\":\\\"hover\\\",\\\"scope\\\":\\\"14054404682468301539\\\",\\\"id\\\":\\\"2320199571278040764\\\",\\\"type\\\":\\\"observable\\\"},{})})); gd.on(\\\"plotly_selected\\\",(function (data){var filtered_data=WebIO.PlotlyCommands.filterEventData(gd,data,\\\"selected\\\"); return !(filtered_data.isnil) ? (WebIO.setval({\\\"name\\\":\\\"selected\\\",\\\"scope\\\":\\\"14054404682468301539\\\",\\\"id\\\":\\\"9215138892103438289\\\",\\\"type\\\":\\\"observable\\\"},filtered_data.out)) : undefined})); gd.on(\\\"plotly_deselect\\\",(function (){return WebIO.setval({\\\"name\\\":\\\"selected\\\",\\\"scope\\\":\\\"14054404682468301539\\\",\\\"id\\\":\\\"9215138892103438289\\\",\\\"type\\\":\\\"observable\\\"},{})})); gd.on(\\\"plotly_relayout\\\",(function (data){var filtered_data=WebIO.PlotlyCommands.filterEventData(gd,data,\\\"relayout\\\"); return !(filtered_data.isnil) ? (WebIO.setval({\\\"name\\\":\\\"relayout\\\",\\\"scope\\\":\\\"14054404682468301539\\\",\\\"id\\\":\\\"15622668553072567498\\\",\\\"type\\\":\\\"observable\\\"},filtered_data.out)) : undefined})); return gd.on(\\\"plotly_click\\\",(function (data){var filtered_data=WebIO.PlotlyCommands.filterEventData(gd,data,\\\"click\\\"); return !(filtered_data.isnil) ? (WebIO.setval({\\\"name\\\":\\\"click\\\",\\\"scope\\\":\\\"14054404682468301539\\\",\\\"id\\\":\\\"190120784511349989\\\",\\\"type\\\":\\\"observable\\\"},filtered_data.out)) : undefined}))}));\\n    (WebIO.importBlock({\\\"data\\\":[{\\\"name\\\":\\\"Plotly\\\",\\\"type\\\":\\\"js\\\",\\\"url\\\":\\\"\\/assetserver\\/87799b371b0b69a5452b1c205724c9adca3ec263-plotly.min.js\\\"},{\\\"name\\\":null,\\\"type\\\":\\\"js\\\",\\\"url\\\":\\\"\\/assetserver\\/9b94ff4a31b8016d503ee980cb6d623609842ff7-plotly_webio.bundle.js\\\"}],\\\"type\\\":\\\"async_block\\\"})).then((imports) => handler.apply(this, imports));\\n}\\n\"],\"observables\":{\"_toImage\":{\"sync\":false,\"id\":\"4942120240643987884\",\"value\":{}},\"hover\":{\"sync\":false,\"id\":\"2320199571278040764\",\"value\":{}},\"selected\":{\"sync\":false,\"id\":\"9215138892103438289\",\"value\":{}},\"__gd_contents\":{\"sync\":false,\"id\":\"7927606486853333804\",\"value\":{}},\"click\":{\"sync\":false,\"id\":\"190120784511349989\",\"value\":{}},\"image\":{\"sync\":true,\"id\":\"11197164756366085536\",\"value\":\"\"},\"__get_gd_contents\":{\"sync\":false,\"id\":\"2673860560737913514\",\"value\":\"\"},\"_downloadImage\":{\"sync\":false,\"id\":\"9934768834051150982\",\"value\":{}},\"relayout\":{\"sync\":false,\"id\":\"15622668553072567498\",\"value\":{}},\"_commands\":{\"sync\":false,\"id\":\"12909563420600214382\",\"value\":[]}}},\"children\":[{\"props\":{\"id\":\"plot-6f01978b-9397-4382-a8cd-f89a4d5e8980\"},\"nodeType\":\"DOM\",\"type\":\"node\",\"instanceArgs\":{\"namespace\":\"html\",\"tag\":\"div\"},\"children\":[]}]},\n",
       "        window,\n",
       "    );\n",
       "    })()\n",
       "    </script>\n",
       "</div>\n"
      ],
      "text/plain": [
       "data: [\n",
       "  \"scatter with fields mode, type, x, and y\"\n",
       "]\n",
       "\n",
       "layout: \"layout with fields margin, template, title, xaxis, and yaxis\"\n",
       "\n"
      ]
     },
     "execution_count": 3,
     "metadata": {},
     "output_type": "execute_result"
    }
   ],
   "source": [
    "using Distributions\n",
    "using PlotlyJS\n",
    "using DataFrames\n",
    "\n",
    "\n",
    "# create a uniform vector between 1 and 10\n",
    "T_max = 100\n",
    "k = 10\n",
    "c = zeros(1)\n",
    "\n",
    "append!( c, sort(rand(Uniform(0, 9), 8)), k)\n",
    "\n",
    "xs = [0, 10, 20, 30, 40, 50, 60, 70, 80, 90]\n",
    "\n",
    "ys = c / 10\n",
    "\n",
    "plot(scatter(x=xs, y=ys, mode=\"markers\"),\n",
    "     Layout(yaxis_title=\"Cumulative P(Failure)\", xaxis_title=\"Time\", title=\"Random unifor distrubuted points\"))"
   ]
  },
  {
   "cell_type": "code",
   "execution_count": 4,
   "metadata": {},
   "outputs": [
    {
     "name": "stdout",
     "output_type": "stream",
     "text": [
      "10\n",
      "10\n"
     ]
    },
    {
     "data": {
      "application/vnd.plotly.v1+json": {
       "config": {
        "editable": false,
        "responsive": true,
        "scrollZoom": true,
        "showLink": false,
        "staticPlot": false
       },
       "data": [
        {
         "mode": "markers",
         "type": "scatter",
         "x": [
          0,
          10,
          20,
          30,
          40,
          50,
          60,
          70,
          80,
          90
         ],
         "y": [
          0,
          0.02927137938436004,
          0.17253923869330867,
          0.2502074771100705,
          0.26698182072585264,
          0.39564300370207395,
          0.44206275124411293,
          0.6884654885632083,
          0.7453288918115217,
          1
         ]
        },
        {
         "mode": "lines",
         "type": "scatter",
         "x": [
          0,
          0.9090909090909091,
          1.8181818181818181,
          2.727272727272727,
          3.6363636363636362,
          4.545454545454546,
          5.454545454545454,
          6.363636363636363,
          7.2727272727272725,
          8.181818181818182,
          9.090909090909092,
          10,
          10.909090909090908,
          11.818181818181818,
          12.727272727272727,
          13.636363636363637,
          14.545454545454545,
          15.454545454545455,
          16.363636363636363,
          17.272727272727273,
          18.181818181818183,
          19.09090909090909,
          20,
          20.90909090909091,
          21.818181818181817,
          22.727272727272727,
          23.636363636363637,
          24.545454545454547,
          25.454545454545453,
          26.363636363636363,
          27.272727272727273,
          28.181818181818183,
          29.09090909090909,
          30,
          30.90909090909091,
          31.818181818181817,
          32.72727272727273,
          33.63636363636363,
          34.54545454545455,
          35.45454545454545,
          36.36363636363637,
          37.27272727272727,
          38.18181818181818,
          39.09090909090909,
          40,
          40.90909090909091,
          41.81818181818182,
          42.72727272727273,
          43.63636363636363,
          44.54545454545455,
          45.45454545454545,
          46.36363636363637,
          47.27272727272727,
          48.18181818181818,
          49.09090909090909,
          50,
          50.90909090909091,
          51.81818181818182,
          52.72727272727273,
          53.63636363636363,
          54.54545454545455,
          55.45454545454545,
          56.36363636363637,
          57.27272727272727,
          58.18181818181818,
          59.09090909090909,
          60,
          60.90909090909091,
          61.81818181818182,
          62.72727272727273,
          63.63636363636363,
          64.54545454545455,
          65.45454545454545,
          66.36363636363636,
          67.27272727272727,
          68.18181818181819,
          69.0909090909091,
          70,
          70.9090909090909,
          71.81818181818181,
          72.72727272727273,
          73.63636363636364,
          74.54545454545455,
          75.45454545454545,
          76.36363636363636,
          77.27272727272727,
          78.18181818181819,
          79.0909090909091,
          80,
          80.9090909090909,
          81.81818181818181,
          82.72727272727273,
          83.63636363636364,
          84.54545454545455,
          85.45454545454545,
          86.36363636363636,
          87.27272727272727,
          88.18181818181819,
          89.0909090909091,
          90
         ],
         "y": [
          0,
          0.000316531400776524,
          0.001236277933322296,
          0.0027144680929616174,
          0.0047063303750187885,
          0.007167093274818114,
          0.010051985287683885,
          0.013316234908940407,
          0.016915070633911986,
          0.020803720957922912,
          0.024937414376297512,
          0.02927137938436004,
          0.0355036152485639,
          0.044949660760425246,
          0.05699105370286249,
          0.07100933185879416,
          0.0863860330111386,
          0.10250269494281442,
          0.11874085543673993,
          0.13448205227583368,
          0.14910782324301408,
          0.16199970612119952,
          0.17253923869330867,
          0.1817088400699335,
          0.1908220435889768,
          0.19975705837432267,
          0.20839209354985516,
          0.21660535823945826,
          0.22427506156701615,
          0.23127941265641297,
          0.2374966206315327,
          0.24280489461625948,
          0.24708244373447733,
          0.2502074771100705,
          0.2524480547189534,
          0.25422471671215136,
          0.2556443924762143,
          0.25681401139769217,
          0.2578405028631349,
          0.2588307962590926,
          0.2598918209721151,
          0.26113050638875235,
          0.26265378189555444,
          0.2645685768790711,
          0.26698182072585264,
          0.2716956993798465,
          0.2799620187112413,
          0.2910621379959472,
          0.304277416509875,
          0.3188892135289354,
          0.33417888832903886,
          0.34942780018609615,
          0.3639173083760176,
          0.37692877217471404,
          0.3877435508580959,
          0.39564300370207395,
          0.4012630326656858,
          0.405879436746284,
          0.40973342077725033,
          0.4130661895919675,
          0.4161189480238175,
          0.41913290090618255,
          0.422349253072445,
          0.426009209355987,
          0.43035397459019087,
          0.43562475360843866,
          0.44206275124411293,
          0.45297685171168156,
          0.470546598885507,
          0.493319187088811,
          0.5198418106448168,
          0.5486616638767473,
          0.5783259411078245,
          0.6073818366612714,
          0.6343765448603104,
          0.6578572600281648,
          0.6763711764880562,
          0.6884654885632083,
          0.6960337416163536,
          0.7021533283080504,
          0.7071472139082587,
          0.7113383636869385,
          0.7150497429140491,
          0.7186043168595512,
          0.7223250507934038,
          0.7265349099855672,
          0.7315568597060016,
          0.7377138652246664,
          0.7453288918115217,
          0.755588783756892,
          0.7692763489760934,
          0.7861084981765728,
          0.8058021420657765,
          0.8280741913511507,
          0.8526415567401426,
          0.8792211489401991,
          0.907529878658766,
          0.9372846566032914,
          0.9682023934812202,
          1
         ]
        }
       ],
       "frames": [],
       "layout": {
        "margin": {
         "b": 50,
         "l": 50,
         "r": 50,
         "t": 60
        },
        "template": {
         "data": {
          "bar": [
           {
            "error_x": {
             "color": "#2a3f5f"
            },
            "error_y": {
             "color": "#2a3f5f"
            },
            "marker": {
             "line": {
              "color": "#E5ECF6",
              "width": 0.5
             }
            },
            "type": "bar"
           }
          ],
          "barpolar": [
           {
            "marker": {
             "line": {
              "color": "#E5ECF6",
              "width": 0.5
             }
            },
            "type": "barpolar"
           }
          ],
          "carpet": [
           {
            "aaxis": {
             "endlinecolor": "#2a3f5f",
             "gridcolor": "white",
             "linecolor": "white",
             "minorgridcolor": "white",
             "startlinecolor": "#2a3f5f"
            },
            "baxis": {
             "endlinecolor": "#2a3f5f",
             "gridcolor": "white",
             "linecolor": "white",
             "minorgridcolor": "white",
             "startlinecolor": "#2a3f5f"
            },
            "type": "carpet"
           }
          ],
          "choropleth": [
           {
            "colorbar": {
             "outlinewidth": 0,
             "ticks": ""
            },
            "type": "choropleth"
           }
          ],
          "contour": [
           {
            "colorbar": {
             "outlinewidth": 0,
             "ticks": ""
            },
            "colorscale": [
             [
              0,
              "#0d0887"
             ],
             [
              0.1111111111111111,
              "#46039f"
             ],
             [
              0.2222222222222222,
              "#7201a8"
             ],
             [
              0.3333333333333333,
              "#9c179e"
             ],
             [
              0.4444444444444444,
              "#bd3786"
             ],
             [
              0.5555555555555556,
              "#d8576b"
             ],
             [
              0.6666666666666666,
              "#ed7953"
             ],
             [
              0.7777777777777778,
              "#fb9f3a"
             ],
             [
              0.8888888888888888,
              "#fdca26"
             ],
             [
              1,
              "#f0f921"
             ]
            ],
            "type": "contour"
           }
          ],
          "contourcarpet": [
           {
            "colorbar": {
             "outlinewidth": 0,
             "ticks": ""
            },
            "type": "contourcarpet"
           }
          ],
          "heatmap": [
           {
            "colorbar": {
             "outlinewidth": 0,
             "ticks": ""
            },
            "colorscale": [
             [
              0,
              "#0d0887"
             ],
             [
              0.1111111111111111,
              "#46039f"
             ],
             [
              0.2222222222222222,
              "#7201a8"
             ],
             [
              0.3333333333333333,
              "#9c179e"
             ],
             [
              0.4444444444444444,
              "#bd3786"
             ],
             [
              0.5555555555555556,
              "#d8576b"
             ],
             [
              0.6666666666666666,
              "#ed7953"
             ],
             [
              0.7777777777777778,
              "#fb9f3a"
             ],
             [
              0.8888888888888888,
              "#fdca26"
             ],
             [
              1,
              "#f0f921"
             ]
            ],
            "type": "heatmap"
           }
          ],
          "heatmapgl": [
           {
            "colorbar": {
             "outlinewidth": 0,
             "ticks": ""
            },
            "colorscale": [
             [
              0,
              "#0d0887"
             ],
             [
              0.1111111111111111,
              "#46039f"
             ],
             [
              0.2222222222222222,
              "#7201a8"
             ],
             [
              0.3333333333333333,
              "#9c179e"
             ],
             [
              0.4444444444444444,
              "#bd3786"
             ],
             [
              0.5555555555555556,
              "#d8576b"
             ],
             [
              0.6666666666666666,
              "#ed7953"
             ],
             [
              0.7777777777777778,
              "#fb9f3a"
             ],
             [
              0.8888888888888888,
              "#fdca26"
             ],
             [
              1,
              "#f0f921"
             ]
            ],
            "type": "heatmapgl"
           }
          ],
          "histogram": [
           {
            "marker": {
             "colorbar": {
              "outlinewidth": 0,
              "ticks": ""
             }
            },
            "type": "histogram"
           }
          ],
          "histogram2d": [
           {
            "colorbar": {
             "outlinewidth": 0,
             "ticks": ""
            },
            "colorscale": [
             [
              0,
              "#0d0887"
             ],
             [
              0.1111111111111111,
              "#46039f"
             ],
             [
              0.2222222222222222,
              "#7201a8"
             ],
             [
              0.3333333333333333,
              "#9c179e"
             ],
             [
              0.4444444444444444,
              "#bd3786"
             ],
             [
              0.5555555555555556,
              "#d8576b"
             ],
             [
              0.6666666666666666,
              "#ed7953"
             ],
             [
              0.7777777777777778,
              "#fb9f3a"
             ],
             [
              0.8888888888888888,
              "#fdca26"
             ],
             [
              1,
              "#f0f921"
             ]
            ],
            "type": "histogram2d"
           }
          ],
          "histogram2dcontour": [
           {
            "colorbar": {
             "outlinewidth": 0,
             "ticks": ""
            },
            "colorscale": [
             [
              0,
              "#0d0887"
             ],
             [
              0.1111111111111111,
              "#46039f"
             ],
             [
              0.2222222222222222,
              "#7201a8"
             ],
             [
              0.3333333333333333,
              "#9c179e"
             ],
             [
              0.4444444444444444,
              "#bd3786"
             ],
             [
              0.5555555555555556,
              "#d8576b"
             ],
             [
              0.6666666666666666,
              "#ed7953"
             ],
             [
              0.7777777777777778,
              "#fb9f3a"
             ],
             [
              0.8888888888888888,
              "#fdca26"
             ],
             [
              1,
              "#f0f921"
             ]
            ],
            "type": "histogram2dcontour"
           }
          ],
          "mesh3d": [
           {
            "colorbar": {
             "outlinewidth": 0,
             "ticks": ""
            },
            "type": "mesh3d"
           }
          ],
          "parcoords": [
           {
            "line": {
             "colorbar": {
              "outlinewidth": 0,
              "ticks": ""
             }
            },
            "type": "parcoords"
           }
          ],
          "pie": [
           {
            "automargin": true,
            "type": "pie"
           }
          ],
          "scatter": [
           {
            "marker": {
             "colorbar": {
              "outlinewidth": 0,
              "ticks": ""
             }
            },
            "type": "scatter"
           }
          ],
          "scatter3d": [
           {
            "line": {
             "colorbar": {
              "outlinewidth": 0,
              "ticks": ""
             }
            },
            "marker": {
             "colorbar": {
              "outlinewidth": 0,
              "ticks": ""
             }
            },
            "type": "scatter3d"
           }
          ],
          "scattercarpet": [
           {
            "marker": {
             "colorbar": {
              "outlinewidth": 0,
              "ticks": ""
             }
            },
            "type": "scattercarpet"
           }
          ],
          "scattergeo": [
           {
            "marker": {
             "colorbar": {
              "outlinewidth": 0,
              "ticks": ""
             }
            },
            "type": "scattergeo"
           }
          ],
          "scattergl": [
           {
            "marker": {
             "colorbar": {
              "outlinewidth": 0,
              "ticks": ""
             }
            },
            "type": "scattergl"
           }
          ],
          "scattermapbox": [
           {
            "marker": {
             "colorbar": {
              "outlinewidth": 0,
              "ticks": ""
             }
            },
            "type": "scattermapbox"
           }
          ],
          "scatterpolar": [
           {
            "marker": {
             "colorbar": {
              "outlinewidth": 0,
              "ticks": ""
             }
            },
            "type": "scatterpolar"
           }
          ],
          "scatterpolargl": [
           {
            "marker": {
             "colorbar": {
              "outlinewidth": 0,
              "ticks": ""
             }
            },
            "type": "scatterpolargl"
           }
          ],
          "scatterternary": [
           {
            "marker": {
             "colorbar": {
              "outlinewidth": 0,
              "ticks": ""
             }
            },
            "type": "scatterternary"
           }
          ],
          "surface": [
           {
            "colorbar": {
             "outlinewidth": 0,
             "ticks": ""
            },
            "colorscale": [
             [
              0,
              "#0d0887"
             ],
             [
              0.1111111111111111,
              "#46039f"
             ],
             [
              0.2222222222222222,
              "#7201a8"
             ],
             [
              0.3333333333333333,
              "#9c179e"
             ],
             [
              0.4444444444444444,
              "#bd3786"
             ],
             [
              0.5555555555555556,
              "#d8576b"
             ],
             [
              0.6666666666666666,
              "#ed7953"
             ],
             [
              0.7777777777777778,
              "#fb9f3a"
             ],
             [
              0.8888888888888888,
              "#fdca26"
             ],
             [
              1,
              "#f0f921"
             ]
            ],
            "type": "surface"
           }
          ],
          "table": [
           {
            "cells": {
             "fill": {
              "color": "#EBF0F8"
             },
             "line": {
              "color": "white"
             }
            },
            "header": {
             "fill": {
              "color": "#C8D4E3"
             },
             "line": {
              "color": "white"
             }
            },
            "type": "table"
           }
          ]
         },
         "layout": {
          "annotationdefaults": {
           "arrowcolor": "#2a3f5f",
           "arrowhead": 0,
           "arrowwidth": 1
          },
          "autotypenumbers": "strict",
          "coloraxis": {
           "colorbar": {
            "outlinewidth": 0,
            "ticks": ""
           }
          },
          "colorscale": {
           "diverging": [
            [
             0,
             "#8e0152"
            ],
            [
             0.1,
             "#c51b7d"
            ],
            [
             0.2,
             "#de77ae"
            ],
            [
             0.3,
             "#f1b6da"
            ],
            [
             0.4,
             "#fde0ef"
            ],
            [
             0.5,
             "#f7f7f7"
            ],
            [
             0.6,
             "#e6f5d0"
            ],
            [
             0.7,
             "#b8e186"
            ],
            [
             0.8,
             "#7fbc41"
            ],
            [
             0.9,
             "#4d9221"
            ],
            [
             1,
             "#276419"
            ]
           ],
           "sequential": [
            [
             0,
             "#0d0887"
            ],
            [
             0.1111111111111111,
             "#46039f"
            ],
            [
             0.2222222222222222,
             "#7201a8"
            ],
            [
             0.3333333333333333,
             "#9c179e"
            ],
            [
             0.4444444444444444,
             "#bd3786"
            ],
            [
             0.5555555555555556,
             "#d8576b"
            ],
            [
             0.6666666666666666,
             "#ed7953"
            ],
            [
             0.7777777777777778,
             "#fb9f3a"
            ],
            [
             0.8888888888888888,
             "#fdca26"
            ],
            [
             1,
             "#f0f921"
            ]
           ],
           "sequentialminus": [
            [
             0,
             "#0d0887"
            ],
            [
             0.1111111111111111,
             "#46039f"
            ],
            [
             0.2222222222222222,
             "#7201a8"
            ],
            [
             0.3333333333333333,
             "#9c179e"
            ],
            [
             0.4444444444444444,
             "#bd3786"
            ],
            [
             0.5555555555555556,
             "#d8576b"
            ],
            [
             0.6666666666666666,
             "#ed7953"
            ],
            [
             0.7777777777777778,
             "#fb9f3a"
            ],
            [
             0.8888888888888888,
             "#fdca26"
            ],
            [
             1,
             "#f0f921"
            ]
           ]
          },
          "colorway": [
           "#636efa",
           "#EF553B",
           "#00cc96",
           "#ab63fa",
           "#FFA15A",
           "#19d3f3",
           "#FF6692",
           "#B6E880",
           "#FF97FF",
           "#FECB52"
          ],
          "font": {
           "color": "#2a3f5f"
          },
          "geo": {
           "bgcolor": "white",
           "lakecolor": "white",
           "landcolor": "#E5ECF6",
           "showlakes": true,
           "showland": true,
           "subunitcolor": "white"
          },
          "hoverlabel": {
           "align": "left"
          },
          "hovermode": "closest",
          "mapbox": {
           "style": "light"
          },
          "paper_bgcolor": "white",
          "plot_bgcolor": "#E5ECF6",
          "polar": {
           "angularaxis": {
            "gridcolor": "white",
            "linecolor": "white",
            "ticks": ""
           },
           "bgcolor": "#E5ECF6",
           "radialaxis": {
            "gridcolor": "white",
            "linecolor": "white",
            "ticks": ""
           }
          },
          "scene": {
           "xaxis": {
            "backgroundcolor": "#E5ECF6",
            "gridcolor": "white",
            "gridwidth": 2,
            "linecolor": "white",
            "showbackground": true,
            "ticks": "",
            "zerolinecolor": "white"
           },
           "yaxis": {
            "backgroundcolor": "#E5ECF6",
            "gridcolor": "white",
            "gridwidth": 2,
            "linecolor": "white",
            "showbackground": true,
            "ticks": "",
            "zerolinecolor": "white"
           },
           "zaxis": {
            "backgroundcolor": "#E5ECF6",
            "gridcolor": "white",
            "gridwidth": 2,
            "linecolor": "white",
            "showbackground": true,
            "ticks": "",
            "zerolinecolor": "white"
           }
          },
          "shapedefaults": {
           "line": {
            "color": "#2a3f5f"
           }
          },
          "ternary": {
           "aaxis": {
            "gridcolor": "white",
            "linecolor": "white",
            "ticks": ""
           },
           "baxis": {
            "gridcolor": "white",
            "linecolor": "white",
            "ticks": ""
           },
           "bgcolor": "#E5ECF6",
           "caxis": {
            "gridcolor": "white",
            "linecolor": "white",
            "ticks": ""
           }
          },
          "title": {
           "x": 0.05
          },
          "xaxis": {
           "automargin": true,
           "gridcolor": "white",
           "linecolor": "white",
           "ticks": "",
           "title": {
            "standoff": 15
           },
           "zerolinecolor": "white",
           "zerolinewidth": 2
          },
          "yaxis": {
           "automargin": true,
           "gridcolor": "white",
           "linecolor": "white",
           "ticks": "",
           "title": {
            "standoff": 15
           },
           "zerolinecolor": "white",
           "zerolinewidth": 2
          }
         }
        },
        "title": "Cubic spline (failure CDF)",
        "xaxis": {
         "title": {
          "text": "Time"
         }
        },
        "yaxis": {
         "title": {
          "text": "Cumulative P(Failure)"
         }
        }
       }
      },
      "text/html": [
       "<div\n",
       "    class=\"webio-mountpoint\"\n",
       "    data-webio-mountpoint=\"7012874143355461646\"\n",
       ">\n",
       "    <script>\n",
       "    (function(){\n",
       "    // Some integrations (namely, IJulia/Jupyter) use an alternate render pathway than\n",
       "    // just putting the html on the page. If WebIO isn't defined, then it's pretty likely\n",
       "    // that we're in one of those situations and the integration just isn't installed\n",
       "    // correctly.\n",
       "    if (typeof window.WebIO === \"undefined\") {\n",
       "        document\n",
       "            .querySelector('[data-webio-mountpoint=\"7012874143355461646\"]')\n",
       "            .innerHTML = (\n",
       "                '<div style=\"padding: 1em; background-color: #f8d6da; border: 1px solid #f5c6cb; font-weight: bold;\">' +\n",
       "                '<p><strong>WebIO not detected.</strong></p>' +\n",
       "                '<p>Please read ' +\n",
       "                '<a href=\"https://juliagizmos.github.io/WebIO.jl/latest/troubleshooting/not-detected/\" target=\"_blank\">the troubleshooting guide</a> ' +\n",
       "                'for more information on how to resolve this issue.</p>' +\n",
       "                '<p><a href=\"https://juliagizmos.github.io/WebIO.jl/latest/troubleshooting/not-detected/\" target=\"_blank\">https://juliagizmos.github.io/WebIO.jl/latest/troubleshooting/not-detected/</a></p>' +\n",
       "                '</div>'\n",
       "            );\n",
       "        return;\n",
       "    }\n",
       "    WebIO.mount(\n",
       "        document.querySelector('[data-webio-mountpoint=\"7012874143355461646\"]'),\n",
       "        {\"props\":{},\"nodeType\":\"Scope\",\"type\":\"node\",\"instanceArgs\":{\"imports\":{\"data\":[{\"name\":\"Plotly\",\"type\":\"js\",\"url\":\"\\/assetserver\\/87799b371b0b69a5452b1c205724c9adca3ec263-plotly.min.js\"},{\"name\":null,\"type\":\"js\",\"url\":\"\\/assetserver\\/9b94ff4a31b8016d503ee980cb6d623609842ff7-plotly_webio.bundle.js\"}],\"type\":\"async_block\"},\"id\":\"16331463864397717555\",\"handlers\":{\"_toImage\":[\"(function (options){return this.Plotly.toImage(this.plotElem,options).then((function (data){return WebIO.setval({\\\"name\\\":\\\"image\\\",\\\"scope\\\":\\\"16331463864397717555\\\",\\\"id\\\":\\\"4969109443558396615\\\",\\\"type\\\":\\\"observable\\\"},data)}))})\"],\"__get_gd_contents\":[\"(function (prop){prop==\\\"data\\\" ? (WebIO.setval({\\\"name\\\":\\\"__gd_contents\\\",\\\"scope\\\":\\\"16331463864397717555\\\",\\\"id\\\":\\\"6382969109912888235\\\",\\\"type\\\":\\\"observable\\\"},this.plotElem.data)) : undefined; return prop==\\\"layout\\\" ? (WebIO.setval({\\\"name\\\":\\\"__gd_contents\\\",\\\"scope\\\":\\\"16331463864397717555\\\",\\\"id\\\":\\\"6382969109912888235\\\",\\\"type\\\":\\\"observable\\\"},this.plotElem.layout)) : undefined})\"],\"_downloadImage\":[\"(function (options){return this.Plotly.downloadImage(this.plotElem,options)})\"],\"_commands\":[\"(function (args){var fn=args.shift(); var elem=this.plotElem; var Plotly=this.Plotly; args.unshift(elem); return Plotly[fn].apply(this,args)})\"]},\"systemjs_options\":null,\"mount_callbacks\":[\"function () {\\n    var handler = ((function (Plotly,PlotlyWebIO){PlotlyWebIO.init(WebIO); var gd=this.dom.querySelector(\\\"#plot-a5858535-f0de-4cc4-95ea-f59c336dbee5\\\"); this.plotElem=gd; this.Plotly=Plotly; (window.Blink!==undefined) ? (gd.style.width=\\\"100%\\\", gd.style.height=\\\"100vh\\\", gd.style.marginLeft=\\\"0%\\\", gd.style.marginTop=\\\"0vh\\\") : undefined; window.onresize=(function (){return Plotly.Plots.resize(gd)}); Plotly.newPlot(gd,[{\\\"mode\\\":\\\"markers\\\",\\\"y\\\":[0.0,0.02927137938436004,0.17253923869330867,0.2502074771100705,0.26698182072585264,0.39564300370207395,0.44206275124411293,0.6884654885632083,0.7453288918115217,1.0],\\\"type\\\":\\\"scatter\\\",\\\"x\\\":[0,10,20,30,40,50,60,70,80,90]},{\\\"mode\\\":\\\"lines\\\",\\\"y\\\":[0.0,0.000316531400776524,0.001236277933322296,0.0027144680929616174,0.0047063303750187885,0.007167093274818114,0.010051985287683885,0.013316234908940407,0.016915070633911986,0.020803720957922912,0.024937414376297512,0.02927137938436004,0.0355036152485639,0.044949660760425246,0.05699105370286249,0.07100933185879416,0.0863860330111386,0.10250269494281442,0.11874085543673993,0.13448205227583368,0.14910782324301408,0.16199970612119952,0.17253923869330867,0.1817088400699335,0.1908220435889768,0.19975705837432267,0.20839209354985516,0.21660535823945826,0.22427506156701615,0.23127941265641297,0.2374966206315327,0.24280489461625948,0.24708244373447733,0.2502074771100705,0.2524480547189534,0.25422471671215136,0.2556443924762143,0.25681401139769217,0.2578405028631349,0.2588307962590926,0.2598918209721151,0.26113050638875235,0.26265378189555444,0.2645685768790711,0.26698182072585264,0.2716956993798465,0.2799620187112413,0.2910621379959472,0.304277416509875,0.3188892135289354,0.33417888832903886,0.34942780018609615,0.3639173083760176,0.37692877217471404,0.3877435508580959,0.39564300370207395,0.4012630326656858,0.405879436746284,0.40973342077725033,0.4130661895919675,0.4161189480238175,0.41913290090618255,0.422349253072445,0.426009209355987,0.43035397459019087,0.43562475360843866,0.44206275124411293,0.45297685171168156,0.470546598885507,0.493319187088811,0.5198418106448168,0.5486616638767473,0.5783259411078245,0.6073818366612714,0.6343765448603104,0.6578572600281648,0.6763711764880562,0.6884654885632083,0.6960337416163536,0.7021533283080504,0.7071472139082587,0.7113383636869385,0.7150497429140491,0.7186043168595512,0.7223250507934038,0.7265349099855672,0.7315568597060016,0.7377138652246664,0.7453288918115217,0.755588783756892,0.7692763489760934,0.7861084981765728,0.8058021420657765,0.8280741913511507,0.8526415567401426,0.8792211489401991,0.907529878658766,0.9372846566032914,0.9682023934812202,1.0],\\\"type\\\":\\\"scatter\\\",\\\"x\\\":[0.0,0.9090909090909091,1.8181818181818181,2.727272727272727,3.6363636363636362,4.545454545454546,5.454545454545454,6.363636363636363,7.2727272727272725,8.181818181818182,9.090909090909092,10.0,10.909090909090908,11.818181818181818,12.727272727272727,13.636363636363637,14.545454545454545,15.454545454545455,16.363636363636363,17.272727272727273,18.181818181818183,19.09090909090909,20.0,20.90909090909091,21.818181818181817,22.727272727272727,23.636363636363637,24.545454545454547,25.454545454545453,26.363636363636363,27.272727272727273,28.181818181818183,29.09090909090909,30.0,30.90909090909091,31.818181818181817,32.72727272727273,33.63636363636363,34.54545454545455,35.45454545454545,36.36363636363637,37.27272727272727,38.18181818181818,39.09090909090909,40.0,40.90909090909091,41.81818181818182,42.72727272727273,43.63636363636363,44.54545454545455,45.45454545454545,46.36363636363637,47.27272727272727,48.18181818181818,49.09090909090909,50.0,50.90909090909091,51.81818181818182,52.72727272727273,53.63636363636363,54.54545454545455,55.45454545454545,56.36363636363637,57.27272727272727,58.18181818181818,59.09090909090909,60.0,60.90909090909091,61.81818181818182,62.72727272727273,63.63636363636363,64.54545454545455,65.45454545454545,66.36363636363636,67.27272727272727,68.18181818181819,69.0909090909091,70.0,70.9090909090909,71.81818181818181,72.72727272727273,73.63636363636364,74.54545454545455,75.45454545454545,76.36363636363636,77.27272727272727,78.18181818181819,79.0909090909091,80.0,80.9090909090909,81.81818181818181,82.72727272727273,83.63636363636364,84.54545454545455,85.45454545454545,86.36363636363636,87.27272727272727,88.18181818181819,89.0909090909091,90.0]}],{\\\"xaxis\\\":{\\\"title\\\":{\\\"text\\\":\\\"Time\\\"}},\\\"template\\\":{\\\"layout\\\":{\\\"coloraxis\\\":{\\\"colorbar\\\":{\\\"ticks\\\":\\\"\\\",\\\"outlinewidth\\\":0}},\\\"xaxis\\\":{\\\"gridcolor\\\":\\\"white\\\",\\\"zerolinewidth\\\":2,\\\"title\\\":{\\\"standoff\\\":15},\\\"ticks\\\":\\\"\\\",\\\"zerolinecolor\\\":\\\"white\\\",\\\"automargin\\\":true,\\\"linecolor\\\":\\\"white\\\"},\\\"hovermode\\\":\\\"closest\\\",\\\"paper_bgcolor\\\":\\\"white\\\",\\\"geo\\\":{\\\"showlakes\\\":true,\\\"showland\\\":true,\\\"landcolor\\\":\\\"#E5ECF6\\\",\\\"bgcolor\\\":\\\"white\\\",\\\"subunitcolor\\\":\\\"white\\\",\\\"lakecolor\\\":\\\"white\\\"},\\\"colorscale\\\":{\\\"sequential\\\":[[0.0,\\\"#0d0887\\\"],[0.1111111111111111,\\\"#46039f\\\"],[0.2222222222222222,\\\"#7201a8\\\"],[0.3333333333333333,\\\"#9c179e\\\"],[0.4444444444444444,\\\"#bd3786\\\"],[0.5555555555555556,\\\"#d8576b\\\"],[0.6666666666666666,\\\"#ed7953\\\"],[0.7777777777777778,\\\"#fb9f3a\\\"],[0.8888888888888888,\\\"#fdca26\\\"],[1.0,\\\"#f0f921\\\"]],\\\"diverging\\\":[[0,\\\"#8e0152\\\"],[0.1,\\\"#c51b7d\\\"],[0.2,\\\"#de77ae\\\"],[0.3,\\\"#f1b6da\\\"],[0.4,\\\"#fde0ef\\\"],[0.5,\\\"#f7f7f7\\\"],[0.6,\\\"#e6f5d0\\\"],[0.7,\\\"#b8e186\\\"],[0.8,\\\"#7fbc41\\\"],[0.9,\\\"#4d9221\\\"],[1,\\\"#276419\\\"]],\\\"sequentialminus\\\":[[0.0,\\\"#0d0887\\\"],[0.1111111111111111,\\\"#46039f\\\"],[0.2222222222222222,\\\"#7201a8\\\"],[0.3333333333333333,\\\"#9c179e\\\"],[0.4444444444444444,\\\"#bd3786\\\"],[0.5555555555555556,\\\"#d8576b\\\"],[0.6666666666666666,\\\"#ed7953\\\"],[0.7777777777777778,\\\"#fb9f3a\\\"],[0.8888888888888888,\\\"#fdca26\\\"],[1.0,\\\"#f0f921\\\"]]},\\\"yaxis\\\":{\\\"gridcolor\\\":\\\"white\\\",\\\"zerolinewidth\\\":2,\\\"title\\\":{\\\"standoff\\\":15},\\\"ticks\\\":\\\"\\\",\\\"zerolinecolor\\\":\\\"white\\\",\\\"automargin\\\":true,\\\"linecolor\\\":\\\"white\\\"},\\\"shapedefaults\\\":{\\\"line\\\":{\\\"color\\\":\\\"#2a3f5f\\\"}},\\\"hoverlabel\\\":{\\\"align\\\":\\\"left\\\"},\\\"mapbox\\\":{\\\"style\\\":\\\"light\\\"},\\\"polar\\\":{\\\"angularaxis\\\":{\\\"gridcolor\\\":\\\"white\\\",\\\"ticks\\\":\\\"\\\",\\\"linecolor\\\":\\\"white\\\"},\\\"bgcolor\\\":\\\"#E5ECF6\\\",\\\"radialaxis\\\":{\\\"gridcolor\\\":\\\"white\\\",\\\"ticks\\\":\\\"\\\",\\\"linecolor\\\":\\\"white\\\"}},\\\"autotypenumbers\\\":\\\"strict\\\",\\\"font\\\":{\\\"color\\\":\\\"#2a3f5f\\\"},\\\"ternary\\\":{\\\"baxis\\\":{\\\"gridcolor\\\":\\\"white\\\",\\\"ticks\\\":\\\"\\\",\\\"linecolor\\\":\\\"white\\\"},\\\"bgcolor\\\":\\\"#E5ECF6\\\",\\\"caxis\\\":{\\\"gridcolor\\\":\\\"white\\\",\\\"ticks\\\":\\\"\\\",\\\"linecolor\\\":\\\"white\\\"},\\\"aaxis\\\":{\\\"gridcolor\\\":\\\"white\\\",\\\"ticks\\\":\\\"\\\",\\\"linecolor\\\":\\\"white\\\"}},\\\"annotationdefaults\\\":{\\\"arrowhead\\\":0,\\\"arrowwidth\\\":1,\\\"arrowcolor\\\":\\\"#2a3f5f\\\"},\\\"plot_bgcolor\\\":\\\"#E5ECF6\\\",\\\"title\\\":{\\\"x\\\":0.05},\\\"scene\\\":{\\\"xaxis\\\":{\\\"gridcolor\\\":\\\"white\\\",\\\"gridwidth\\\":2,\\\"backgroundcolor\\\":\\\"#E5ECF6\\\",\\\"ticks\\\":\\\"\\\",\\\"showbackground\\\":true,\\\"zerolinecolor\\\":\\\"white\\\",\\\"linecolor\\\":\\\"white\\\"},\\\"zaxis\\\":{\\\"gridcolor\\\":\\\"white\\\",\\\"gridwidth\\\":2,\\\"backgroundcolor\\\":\\\"#E5ECF6\\\",\\\"ticks\\\":\\\"\\\",\\\"showbackground\\\":true,\\\"zerolinecolor\\\":\\\"white\\\",\\\"linecolor\\\":\\\"white\\\"},\\\"yaxis\\\":{\\\"gridcolor\\\":\\\"white\\\",\\\"gridwidth\\\":2,\\\"backgroundcolor\\\":\\\"#E5ECF6\\\",\\\"ticks\\\":\\\"\\\",\\\"showbackground\\\":true,\\\"zerolinecolor\\\":\\\"white\\\",\\\"linecolor\\\":\\\"white\\\"}},\\\"colorway\\\":[\\\"#636efa\\\",\\\"#EF553B\\\",\\\"#00cc96\\\",\\\"#ab63fa\\\",\\\"#FFA15A\\\",\\\"#19d3f3\\\",\\\"#FF6692\\\",\\\"#B6E880\\\",\\\"#FF97FF\\\",\\\"#FECB52\\\"]},\\\"data\\\":{\\\"barpolar\\\":[{\\\"type\\\":\\\"barpolar\\\",\\\"marker\\\":{\\\"line\\\":{\\\"color\\\":\\\"#E5ECF6\\\",\\\"width\\\":0.5}}}],\\\"carpet\\\":[{\\\"aaxis\\\":{\\\"gridcolor\\\":\\\"white\\\",\\\"endlinecolor\\\":\\\"#2a3f5f\\\",\\\"minorgridcolor\\\":\\\"white\\\",\\\"startlinecolor\\\":\\\"#2a3f5f\\\",\\\"linecolor\\\":\\\"white\\\"},\\\"type\\\":\\\"carpet\\\",\\\"baxis\\\":{\\\"gridcolor\\\":\\\"white\\\",\\\"endlinecolor\\\":\\\"#2a3f5f\\\",\\\"minorgridcolor\\\":\\\"white\\\",\\\"startlinecolor\\\":\\\"#2a3f5f\\\",\\\"linecolor\\\":\\\"white\\\"}}],\\\"scatterpolar\\\":[{\\\"type\\\":\\\"scatterpolar\\\",\\\"marker\\\":{\\\"colorbar\\\":{\\\"ticks\\\":\\\"\\\",\\\"outlinewidth\\\":0}}}],\\\"parcoords\\\":[{\\\"line\\\":{\\\"colorbar\\\":{\\\"ticks\\\":\\\"\\\",\\\"outlinewidth\\\":0}},\\\"type\\\":\\\"parcoords\\\"}],\\\"scatter\\\":[{\\\"type\\\":\\\"scatter\\\",\\\"marker\\\":{\\\"colorbar\\\":{\\\"ticks\\\":\\\"\\\",\\\"outlinewidth\\\":0}}}],\\\"histogram2dcontour\\\":[{\\\"colorbar\\\":{\\\"ticks\\\":\\\"\\\",\\\"outlinewidth\\\":0},\\\"type\\\":\\\"histogram2dcontour\\\",\\\"colorscale\\\":[[0.0,\\\"#0d0887\\\"],[0.1111111111111111,\\\"#46039f\\\"],[0.2222222222222222,\\\"#7201a8\\\"],[0.3333333333333333,\\\"#9c179e\\\"],[0.4444444444444444,\\\"#bd3786\\\"],[0.5555555555555556,\\\"#d8576b\\\"],[0.6666666666666666,\\\"#ed7953\\\"],[0.7777777777777778,\\\"#fb9f3a\\\"],[0.8888888888888888,\\\"#fdca26\\\"],[1.0,\\\"#f0f921\\\"]]}],\\\"contour\\\":[{\\\"colorbar\\\":{\\\"ticks\\\":\\\"\\\",\\\"outlinewidth\\\":0},\\\"type\\\":\\\"contour\\\",\\\"colorscale\\\":[[0.0,\\\"#0d0887\\\"],[0.1111111111111111,\\\"#46039f\\\"],[0.2222222222222222,\\\"#7201a8\\\"],[0.3333333333333333,\\\"#9c179e\\\"],[0.4444444444444444,\\\"#bd3786\\\"],[0.5555555555555556,\\\"#d8576b\\\"],[0.6666666666666666,\\\"#ed7953\\\"],[0.7777777777777778,\\\"#fb9f3a\\\"],[0.8888888888888888,\\\"#fdca26\\\"],[1.0,\\\"#f0f921\\\"]]}],\\\"scattercarpet\\\":[{\\\"type\\\":\\\"scattercarpet\\\",\\\"marker\\\":{\\\"colorbar\\\":{\\\"ticks\\\":\\\"\\\",\\\"outlinewidth\\\":0}}}],\\\"mesh3d\\\":[{\\\"colorbar\\\":{\\\"ticks\\\":\\\"\\\",\\\"outlinewidth\\\":0},\\\"type\\\":\\\"mesh3d\\\"}],\\\"surface\\\":[{\\\"colorbar\\\":{\\\"ticks\\\":\\\"\\\",\\\"outlinewidth\\\":0},\\\"type\\\":\\\"surface\\\",\\\"colorscale\\\":[[0.0,\\\"#0d0887\\\"],[0.1111111111111111,\\\"#46039f\\\"],[0.2222222222222222,\\\"#7201a8\\\"],[0.3333333333333333,\\\"#9c179e\\\"],[0.4444444444444444,\\\"#bd3786\\\"],[0.5555555555555556,\\\"#d8576b\\\"],[0.6666666666666666,\\\"#ed7953\\\"],[0.7777777777777778,\\\"#fb9f3a\\\"],[0.8888888888888888,\\\"#fdca26\\\"],[1.0,\\\"#f0f921\\\"]]}],\\\"scattermapbox\\\":[{\\\"type\\\":\\\"scattermapbox\\\",\\\"marker\\\":{\\\"colorbar\\\":{\\\"ticks\\\":\\\"\\\",\\\"outlinewidth\\\":0}}}],\\\"scattergeo\\\":[{\\\"type\\\":\\\"scattergeo\\\",\\\"marker\\\":{\\\"colorbar\\\":{\\\"ticks\\\":\\\"\\\",\\\"outlinewidth\\\":0}}}],\\\"histogram\\\":[{\\\"type\\\":\\\"histogram\\\",\\\"marker\\\":{\\\"colorbar\\\":{\\\"ticks\\\":\\\"\\\",\\\"outlinewidth\\\":0}}}],\\\"pie\\\":[{\\\"type\\\":\\\"pie\\\",\\\"automargin\\\":true}],\\\"choropleth\\\":[{\\\"colorbar\\\":{\\\"ticks\\\":\\\"\\\",\\\"outlinewidth\\\":0},\\\"type\\\":\\\"choropleth\\\"}],\\\"heatmapgl\\\":[{\\\"colorbar\\\":{\\\"ticks\\\":\\\"\\\",\\\"outlinewidth\\\":0},\\\"type\\\":\\\"heatmapgl\\\",\\\"colorscale\\\":[[0.0,\\\"#0d0887\\\"],[0.1111111111111111,\\\"#46039f\\\"],[0.2222222222222222,\\\"#7201a8\\\"],[0.3333333333333333,\\\"#9c179e\\\"],[0.4444444444444444,\\\"#bd3786\\\"],[0.5555555555555556,\\\"#d8576b\\\"],[0.6666666666666666,\\\"#ed7953\\\"],[0.7777777777777778,\\\"#fb9f3a\\\"],[0.8888888888888888,\\\"#fdca26\\\"],[1.0,\\\"#f0f921\\\"]]}],\\\"bar\\\":[{\\\"type\\\":\\\"bar\\\",\\\"error_y\\\":{\\\"color\\\":\\\"#2a3f5f\\\"},\\\"error_x\\\":{\\\"color\\\":\\\"#2a3f5f\\\"},\\\"marker\\\":{\\\"line\\\":{\\\"color\\\":\\\"#E5ECF6\\\",\\\"width\\\":0.5}}}],\\\"heatmap\\\":[{\\\"colorbar\\\":{\\\"ticks\\\":\\\"\\\",\\\"outlinewidth\\\":0},\\\"type\\\":\\\"heatmap\\\",\\\"colorscale\\\":[[0.0,\\\"#0d0887\\\"],[0.1111111111111111,\\\"#46039f\\\"],[0.2222222222222222,\\\"#7201a8\\\"],[0.3333333333333333,\\\"#9c179e\\\"],[0.4444444444444444,\\\"#bd3786\\\"],[0.5555555555555556,\\\"#d8576b\\\"],[0.6666666666666666,\\\"#ed7953\\\"],[0.7777777777777778,\\\"#fb9f3a\\\"],[0.8888888888888888,\\\"#fdca26\\\"],[1.0,\\\"#f0f921\\\"]]}],\\\"contourcarpet\\\":[{\\\"colorbar\\\":{\\\"ticks\\\":\\\"\\\",\\\"outlinewidth\\\":0},\\\"type\\\":\\\"contourcarpet\\\"}],\\\"table\\\":[{\\\"type\\\":\\\"table\\\",\\\"header\\\":{\\\"line\\\":{\\\"color\\\":\\\"white\\\"},\\\"fill\\\":{\\\"color\\\":\\\"#C8D4E3\\\"}},\\\"cells\\\":{\\\"line\\\":{\\\"color\\\":\\\"white\\\"},\\\"fill\\\":{\\\"color\\\":\\\"#EBF0F8\\\"}}}],\\\"scatter3d\\\":[{\\\"line\\\":{\\\"colorbar\\\":{\\\"ticks\\\":\\\"\\\",\\\"outlinewidth\\\":0}},\\\"type\\\":\\\"scatter3d\\\",\\\"marker\\\":{\\\"colorbar\\\":{\\\"ticks\\\":\\\"\\\",\\\"outlinewidth\\\":0}}}],\\\"scattergl\\\":[{\\\"type\\\":\\\"scattergl\\\",\\\"marker\\\":{\\\"colorbar\\\":{\\\"ticks\\\":\\\"\\\",\\\"outlinewidth\\\":0}}}],\\\"histogram2d\\\":[{\\\"colorbar\\\":{\\\"ticks\\\":\\\"\\\",\\\"outlinewidth\\\":0},\\\"type\\\":\\\"histogram2d\\\",\\\"colorscale\\\":[[0.0,\\\"#0d0887\\\"],[0.1111111111111111,\\\"#46039f\\\"],[0.2222222222222222,\\\"#7201a8\\\"],[0.3333333333333333,\\\"#9c179e\\\"],[0.4444444444444444,\\\"#bd3786\\\"],[0.5555555555555556,\\\"#d8576b\\\"],[0.6666666666666666,\\\"#ed7953\\\"],[0.7777777777777778,\\\"#fb9f3a\\\"],[0.8888888888888888,\\\"#fdca26\\\"],[1.0,\\\"#f0f921\\\"]]}],\\\"scatterternary\\\":[{\\\"type\\\":\\\"scatterternary\\\",\\\"marker\\\":{\\\"colorbar\\\":{\\\"ticks\\\":\\\"\\\",\\\"outlinewidth\\\":0}}}],\\\"scatterpolargl\\\":[{\\\"type\\\":\\\"scatterpolargl\\\",\\\"marker\\\":{\\\"colorbar\\\":{\\\"ticks\\\":\\\"\\\",\\\"outlinewidth\\\":0}}}]}},\\\"margin\\\":{\\\"l\\\":50,\\\"b\\\":50,\\\"r\\\":50,\\\"t\\\":60},\\\"yaxis\\\":{\\\"title\\\":{\\\"text\\\":\\\"Cumulative P(Failure)\\\"}},\\\"title\\\":\\\"Cubic spline (failure CDF)\\\"},{\\\"showLink\\\":false,\\\"editable\\\":false,\\\"responsive\\\":true,\\\"staticPlot\\\":false,\\\"scrollZoom\\\":true}); gd.on(\\\"plotly_hover\\\",(function (data){var filtered_data=WebIO.PlotlyCommands.filterEventData(gd,data,\\\"hover\\\"); return !(filtered_data.isnil) ? (WebIO.setval({\\\"name\\\":\\\"hover\\\",\\\"scope\\\":\\\"16331463864397717555\\\",\\\"id\\\":\\\"8336675995625870978\\\",\\\"type\\\":\\\"observable\\\"},filtered_data.out)) : undefined})); gd.on(\\\"plotly_unhover\\\",(function (){return WebIO.setval({\\\"name\\\":\\\"hover\\\",\\\"scope\\\":\\\"16331463864397717555\\\",\\\"id\\\":\\\"8336675995625870978\\\",\\\"type\\\":\\\"observable\\\"},{})})); gd.on(\\\"plotly_selected\\\",(function (data){var filtered_data=WebIO.PlotlyCommands.filterEventData(gd,data,\\\"selected\\\"); return !(filtered_data.isnil) ? (WebIO.setval({\\\"name\\\":\\\"selected\\\",\\\"scope\\\":\\\"16331463864397717555\\\",\\\"id\\\":\\\"386588243801770235\\\",\\\"type\\\":\\\"observable\\\"},filtered_data.out)) : undefined})); gd.on(\\\"plotly_deselect\\\",(function (){return WebIO.setval({\\\"name\\\":\\\"selected\\\",\\\"scope\\\":\\\"16331463864397717555\\\",\\\"id\\\":\\\"386588243801770235\\\",\\\"type\\\":\\\"observable\\\"},{})})); gd.on(\\\"plotly_relayout\\\",(function (data){var filtered_data=WebIO.PlotlyCommands.filterEventData(gd,data,\\\"relayout\\\"); return !(filtered_data.isnil) ? (WebIO.setval({\\\"name\\\":\\\"relayout\\\",\\\"scope\\\":\\\"16331463864397717555\\\",\\\"id\\\":\\\"16086867458923345842\\\",\\\"type\\\":\\\"observable\\\"},filtered_data.out)) : undefined})); return gd.on(\\\"plotly_click\\\",(function (data){var filtered_data=WebIO.PlotlyCommands.filterEventData(gd,data,\\\"click\\\"); return !(filtered_data.isnil) ? (WebIO.setval({\\\"name\\\":\\\"click\\\",\\\"scope\\\":\\\"16331463864397717555\\\",\\\"id\\\":\\\"10660760172262057703\\\",\\\"type\\\":\\\"observable\\\"},filtered_data.out)) : undefined}))}));\\n    (WebIO.importBlock({\\\"data\\\":[{\\\"name\\\":\\\"Plotly\\\",\\\"type\\\":\\\"js\\\",\\\"url\\\":\\\"\\/assetserver\\/87799b371b0b69a5452b1c205724c9adca3ec263-plotly.min.js\\\"},{\\\"name\\\":null,\\\"type\\\":\\\"js\\\",\\\"url\\\":\\\"\\/assetserver\\/9b94ff4a31b8016d503ee980cb6d623609842ff7-plotly_webio.bundle.js\\\"}],\\\"type\\\":\\\"async_block\\\"})).then((imports) => handler.apply(this, imports));\\n}\\n\"],\"observables\":{\"_toImage\":{\"sync\":false,\"id\":\"3278921934271578608\",\"value\":{}},\"hover\":{\"sync\":false,\"id\":\"8336675995625870978\",\"value\":{}},\"selected\":{\"sync\":false,\"id\":\"386588243801770235\",\"value\":{}},\"__gd_contents\":{\"sync\":false,\"id\":\"6382969109912888235\",\"value\":{}},\"click\":{\"sync\":false,\"id\":\"10660760172262057703\",\"value\":{}},\"image\":{\"sync\":true,\"id\":\"4969109443558396615\",\"value\":\"\"},\"__get_gd_contents\":{\"sync\":false,\"id\":\"7712457605440648439\",\"value\":\"\"},\"_downloadImage\":{\"sync\":false,\"id\":\"947517331620814380\",\"value\":{}},\"relayout\":{\"sync\":false,\"id\":\"16086867458923345842\",\"value\":{}},\"_commands\":{\"sync\":false,\"id\":\"2794383510625560138\",\"value\":[]}}},\"children\":[{\"props\":{\"id\":\"plot-a5858535-f0de-4cc4-95ea-f59c336dbee5\"},\"nodeType\":\"DOM\",\"type\":\"node\",\"instanceArgs\":{\"namespace\":\"html\",\"tag\":\"div\"},\"children\":[]}]},\n",
       "        window,\n",
       "    );\n",
       "    })()\n",
       "    </script>\n",
       "</div>\n"
      ],
      "text/plain": [
       "data: [\n",
       "  \"scatter with fields mode, type, x, and y\",\n",
       "  \"scatter with fields mode, type, x, and y\"\n",
       "]\n",
       "\n",
       "layout: \"layout with fields margin, template, title, xaxis, and yaxis\"\n",
       "\n"
      ]
     },
     "execution_count": 4,
     "metadata": {},
     "output_type": "execute_result"
    }
   ],
   "source": [
    "# Construct failure CDF by fitting a cubic smoothing spline - Hymans cubic smoothing function\n",
    "using PCHIPInterpolation\n",
    "\n",
    "println(length(xs))\n",
    "println(length(ys))\n",
    "\n",
    "itp = Interpolator(xs, ys)\n",
    "\n",
    "x_range = range(xs[1], stop=xs[end], length=100)\n",
    "y_interpolated = [itp(x) for x in x_range]\n",
    "\n",
    "trace_org = scatter(x=xs, y=ys, mode=\"markers\")\n",
    "\n",
    "trace_itp = scatter(x=x_range, y=y_interpolated, mode=\"lines\")\n",
    "\n",
    "plot([trace_org, trace_itp], Layout(yaxis_title=\"Cumulative P(Failure)\", xaxis_title=\"Time\", title=\"Cubic spline (failure CDF)\"))\n"
   ]
  },
  {
   "cell_type": "markdown",
   "metadata": {},
   "source": [
    "**1c)** For each subject in your study, generate a synthetic survival time (see Harden and Kropko Generating Durations). We can assume for now that there is no censoring. Note that a survival function is a CDF for the event-time. This means that you can use simple inverse sampling to get survival time samples. "
   ]
  },
  {
   "cell_type": "code",
   "execution_count": 5,
   "metadata": {},
   "outputs": [
    {
     "name": "stdout",
     "output_type": "stream",
     "text": [
      "\u001b[1m100×3 DataFrame\u001b[0m\n",
      "\u001b[1m Row \u001b[0m│\u001b[1m failure_cdf \u001b[0m\u001b[1m failure_pdf       \u001b[0m\u001b[1m survivor  \u001b[0m\n",
      "\u001b[1m     \u001b[0m│\u001b[90m Float64     \u001b[0m\u001b[90m Float64?          \u001b[0m\u001b[90m Float64   \u001b[0m\n",
      "─────┼───────────────────────────────────────────\n",
      "   1 │ 0.0         \u001b[90m missing           \u001b[0m 1.0\n",
      "   2 │ 0.000316531        0.000316531  0.999683\n",
      "   3 │ 0.00123628         0.000919747  0.998764\n",
      "   4 │ 0.00271447         0.00147819   0.997286\n",
      "   5 │ 0.00470633         0.00199186   0.995294\n",
      "   6 │ 0.00716709         0.00246076   0.992833\n",
      "   7 │ 0.010052           0.00288489   0.989948\n",
      "   8 │ 0.0133162          0.00326425   0.986684\n",
      "   9 │ 0.0169151          0.00359884   0.983085\n",
      "  10 │ 0.0208037          0.00388865   0.979196\n",
      "  11 │ 0.0249374          0.00413369   0.975063\n",
      "  12 │ 0.0292714          0.00433397   0.970729\n",
      "  13 │ 0.0355036          0.00623224   0.964496\n",
      "  14 │ 0.0449497          0.00944605   0.95505\n",
      "  15 │ 0.0569911          0.0120414    0.943009\n",
      "  16 │ 0.0710093          0.0140183    0.928991\n",
      "  17 │ 0.086386           0.0153767    0.913614\n",
      "  18 │ 0.102503           0.0161167    0.897497\n",
      "  19 │ 0.118741           0.0162382    0.881259\n",
      "  20 │ 0.134482           0.0157412    0.865518\n",
      "  21 │ 0.149108           0.0146258    0.850892\n",
      "  22 │ 0.162              0.0128919    0.838\n",
      "  23 │ 0.172539           0.0105395    0.827461\n",
      "  24 │ 0.181709           0.0091696    0.818291\n",
      "  25 │ 0.190822           0.0091132    0.809178\n",
      "  26 │ 0.199757           0.00893501   0.800243\n",
      "  27 │ 0.208392           0.00863504   0.791608\n",
      "  28 │ 0.216605           0.00821326   0.783395\n",
      "  29 │ 0.224275           0.0076697    0.775725\n",
      "  30 │ 0.231279           0.00700435   0.768721\n",
      "  31 │ 0.237497           0.00621721   0.762503\n",
      "  32 │ 0.242805           0.00530827   0.757195\n",
      "  33 │ 0.247082           0.00427755   0.752918\n",
      "  34 │ 0.250207           0.00312503   0.749793\n",
      "  35 │ 0.252448           0.00224058   0.747552\n",
      "  36 │ 0.254225           0.00177666   0.745775\n",
      "  37 │ 0.255644           0.00141968   0.744356\n",
      "  38 │ 0.256814           0.00116962   0.743186\n",
      "  39 │ 0.257841           0.00102649   0.742159\n",
      "  40 │ 0.258831           0.000990293  0.741169\n",
      "  41 │ 0.259892           0.00106102   0.740108\n",
      "  42 │ 0.261131           0.00123869   0.738869\n",
      "  43 │ 0.262654           0.00152328   0.737346\n",
      "  44 │ 0.264569           0.00191479   0.735431\n",
      "  45 │ 0.266982           0.00241324   0.733018\n",
      "  46 │ 0.271696           0.00471388   0.728304\n",
      "  47 │ 0.279962           0.00826632   0.720038\n",
      "  48 │ 0.291062           0.0111001    0.708938\n",
      "  49 │ 0.304277           0.0132153    0.695723\n",
      "  50 │ 0.318889           0.0146118    0.681111\n",
      "  51 │ 0.334179           0.0152897    0.665821\n",
      "  52 │ 0.349428           0.0152489    0.650572\n",
      "  53 │ 0.363917           0.0144895    0.636083\n",
      "  54 │ 0.376929           0.0130115    0.623071\n",
      "  55 │ 0.387744           0.0108148    0.612256\n",
      "  56 │ 0.395643           0.00789945   0.604357\n",
      "  57 │ 0.401263           0.00562003   0.598737\n",
      "  58 │ 0.405879           0.0046164    0.594121\n",
      "  59 │ 0.409733           0.00385398   0.590267\n",
      "  60 │ 0.413066           0.00333277   0.586934\n",
      "  61 │ 0.416119           0.00305276   0.583881\n",
      "  62 │ 0.419133           0.00301395   0.580867\n",
      "  63 │ 0.422349           0.00321635   0.577651\n",
      "  64 │ 0.426009           0.00365996   0.573991\n",
      "  65 │ 0.430354           0.00434477   0.569646\n",
      "  66 │ 0.435625           0.00527078   0.564375\n",
      "  67 │ 0.442063           0.006438     0.557937\n",
      "  68 │ 0.452977           0.0109141    0.547023\n",
      "  69 │ 0.470547           0.0175697    0.529453\n",
      "  70 │ 0.493319           0.0227726    0.506681\n",
      "  71 │ 0.519842           0.0265226    0.480158\n",
      "  72 │ 0.548662           0.0288199    0.451338\n",
      "  73 │ 0.578326           0.0296643    0.421674\n",
      "  74 │ 0.607382           0.0290559    0.392618\n",
      "  75 │ 0.634377           0.0269947    0.365623\n",
      "  76 │ 0.657857           0.0234807    0.342143\n",
      "  77 │ 0.676371           0.0185139    0.323629\n",
      "  78 │ 0.688465           0.0120943    0.311535\n",
      "  79 │ 0.696034           0.00756825   0.303966\n",
      "  80 │ 0.702153           0.00611959   0.297847\n",
      "  81 │ 0.707147           0.00499389   0.292853\n",
      "  82 │ 0.711338           0.00419115   0.288662\n",
      "  83 │ 0.71505            0.00371138   0.28495\n",
      "  84 │ 0.718604           0.00355457   0.281396\n",
      "  85 │ 0.722325           0.00372073   0.277675\n",
      "  86 │ 0.726535           0.00420986   0.273465\n",
      "  87 │ 0.731557           0.00502195   0.268443\n",
      "  88 │ 0.737714           0.00615701   0.262286\n",
      "  89 │ 0.745329           0.00761503   0.254671\n",
      "  90 │ 0.755589           0.0102599    0.244411\n",
      "  91 │ 0.769276           0.0136876    0.230724\n",
      "  92 │ 0.786108           0.0168321    0.213892\n",
      "  93 │ 0.805802           0.0196936    0.194198\n",
      "  94 │ 0.828074           0.022272     0.171926\n",
      "  95 │ 0.852642           0.0245674    0.147358\n",
      "  96 │ 0.879221           0.0265796    0.120779\n",
      "  97 │ 0.90753            0.0283087    0.0924701\n",
      "  98 │ 0.937285           0.0297548    0.0627153\n",
      "  99 │ 0.968202           0.0309177    0.0317976\n",
      " 100 │ 1.0                0.0317976    0.0\n"
     ]
    },
    {
     "name": "stderr",
     "output_type": "stream",
     "text": [
      "WARNING: using Interpolations.knots in module Main conflicts with an existing identifier.\n"
     ]
    }
   ],
   "source": [
    "# get PDF of failure CDF by using the gradient for the failure CDF\n",
    "using Interpolations\n",
    "using ShiftedArrays\n",
    "#using TimeSeries\n",
    "#using Pandas\n",
    "\n",
    "df = DataFrame(failure_cdf=y_interpolated)\n",
    "df = transform(df, :failure_cdf => (x -> x - lag(x)) => :failure_pdf)\n",
    "df = transform(df, :failure_cdf => (x -> (1 .- x)) => :survivor)\n",
    "println(df)\n",
    "\n"
   ]
  },
  {
   "cell_type": "markdown",
   "metadata": {},
   "source": [
    "### Step 2) Cox model implementation\n",
    "\n",
    "**2a)** Create a test function which calls your to be implemented Cox model with your test survival data. You should assert that the estimated hazard ratio values are reasonably close to the ones you used to create your test data."
   ]
  },
  {
   "cell_type": "code",
   "execution_count": null,
   "metadata": {},
   "outputs": [],
   "source": []
  },
  {
   "cell_type": "markdown",
   "metadata": {},
   "source": [
    "**2b)** Implement a Cox regression model that estimates hazard ratios based on event-time data (duration, censoring). You can use a standard optimization package to perform likelihood maximisation. A Newton-type method such as L-BFGS-B or SQP should be sufficient. The likelihood function should hopefully be calculated numerically by the optimization routine. Otherwise you can get it by finite-differencing or algorithmic differentiation. "
   ]
  },
  {
   "cell_type": "code",
   "execution_count": null,
   "metadata": {},
   "outputs": [],
   "source": []
  },
  {
   "cell_type": "markdown",
   "metadata": {},
   "source": [
    "**2c)** Test your new Cox Regression model function with your test function."
   ]
  },
  {
   "cell_type": "code",
   "execution_count": null,
   "metadata": {},
   "outputs": [],
   "source": []
  },
  {
   "cell_type": "markdown",
   "metadata": {},
   "source": [
    "### Step 3) Extension\n",
    "\n",
    "**3a)** Add a random censoring mechanism to your test data. You will need to pick a distribution function for censoring that depends on time. Example functions are uniform (simple) or exponential (to cluster the failure time at the beginning or end of the interval).  An easy way to control the amount of censoring is to extend the censoring PDF to times past the limit of your survival PDF. Check that your Cox model still estimates reasonable hazard ratios given a large enough synthetic sample size."
   ]
  },
  {
   "cell_type": "code",
   "execution_count": null,
   "metadata": {},
   "outputs": [],
   "source": []
  },
  {
   "cell_type": "markdown",
   "metadata": {},
   "source": [
    "**3b)** Create a new test data function and cox regression model for time-varying covariates. You can copy and update your previous functions.\n",
    "You will need to allow your data X to vary over time. This can be achieved with a stochastic process like the Ornstein-Uhlenbeck model, which allows us to control the amount of time-variation in each covariate.\n",
    "\n",
    "https://ipython-books.github.io/134-simulating-a-stochastic-differential-equation/\n",
    "\n",
    "To get the subject specific survival function you can numerically integrate the baseline hazard function multiplied by (X(t) dot beta) over time to get a hazard function. The survival function is then exp(-hazard).\n"
   ]
  }
 ],
 "metadata": {
  "kernelspec": {
   "display_name": "Julia 1.7.1",
   "language": "julia",
   "name": "julia-1.7"
  },
  "language_info": {
   "file_extension": ".jl",
   "mimetype": "application/julia",
   "name": "julia",
   "version": "1.7.1"
  },
  "orig_nbformat": 4
 },
 "nbformat": 4,
 "nbformat_minor": 2
}
